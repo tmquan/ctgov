{
 "cells": [
  {
   "cell_type": "code",
   "execution_count": 1,
   "metadata": {},
   "outputs": [
    {
     "name": "stdout",
     "output_type": "stream",
     "text": [
      "Requirement already satisfied: pdfreader in /data/qtran/anaconda3/envs/py310/lib/python3.10/site-packages (0.1.12)\n",
      "Requirement already satisfied: bitarray>=1.1.0 in /data/qtran/anaconda3/envs/py310/lib/python3.10/site-packages (from pdfreader) (2.7.6)\n",
      "Requirement already satisfied: pillow>=7.1.0 in /data/qtran/anaconda3/envs/py310/lib/python3.10/site-packages (from pdfreader) (9.5.0)\n",
      "Requirement already satisfied: pycryptodome>=3.9.9 in /data/qtran/anaconda3/envs/py310/lib/python3.10/site-packages (from pdfreader) (3.18.0)\n",
      "Requirement already satisfied: python-dateutil>=2.8.1 in /data/qtran/anaconda3/envs/py310/lib/python3.10/site-packages (from pdfreader) (2.8.2)\n",
      "Requirement already satisfied: six>=1.5 in /data/qtran/anaconda3/envs/py310/lib/python3.10/site-packages (from python-dateutil>=2.8.1->pdfreader) (1.16.0)\n"
     ]
    }
   ],
   "source": [
    "! pip install pdfreader"
   ]
  },
  {
   "cell_type": "code",
   "execution_count": 5,
   "metadata": {},
   "outputs": [
    {
     "name": "stdout",
     "output_type": "stream",
     "text": [
      "\n",
      "1\n",
      "1.0 INTRODUCTION 1.1 STUDY RATIONALE\n",
      "Lower back pain (LBP) is a significant cause of morbidity, with an annual prevalence ranging from 15-45% of people [1]. A contributor to lower back pain is the sacroiliac (SI) joint, and an estimated 15-30% of LBP is derived from issues with this joint [2, 3]. In patients with SI joint pathology who fail conservative management, SIJF provides effective pain relief [4, 6], even when compared to optimized conservative management [7-12]. This is a multi-site, prospective, single arm feasibility study.\n",
      "1.2 Risk/Benefit Assessment\n",
      "This is an approved device in use for sacroiliac joint fusion in a real world setting and therefore there is no more risk than standard of care.\n",
      "2.0 OBJECTIVES\n",
      "Primary Objective: To evaluate the effectiveness of the treatment with Siros SI Joint Fusion System\n",
      "Primary endpoints: ¥ Assessment of improvement in SI Joint Pain using the NRS ¥ Assessment of improvement in Back Dysfunction using the ODI\n",
      "¥ # Patients with Serious SAEs ¥ Assessment of improvement in Quality of Life (PROMIS 10) 3.0 STUDY DESIGN\n",
      "3.1 Overall Design This is a prospective, single arm, post-market feasibility pilot study that will include at least five sites for recruitment and enrolment. A minimum of 35 eligible subjects with a diagnosis of degenerative sacroiliitis or sacroiliac joint disruption who meet inclusion/exclusion criteria and are intended to be treated via sacroiliac joint fusion will be enrolled in this study. No placebo or control will be utilized during this study.\n",
      "4.0 STUDY POPULATION 4.1 Inclusion Criteria ¥ Age 21-80 at time of screening ¥ Patient has lower back pain for >6 months\n",
      "¥ Baseline Oswestry Disability Index (ODI) score of at least 30% \n",
      "\n",
      "2\n",
      "4.2 Exclusion Criteria ¥ Severe back pain due to other causes ¥ Other known sacroiliac pathology\n",
      "¥ History of recent (<1 year) major trauma to pelvis ¥ Previously diagnosed and uncorrected osteoporosis\n",
      "4.3 Strategies for Recruitment and Retention Recruitment will be competitive, and to minimize selection bias, consecutive patients meeting pre-defined eligibility criteria will be enrolled. The study team and study coordinator will be informed about all patients who present a diagnosis of degenerative sacroiliitis or sacroiliac joint disruption; these patients will be reviewed by appropriate members of the study staff immediately to determine eligibility for participation in the study.\n",
      "5.0 STUDY INTERVENTION 5.1 Study Intervention Description The Genesys Spine Sacroiliac Joint Fusion System is intended for sacroiliac joint fusion for conditions including degenerative sacroiliitis and sacroiliac joint disruptions.\n",
      "It is FDA cleared under a 510(k) number K191748. 6.0 STUDY ASSESSMENTS AND PROCEDURES 6.1 Safety\n",
      "AEs, SAEs, and SUSARs will be assessed for severity, relationship, and seriousness. 7.0 STATISTICAL CONSIDERATIONS\n",
      "Numbers and percentages and where applicable mean, median, minimum and maximum as well as standard deviation and interquartile range will be described. 95% confidence intervals will be calculated.\n",
      "8.0 REGULATORY, ETHICAL, AND STUDY OVERSIGHT CONSIDERATIONS 8.1\n",
      "Consent Consent forms describing in detail the study intervention, study procedures, and risks are given to the participant and written documentation of informed consent is required prior to starting intervention/administering study intervention.\n",
      "\n",
      "\n",
      "3\n",
      "8.2\n",
      "Confidentiality and Privacy\n",
      "Participant confidentiality and privacy is strictly held in trust by the participating investigators, their staff, and the sponsor(s) and their interventions. This confidentiality is extended to cover testing of biological samples and genetic tests in addition to the clinical information relating to participants.\n",
      "8.3 Data Handling and Record Keeping\n",
      "Study documents should be retained for a minimum of 2 years. These documents should be retained for a longer period, however, if required by local regulations. No records will be destroyed without the written consent of the FDA.\n",
      "8.4 Protocol Deviations\n",
      "A protocol deviation is any noncompliance with the clinical trial protocol, International Conference on Harmonization Good Clinical Practice (ICH GCP), requirements. The noncompliance may be either the participant, the investigator, or the study site staff. As a result of deviations, corrective actions are to be developed by the site and implemented promptly.\n",
      "9.0 REFERENCES\n",
      "1. Comprehensive review of epidemiology, scope, and impact of spinal pain. Manchikanti L, Singh V, Datta S, Cohen SP, Hirsch JA. https://pubmed.ncbi.nlm.nih.gov/19668291/ Pain Physician. 2009;12:35–70. [PubMed] [Google Scholar] 2. The sacroiliac joint in chronic low back pain. Schwarzer AC, Aprill CN, Bogduk N. Spine (Phila Pa 1976) 1995;20:31–37. [PubMed] [Google Scholar] 3. How often is low back pain not coming from the back? Sembrano JN, Polly DW Jr. Spine (Phila Pa 1976) 2009;34:27–32. [PubMed] [Google Scholar] 4. The sacro-iliac joint: a potentially painful enigma. Update on the diagnosis and treatment of pain from micro-trauma. Le Huec JC, Tsoupras A, Leglise A, Heraudet P, Celarier G, Sturresson B. Orthop Traumatol Surg Res. 2019;105:31–42. [PubMed] [Google Scholar] 5. Sacroiliac joint pain: is the medical world aware enough of its existence? Why not considering sacroiliac joint fusion in the recalcitrant cases? Vanaclocha-Vanaclocha V, Sáiz-Sapena N, Vanaclocha L. J Spine Surg. 2019;5:384–386. [PMC free article] [PubMed] [Google Scholar] 6. Minimally invasive sacroiliac joint fusion: the current evidence. Martin CT, Haase L, Lender PA, Polly DW. Int J Spine Surg. 2020;14:20–29. [PMC free article] [PubMed] [Google Scholar] 7. Randomized trial of sacroiliac joint arthrodesis compared with conservative management for chronic low back pain attributed to the sacroiliac joint. Dengler J, Kools D, Pflugmacher R, et al.\n",
      "J Bone Joint Surg Am. 2019;101:400–411. [PMC free article] [PubMed] [Google Scholar]\n",
      "\n",
      "\n",
      "4\n",
      "8. 1-year results of a randomized controlled trial of conservative management vs. minimally invasive surgical treatment for sacroiliac joint pain. Dengler JD, Kools D, Pflugmacher R, et al.\n",
      "https://www.painphysicianjournal.com/current/pdf?article=NDYwOQ%3D%3D&journal=107. Pain Physician. 2017;20:537–550. [PubMed] [Google Scholar] 9. Minimally invasive sacroiliac joint fusion vs. conservative management for chronic sacroiliac joint pain. Polly DW Jr. J Spine Surg. 2019;5:381–383. [PMC free article][PubMed] [Google Scholar] 10. Two-year outcomes from a randomized controlled trial of minimally invasive sacroiliac joint fusion vs. non-surgical management for sacroiliac joint dysfunction. Polly DW, Swofford J, Whang PG, et al.\n",
      "Int J Spine Surg. 2016;10:28. [PMC free article] [PubMed] [Google Scholar] 11. Six-month outcomes from a randomized controlled trial of minimally invasive SI joint fusion with triangular titanium implants vs conservative management. Sturesson B, Kools D, Pflugmacher R, Gasbarrini A, Prestamburgo D, Dengler J. Eur Spine J. 2017;26:708–719.[PubMed] [Google Scholar] 12. Minimally invasive sacroiliac joint fusion, radiofrequency denervation, and conservative management for sacroiliac joint pain: 6-year comparative case series. Vanaclocha V, Herrera JM, Sáiz-Sapena N, Rivera-Paz M, Verdú-López F. Neurosurgery. 2018;82:48–55. [PubMed] [Google Scholar] \n"
     ]
    }
   ],
   "source": [
    "import re \n",
    "from pdfreader import PDFDocument, SimplePDFViewer\n",
    "filepath = \"NCT00000000_Genesys.pdf\"\n",
    "\n",
    "with open(filepath, \"rb\") as file:\n",
    "    doc = PDFDocument(file)\n",
    "    viewer = SimplePDFViewer(file)\n",
    "    \n",
    "    for canvas in viewer:\n",
    "        images = canvas.images\n",
    "        forms = canvas.forms\n",
    "        text = \"\".join(canvas.text_content)\n",
    "        inline_images = canvas.inline_images\n",
    "        strings = \"\".join(canvas.strings)\n",
    "        \n",
    "        strings = re.sub(r'\\s{2,}', '\\n', strings)  # Substitute multiple white spaces with a new line\n",
    "        print(strings)\n"
   ]
  },
  {
   "cell_type": "code",
   "execution_count": null,
   "metadata": {},
   "outputs": [],
   "source": []
  }
 ],
 "metadata": {
  "kernelspec": {
   "display_name": "py310",
   "language": "python",
   "name": "python3"
  },
  "language_info": {
   "codemirror_mode": {
    "name": "ipython",
    "version": 3
   },
   "file_extension": ".py",
   "mimetype": "text/x-python",
   "name": "python",
   "nbconvert_exporter": "python",
   "pygments_lexer": "ipython3",
   "version": "3.10.10"
  },
  "orig_nbformat": 4
 },
 "nbformat": 4,
 "nbformat_minor": 2
}

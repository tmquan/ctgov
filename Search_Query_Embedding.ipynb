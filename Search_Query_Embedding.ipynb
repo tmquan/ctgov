{
 "cells": [
  {
   "cell_type": "code",
   "execution_count": 20,
   "metadata": {},
   "outputs": [],
   "source": [
    "import os \n",
    "import json\n",
    "import numpy as np\n",
    "import pandas as pd\n",
    "import plotly.express as px\n",
    "from langchain.embeddings import OpenAIEmbeddings\n",
    "import sqlalchemy\n",
    "from sqlalchemy import create_engine\n",
    "\n",
    "from pgvector.sqlalchemy import Vector\n",
    "from sqlalchemy import create_engine, insert, select, text, Integer, String, Text\n",
    "from sqlalchemy.orm import declarative_base, mapped_column, Session\n",
    "\n",
    "np.set_printoptions(threshold=np.inf)"
   ]
  },
  {
   "cell_type": "code",
   "execution_count": 12,
   "metadata": {},
   "outputs": [],
   "source": [
    "from dotenv import load_dotenv\n",
    "load_dotenv()\n",
    "\n",
    "OPENAI_API_KEY=os.environ[\"OPENAI_API_KEY\"]\n",
    "POSTGRES_DBURI=os.environ[\"POSTGRES_DBURI\"]"
   ]
  },
  {
   "cell_type": "code",
   "execution_count": 36,
   "metadata": {},
   "outputs": [],
   "source": [
    "engine = create_engine(POSTGRES_DBURI)\n",
    "with engine.connect() as conn:\n",
    "    conn.execute(text('CREATE EXTENSION IF NOT EXISTS vector'))\n",
    "    conn.commit()\n",
    "\n",
    "Base = declarative_base()\n",
    "\n",
    "MODEL = OpenAIEmbeddings(openai_api_key=OPENAI_API_KEY)\n",
    "\n",
    "class Document(Base):\n",
    "    __tablename__ = 'openai_brief_summaries'\n",
    "    \n",
    "    nct_id = mapped_column(String, primary_key=True)\n",
    "    brief_title = mapped_column(Text)\n",
    "    official_title = mapped_column(Text)\n",
    "    baseline_measurements = mapped_column(Text)\n",
    "    brief_summaries = mapped_column(Text)\n",
    "    detailed_descriptions = mapped_column(Text)\n",
    "    criteria = mapped_column(Text)\n",
    "    gender = mapped_column(Text)\n",
    "    minimum_age = mapped_column(Text)\n",
    "    maximum_age = mapped_column(Text)\n",
    "    facilities = mapped_column(Text)\n",
    "    city = mapped_column(Text)\n",
    "    state = mapped_column(Text)\n",
    "    zip = mapped_column(Text)\n",
    "    country = mapped_column(Text)\n",
    "    recruitment_details = mapped_column(Text)\n",
    "    pre_assignment_details = mapped_column(Text)\n",
    "    study_type = mapped_column(Text)\n",
    "    embedding = mapped_column(Vector(1536))\n",
    "\n",
    "Base.metadata.drop_all(engine)\n",
    "Base.metadata.create_all(engine)\n",
    "\n",
    "\n",
    "def _generate_embedding(text=None, model=None):\n",
    "    assert model is not None\n",
    "    embedding = model.embed_documents([text])\n",
    "    embedding = np.array(embedding).squeeze()\n",
    "    return embedding\n",
    "\n",
    "\n",
    "def search(\n",
    "    text,\n",
    "    topk=5,\n",
    "    orient=\"records\",\n",
    "):\n",
    "    # Construct the embedding for the query\n",
    "    text_embeddding = _generate_embedding(text, model=MODEL)\n",
    "    emb_str = np.array2string(\n",
    "        text_embeddding,\n",
    "        precision=10,\n",
    "        separator=',',\n",
    "        max_line_width=np.inf,\n",
    "        suppress_small=False\n",
    "    )\n",
    "\n",
    "    # Query the database\n",
    "    sql_query = sqlalchemy.text(\n",
    "        \"\"\"SELECT\n",
    "           *\n",
    "           FROM (\n",
    "            SELECT \n",
    "              *,\n",
    "              (embedding <-> :emb_str) as score \n",
    "            FROM openai_brief_summaries\n",
    "           ) res\n",
    "           ORDER BY score DESC\n",
    "           LIMIT 1000\n",
    "        \"\"\"\n",
    "    )\n",
    "    ).bindparams(emb_str=emb_str)\n",
    "\n",
    "    # Execute the SQL query and create a pandas DataFrame from the result\n",
    "    df = pd.read_sql_query(sql_query, engine)\n",
    "    \n",
    "    results = dict(similarity=df.head(topk).to_dict(orient=orient))\n",
    "    return results"
   ]
  },
  {
   "cell_type": "code",
   "execution_count": 37,
   "metadata": {},
   "outputs": [
    {
     "data": {
      "text/plain": [
       "{'similarity': {'nct_id': {},\n",
       "  'brief_title': {},\n",
       "  'official_title': {},\n",
       "  'baseline_measurements': {},\n",
       "  'brief_summaries': {},\n",
       "  'detailed_descriptions': {},\n",
       "  'criteria': {},\n",
       "  'gender': {},\n",
       "  'minimum_age': {},\n",
       "  'maximum_age': {},\n",
       "  'facilities': {},\n",
       "  'city': {},\n",
       "  'state': {},\n",
       "  'zip': {},\n",
       "  'country': {},\n",
       "  'recruitment_details': {},\n",
       "  'pre_assignment_details': {},\n",
       "  'study_type': {},\n",
       "  'embedding': {}}}"
      ]
     },
     "execution_count": 37,
     "metadata": {},
     "output_type": "execute_result"
    }
   ],
   "source": [
    "df  = search(text=\"leukemia\", orient=\"dict\")\n",
    "df"
   ]
  },
  {
   "cell_type": "code",
   "execution_count": null,
   "metadata": {},
   "outputs": [],
   "source": []
  }
 ],
 "metadata": {
  "kernelspec": {
   "display_name": "py310",
   "language": "python",
   "name": "python3"
  },
  "language_info": {
   "codemirror_mode": {
    "name": "ipython",
    "version": 3
   },
   "file_extension": ".py",
   "mimetype": "text/x-python",
   "name": "python",
   "nbconvert_exporter": "python",
   "pygments_lexer": "ipython3",
   "version": "3.10.11"
  },
  "orig_nbformat": 4
 },
 "nbformat": 4,
 "nbformat_minor": 2
}

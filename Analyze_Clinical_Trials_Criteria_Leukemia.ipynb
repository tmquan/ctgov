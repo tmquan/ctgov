{
 "cells": [
  {
   "cell_type": "code",
   "execution_count": 12,
   "metadata": {},
   "outputs": [],
   "source": [
    "import pandas as pd\n",
    "import numpy as np \n",
    "import re \n",
    "import umap\n",
    "import umap.plot\n",
    "from sklearn.manifold import TSNE\n",
    "\n",
    "import matplotlib.pyplot as plt \n",
    "from tqdm.auto import tqdm\n",
    "import seaborn as sns \n",
    "import plotly.express as px\n"
   ]
  },
  {
   "cell_type": "code",
   "execution_count": 13,
   "metadata": {},
   "outputs": [
    {
     "data": {
      "text/html": [
       "<div>\n",
       "<style scoped>\n",
       "    .dataframe tbody tr th:only-of-type {\n",
       "        vertical-align: middle;\n",
       "    }\n",
       "\n",
       "    .dataframe tbody tr th {\n",
       "        vertical-align: top;\n",
       "    }\n",
       "\n",
       "    .dataframe thead th {\n",
       "        text-align: right;\n",
       "    }\n",
       "</style>\n",
       "<table border=\"1\" class=\"dataframe\">\n",
       "  <thead>\n",
       "    <tr style=\"text-align: right;\">\n",
       "      <th></th>\n",
       "      <th>brief_title</th>\n",
       "      <th>official_title</th>\n",
       "      <th>overall_status</th>\n",
       "      <th>baseline_measurements</th>\n",
       "      <th>brief_summaries</th>\n",
       "      <th>detailed_descriptions</th>\n",
       "      <th>criteria</th>\n",
       "      <th>gender</th>\n",
       "      <th>minimum_age</th>\n",
       "      <th>maximum_age</th>\n",
       "      <th>facilities</th>\n",
       "      <th>city</th>\n",
       "      <th>state</th>\n",
       "      <th>zip</th>\n",
       "      <th>country</th>\n",
       "      <th>recruitment_details</th>\n",
       "      <th>pre_assignment_details</th>\n",
       "      <th>study_type</th>\n",
       "      <th>embeddings</th>\n",
       "    </tr>\n",
       "    <tr>\n",
       "      <th>nct_id</th>\n",
       "      <th></th>\n",
       "      <th></th>\n",
       "      <th></th>\n",
       "      <th></th>\n",
       "      <th></th>\n",
       "      <th></th>\n",
       "      <th></th>\n",
       "      <th></th>\n",
       "      <th></th>\n",
       "      <th></th>\n",
       "      <th></th>\n",
       "      <th></th>\n",
       "      <th></th>\n",
       "      <th></th>\n",
       "      <th></th>\n",
       "      <th></th>\n",
       "      <th></th>\n",
       "      <th></th>\n",
       "      <th></th>\n",
       "    </tr>\n",
       "  </thead>\n",
       "  <tbody>\n",
       "    <tr>\n",
       "      <th>NCT00000143</th>\n",
       "      <td>Studies of Ocular Complications of AIDS (SOCA)...</td>\n",
       "      <td>Studies of Ocular Complications of AIDS (SOCA)...</td>\n",
       "      <td>Completed</td>\n",
       "      <td>NaN</td>\n",
       "      <td>To compare the newest CMV retinitis drug, cido...</td>\n",
       "      <td>Cytomegalovirus (CMV) is among the most freque...</td>\n",
       "      <td>Inclusion criteria:\\n\\nAge 13 years or older\\n...</td>\n",
       "      <td>All</td>\n",
       "      <td>13 Years</td>\n",
       "      <td>NaN</td>\n",
       "      <td>University of South Florida, MDC Box 21</td>\n",
       "      <td>Tampa</td>\n",
       "      <td>Texas</td>\n",
       "      <td>94143</td>\n",
       "      <td>United States</td>\n",
       "      <td>June 1997</td>\n",
       "      <td>NaN</td>\n",
       "      <td>Interventional</td>\n",
       "      <td>[-0.009765988955702291, 0.0010155662695186536,...</td>\n",
       "    </tr>\n",
       "    <tr>\n",
       "      <th>NCT00000378</th>\n",
       "      <td>Antidepressant Treatment of Melancholia in Lat...</td>\n",
       "      <td>Antidepressant Treatment of Melancholia in Lat...</td>\n",
       "      <td>Completed</td>\n",
       "      <td>NaN</td>\n",
       "      <td>The purpose of this study is to compare the sa...</td>\n",
       "      <td>To compare the efficacy and safety of a select...</td>\n",
       "      <td>Inclusion Criteria:\\n\\n-\\n\\nPatients must have...</td>\n",
       "      <td>All</td>\n",
       "      <td>60 Years</td>\n",
       "      <td>95 Years</td>\n",
       "      <td>1051 Riverside Drive</td>\n",
       "      <td>New York</td>\n",
       "      <td>New York</td>\n",
       "      <td>10032</td>\n",
       "      <td>United States</td>\n",
       "      <td>NaN</td>\n",
       "      <td>NaN</td>\n",
       "      <td>Interventional</td>\n",
       "      <td>[-0.01376020029446681, -0.0032447056218115897,...</td>\n",
       "    </tr>\n",
       "    <tr>\n",
       "      <th>NCT00000620</th>\n",
       "      <td>Action to Control Cardiovascular Risk in Diabe...</td>\n",
       "      <td>Action to Control Cardiovascular Risk in Diabe...</td>\n",
       "      <td>Completed</td>\n",
       "      <td>NaN</td>\n",
       "      <td>The purpose of this study is to prevent major ...</td>\n",
       "      <td>BACKGROUND:\\n\\nCurrently, about 17 million Ame...</td>\n",
       "      <td>Inclusion Criteria:\\n\\nDiagnosed with type 2 d...</td>\n",
       "      <td>All</td>\n",
       "      <td>40 Years</td>\n",
       "      <td>79 Years</td>\n",
       "      <td>Wake Forest University</td>\n",
       "      <td>Winston-Salem</td>\n",
       "      <td>Washington</td>\n",
       "      <td>98195</td>\n",
       "      <td>United States</td>\n",
       "      <td>All participants had established type 2 diabet...</td>\n",
       "      <td>Eligible participants provided evidence of abi...</td>\n",
       "      <td>Interventional</td>\n",
       "      <td>[-0.026839681768819446, -0.021970773769895282,...</td>\n",
       "    </tr>\n",
       "    <tr>\n",
       "      <th>NCT00001151</th>\n",
       "      <td>Studies With 1,25-Dihydroxycholecalciferol</td>\n",
       "      <td>Studies With 1,25-Dihydroxycholecalciferol</td>\n",
       "      <td>Terminated</td>\n",
       "      <td>NaN</td>\n",
       "      <td>Vitamin D in the diet undergoes changes in the...</td>\n",
       "      <td>Patients with extreme resistance to 1,25-dihyd...</td>\n",
       "      <td>INCLUSION CRITERIA:\\n\\nPatients with hereditar...</td>\n",
       "      <td>All</td>\n",
       "      <td>NaN</td>\n",
       "      <td>NaN</td>\n",
       "      <td>National Institutes of Health Clinical Center,...</td>\n",
       "      <td>Bethesda</td>\n",
       "      <td>Maryland</td>\n",
       "      <td>20892</td>\n",
       "      <td>United States</td>\n",
       "      <td>NaN</td>\n",
       "      <td>NaN</td>\n",
       "      <td>Interventional</td>\n",
       "      <td>[-0.0031137232839347855, -0.007138206517213198...</td>\n",
       "    </tr>\n",
       "    <tr>\n",
       "      <th>NCT00001213</th>\n",
       "      <td>Cysteamine Eye Drops to Treat Corneal Crystals...</td>\n",
       "      <td>Trial of Topical Cysteamine in the Treatment o...</td>\n",
       "      <td>Completed</td>\n",
       "      <td>Although 328 participants were initially enrol...</td>\n",
       "      <td>Cystinosis is an inherited disease that result...</td>\n",
       "      <td>Protocol 86-EI-0062 began as a randomized, dou...</td>\n",
       "      <td>INCLUSION CRITERIA:\\n\\nPatients must have a do...</td>\n",
       "      <td>All</td>\n",
       "      <td>2 Years</td>\n",
       "      <td>NaN</td>\n",
       "      <td>National Institutes of Health Clinical Center,...</td>\n",
       "      <td>Bethesda</td>\n",
       "      <td>Maryland</td>\n",
       "      <td>20892</td>\n",
       "      <td>United States</td>\n",
       "      <td>NaN</td>\n",
       "      <td>NaN</td>\n",
       "      <td>Interventional</td>\n",
       "      <td>[0.0031660161636455526, -0.016164252393602824,...</td>\n",
       "    </tr>\n",
       "    <tr>\n",
       "      <th>...</th>\n",
       "      <td>...</td>\n",
       "      <td>...</td>\n",
       "      <td>...</td>\n",
       "      <td>...</td>\n",
       "      <td>...</td>\n",
       "      <td>...</td>\n",
       "      <td>...</td>\n",
       "      <td>...</td>\n",
       "      <td>...</td>\n",
       "      <td>...</td>\n",
       "      <td>...</td>\n",
       "      <td>...</td>\n",
       "      <td>...</td>\n",
       "      <td>...</td>\n",
       "      <td>...</td>\n",
       "      <td>...</td>\n",
       "      <td>...</td>\n",
       "      <td>...</td>\n",
       "      <td>...</td>\n",
       "    </tr>\n",
       "    <tr>\n",
       "      <th>NCT05490771</th>\n",
       "      <td>Testing Copanlisib as a Potential Targeted Tre...</td>\n",
       "      <td>Phase II Study of Copanlisib in Patients With ...</td>\n",
       "      <td>Active, not recruiting</td>\n",
       "      <td>NaN</td>\n",
       "      <td>This phase II MATCH treatment trial identifies...</td>\n",
       "      <td>PRIMARY OBJECTIVE:\\n\\nI. To evaluate the propo...</td>\n",
       "      <td>Inclusion Criteria:\\n\\nPatients must have met ...</td>\n",
       "      <td>All</td>\n",
       "      <td>18 Years</td>\n",
       "      <td>NaN</td>\n",
       "      <td>ECOG-ACRIN Cancer Research Group</td>\n",
       "      <td>Philadelphia</td>\n",
       "      <td>Pennsylvania</td>\n",
       "      <td>19103</td>\n",
       "      <td>United States</td>\n",
       "      <td>Subprotocol Z1F was activated on June 20, 2018...</td>\n",
       "      <td>The PIK3CA mutations status was determined by ...</td>\n",
       "      <td>Interventional</td>\n",
       "      <td>[-0.04224925405394027, -0.007825714382569795, ...</td>\n",
       "    </tr>\n",
       "    <tr>\n",
       "      <th>NCT05502081</th>\n",
       "      <td>Clinical Study to Compare Efficacy and Safety ...</td>\n",
       "      <td>Clinical Study to Evaluate the Possible Effica...</td>\n",
       "      <td>Completed</td>\n",
       "      <td>0. Uninfected\\n\\nAmbulatory mild disease\\n\\nAs...</td>\n",
       "      <td>Introduction:\\n\\nCorona Virus induced disease ...</td>\n",
       "      <td>I. INTRODUCTION\\n\\n1.1. COVID-19 overview and ...</td>\n",
       "      <td>Inclusion Criteria:\\n\\nage more than 12 years ...</td>\n",
       "      <td>All</td>\n",
       "      <td>12 Years</td>\n",
       "      <td>NaN</td>\n",
       "      <td>El-gomhoria St</td>\n",
       "      <td>Mansoura</td>\n",
       "      <td>El-dkhalia</td>\n",
       "      <td>050</td>\n",
       "      <td>Egypt</td>\n",
       "      <td>from 1/11/2021 to 29/5/2022 at isolation hospi...</td>\n",
       "      <td>assignment is applied after admission of parti...</td>\n",
       "      <td>Interventional</td>\n",
       "      <td>[-0.027767390415470324, 0.012096415449287686, ...</td>\n",
       "    </tr>\n",
       "    <tr>\n",
       "      <th>NCT05594173</th>\n",
       "      <td>Chewing and Oral Processing of Solid Food</td>\n",
       "      <td>Chewing and Oral Processing of Solid Food in H...</td>\n",
       "      <td>Completed</td>\n",
       "      <td>NaN</td>\n",
       "      <td>Food texture modification is commonly used as ...</td>\n",
       "      <td>Aim: To explore chewing and oral processing be...</td>\n",
       "      <td>Inclusion Criteria:\\n\\nHealthy adults under ag...</td>\n",
       "      <td>All</td>\n",
       "      <td>18 Years</td>\n",
       "      <td>60 Years</td>\n",
       "      <td>Toronto Rehabilitation Institute - University ...</td>\n",
       "      <td>Toronto</td>\n",
       "      <td>Ontario</td>\n",
       "      <td>M5G 2A2</td>\n",
       "      <td>Canada</td>\n",
       "      <td>NaN</td>\n",
       "      <td>NaN</td>\n",
       "      <td>Observational</td>\n",
       "      <td>[-0.002366308585135517, 0.016306990734160445, ...</td>\n",
       "    </tr>\n",
       "    <tr>\n",
       "      <th>NCT05607147</th>\n",
       "      <td>Rutgers Pilot for Dental Health Care Worker SA...</td>\n",
       "      <td>Rutgers Pilot for Pragmatic Return to Effectiv...</td>\n",
       "      <td>Active, not recruiting</td>\n",
       "      <td>NaN</td>\n",
       "      <td>10 asymptomatic DHCWs in the Oral Medicine cli...</td>\n",
       "      <td>10 asymptomatic DHCWs in the Oral Medicine cli...</td>\n",
       "      <td>Inclusion Criteria:\\n\\nDental healthcare worke...</td>\n",
       "      <td>All</td>\n",
       "      <td>18 Years</td>\n",
       "      <td>NaN</td>\n",
       "      <td>Rutgers School of Dental Medicine</td>\n",
       "      <td>Newark</td>\n",
       "      <td>New Jersey</td>\n",
       "      <td>07103</td>\n",
       "      <td>United States</td>\n",
       "      <td>10 asymptomatic DHCWs in the Oral Medicine cli...</td>\n",
       "      <td>NaN</td>\n",
       "      <td>Interventional</td>\n",
       "      <td>[-0.010185096847858578, 0.004955282646439835, ...</td>\n",
       "    </tr>\n",
       "    <tr>\n",
       "      <th>NCT05736861</th>\n",
       "      <td>ACTIV-6: COVID-19 Study of Repurposed Medicati...</td>\n",
       "      <td>ACTIV-6: COVID-19 Outpatient Randomized Trial ...</td>\n",
       "      <td>Completed</td>\n",
       "      <td>NaN</td>\n",
       "      <td>The purpose of this study is to evaluate the e...</td>\n",
       "      <td>Severe acute respiratory syndrome coronavirus ...</td>\n",
       "      <td>Inclusion Criteria:\\n\\nCompleted Informed Cons...</td>\n",
       "      <td>All</td>\n",
       "      <td>30 Years</td>\n",
       "      <td>NaN</td>\n",
       "      <td>Well Pharma Medical Research</td>\n",
       "      <td>Yonkers</td>\n",
       "      <td>Virginia</td>\n",
       "      <td>94304</td>\n",
       "      <td>United States</td>\n",
       "      <td>NaN</td>\n",
       "      <td>NaN</td>\n",
       "      <td>Interventional</td>\n",
       "      <td>[-0.02714322457772749, 0.0015502643953794661, ...</td>\n",
       "    </tr>\n",
       "  </tbody>\n",
       "</table>\n",
       "<p>34983 rows × 19 columns</p>\n",
       "</div>"
      ],
      "text/plain": [
       "                                                   brief_title  \\\n",
       "nct_id                                                           \n",
       "NCT00000143  Studies of Ocular Complications of AIDS (SOCA)...   \n",
       "NCT00000378  Antidepressant Treatment of Melancholia in Lat...   \n",
       "NCT00000620  Action to Control Cardiovascular Risk in Diabe...   \n",
       "NCT00001151         Studies With 1,25-Dihydroxycholecalciferol   \n",
       "NCT00001213  Cysteamine Eye Drops to Treat Corneal Crystals...   \n",
       "...                                                        ...   \n",
       "NCT05490771  Testing Copanlisib as a Potential Targeted Tre...   \n",
       "NCT05502081  Clinical Study to Compare Efficacy and Safety ...   \n",
       "NCT05594173          Chewing and Oral Processing of Solid Food   \n",
       "NCT05607147  Rutgers Pilot for Dental Health Care Worker SA...   \n",
       "NCT05736861  ACTIV-6: COVID-19 Study of Repurposed Medicati...   \n",
       "\n",
       "                                                official_title  \\\n",
       "nct_id                                                           \n",
       "NCT00000143  Studies of Ocular Complications of AIDS (SOCA)...   \n",
       "NCT00000378  Antidepressant Treatment of Melancholia in Lat...   \n",
       "NCT00000620  Action to Control Cardiovascular Risk in Diabe...   \n",
       "NCT00001151         Studies With 1,25-Dihydroxycholecalciferol   \n",
       "NCT00001213  Trial of Topical Cysteamine in the Treatment o...   \n",
       "...                                                        ...   \n",
       "NCT05490771  Phase II Study of Copanlisib in Patients With ...   \n",
       "NCT05502081  Clinical Study to Evaluate the Possible Effica...   \n",
       "NCT05594173  Chewing and Oral Processing of Solid Food in H...   \n",
       "NCT05607147  Rutgers Pilot for Pragmatic Return to Effectiv...   \n",
       "NCT05736861  ACTIV-6: COVID-19 Outpatient Randomized Trial ...   \n",
       "\n",
       "                     overall_status  \\\n",
       "nct_id                                \n",
       "NCT00000143               Completed   \n",
       "NCT00000378               Completed   \n",
       "NCT00000620               Completed   \n",
       "NCT00001151              Terminated   \n",
       "NCT00001213               Completed   \n",
       "...                             ...   \n",
       "NCT05490771  Active, not recruiting   \n",
       "NCT05502081               Completed   \n",
       "NCT05594173               Completed   \n",
       "NCT05607147  Active, not recruiting   \n",
       "NCT05736861               Completed   \n",
       "\n",
       "                                         baseline_measurements  \\\n",
       "nct_id                                                           \n",
       "NCT00000143                                                NaN   \n",
       "NCT00000378                                                NaN   \n",
       "NCT00000620                                                NaN   \n",
       "NCT00001151                                                NaN   \n",
       "NCT00001213  Although 328 participants were initially enrol...   \n",
       "...                                                        ...   \n",
       "NCT05490771                                                NaN   \n",
       "NCT05502081  0. Uninfected\\n\\nAmbulatory mild disease\\n\\nAs...   \n",
       "NCT05594173                                                NaN   \n",
       "NCT05607147                                                NaN   \n",
       "NCT05736861                                                NaN   \n",
       "\n",
       "                                               brief_summaries  \\\n",
       "nct_id                                                           \n",
       "NCT00000143  To compare the newest CMV retinitis drug, cido...   \n",
       "NCT00000378  The purpose of this study is to compare the sa...   \n",
       "NCT00000620  The purpose of this study is to prevent major ...   \n",
       "NCT00001151  Vitamin D in the diet undergoes changes in the...   \n",
       "NCT00001213  Cystinosis is an inherited disease that result...   \n",
       "...                                                        ...   \n",
       "NCT05490771  This phase II MATCH treatment trial identifies...   \n",
       "NCT05502081  Introduction:\\n\\nCorona Virus induced disease ...   \n",
       "NCT05594173  Food texture modification is commonly used as ...   \n",
       "NCT05607147  10 asymptomatic DHCWs in the Oral Medicine cli...   \n",
       "NCT05736861  The purpose of this study is to evaluate the e...   \n",
       "\n",
       "                                         detailed_descriptions  \\\n",
       "nct_id                                                           \n",
       "NCT00000143  Cytomegalovirus (CMV) is among the most freque...   \n",
       "NCT00000378  To compare the efficacy and safety of a select...   \n",
       "NCT00000620  BACKGROUND:\\n\\nCurrently, about 17 million Ame...   \n",
       "NCT00001151  Patients with extreme resistance to 1,25-dihyd...   \n",
       "NCT00001213  Protocol 86-EI-0062 began as a randomized, dou...   \n",
       "...                                                        ...   \n",
       "NCT05490771  PRIMARY OBJECTIVE:\\n\\nI. To evaluate the propo...   \n",
       "NCT05502081  I. INTRODUCTION\\n\\n1.1. COVID-19 overview and ...   \n",
       "NCT05594173  Aim: To explore chewing and oral processing be...   \n",
       "NCT05607147  10 asymptomatic DHCWs in the Oral Medicine cli...   \n",
       "NCT05736861  Severe acute respiratory syndrome coronavirus ...   \n",
       "\n",
       "                                                      criteria gender  \\\n",
       "nct_id                                                                  \n",
       "NCT00000143  Inclusion criteria:\\n\\nAge 13 years or older\\n...    All   \n",
       "NCT00000378  Inclusion Criteria:\\n\\n-\\n\\nPatients must have...    All   \n",
       "NCT00000620  Inclusion Criteria:\\n\\nDiagnosed with type 2 d...    All   \n",
       "NCT00001151  INCLUSION CRITERIA:\\n\\nPatients with hereditar...    All   \n",
       "NCT00001213  INCLUSION CRITERIA:\\n\\nPatients must have a do...    All   \n",
       "...                                                        ...    ...   \n",
       "NCT05490771  Inclusion Criteria:\\n\\nPatients must have met ...    All   \n",
       "NCT05502081  Inclusion Criteria:\\n\\nage more than 12 years ...    All   \n",
       "NCT05594173  Inclusion Criteria:\\n\\nHealthy adults under ag...    All   \n",
       "NCT05607147  Inclusion Criteria:\\n\\nDental healthcare worke...    All   \n",
       "NCT05736861  Inclusion Criteria:\\n\\nCompleted Informed Cons...    All   \n",
       "\n",
       "            minimum_age maximum_age  \\\n",
       "nct_id                                \n",
       "NCT00000143    13 Years         NaN   \n",
       "NCT00000378    60 Years    95 Years   \n",
       "NCT00000620    40 Years    79 Years   \n",
       "NCT00001151         NaN         NaN   \n",
       "NCT00001213     2 Years         NaN   \n",
       "...                 ...         ...   \n",
       "NCT05490771    18 Years         NaN   \n",
       "NCT05502081    12 Years         NaN   \n",
       "NCT05594173    18 Years    60 Years   \n",
       "NCT05607147    18 Years         NaN   \n",
       "NCT05736861    30 Years         NaN   \n",
       "\n",
       "                                                    facilities           city  \\\n",
       "nct_id                                                                          \n",
       "NCT00000143            University of South Florida, MDC Box 21          Tampa   \n",
       "NCT00000378                               1051 Riverside Drive       New York   \n",
       "NCT00000620                             Wake Forest University  Winston-Salem   \n",
       "NCT00001151  National Institutes of Health Clinical Center,...       Bethesda   \n",
       "NCT00001213  National Institutes of Health Clinical Center,...       Bethesda   \n",
       "...                                                        ...            ...   \n",
       "NCT05490771                   ECOG-ACRIN Cancer Research Group   Philadelphia   \n",
       "NCT05502081                                     El-gomhoria St       Mansoura   \n",
       "NCT05594173  Toronto Rehabilitation Institute - University ...        Toronto   \n",
       "NCT05607147                  Rutgers School of Dental Medicine         Newark   \n",
       "NCT05736861                       Well Pharma Medical Research        Yonkers   \n",
       "\n",
       "                    state      zip        country  \\\n",
       "nct_id                                              \n",
       "NCT00000143         Texas    94143  United States   \n",
       "NCT00000378      New York    10032  United States   \n",
       "NCT00000620    Washington    98195  United States   \n",
       "NCT00001151      Maryland    20892  United States   \n",
       "NCT00001213      Maryland    20892  United States   \n",
       "...                   ...      ...            ...   \n",
       "NCT05490771  Pennsylvania    19103  United States   \n",
       "NCT05502081    El-dkhalia      050          Egypt   \n",
       "NCT05594173       Ontario  M5G 2A2         Canada   \n",
       "NCT05607147    New Jersey    07103  United States   \n",
       "NCT05736861      Virginia    94304  United States   \n",
       "\n",
       "                                           recruitment_details  \\\n",
       "nct_id                                                           \n",
       "NCT00000143                                          June 1997   \n",
       "NCT00000378                                                NaN   \n",
       "NCT00000620  All participants had established type 2 diabet...   \n",
       "NCT00001151                                                NaN   \n",
       "NCT00001213                                                NaN   \n",
       "...                                                        ...   \n",
       "NCT05490771  Subprotocol Z1F was activated on June 20, 2018...   \n",
       "NCT05502081  from 1/11/2021 to 29/5/2022 at isolation hospi...   \n",
       "NCT05594173                                                NaN   \n",
       "NCT05607147  10 asymptomatic DHCWs in the Oral Medicine cli...   \n",
       "NCT05736861                                                NaN   \n",
       "\n",
       "                                        pre_assignment_details  \\\n",
       "nct_id                                                           \n",
       "NCT00000143                                                NaN   \n",
       "NCT00000378                                                NaN   \n",
       "NCT00000620  Eligible participants provided evidence of abi...   \n",
       "NCT00001151                                                NaN   \n",
       "NCT00001213                                                NaN   \n",
       "...                                                        ...   \n",
       "NCT05490771  The PIK3CA mutations status was determined by ...   \n",
       "NCT05502081  assignment is applied after admission of parti...   \n",
       "NCT05594173                                                NaN   \n",
       "NCT05607147                                                NaN   \n",
       "NCT05736861                                                NaN   \n",
       "\n",
       "                 study_type                                         embeddings  \n",
       "nct_id                                                                          \n",
       "NCT00000143  Interventional  [-0.009765988955702291, 0.0010155662695186536,...  \n",
       "NCT00000378  Interventional  [-0.01376020029446681, -0.0032447056218115897,...  \n",
       "NCT00000620  Interventional  [-0.026839681768819446, -0.021970773769895282,...  \n",
       "NCT00001151  Interventional  [-0.0031137232839347855, -0.007138206517213198...  \n",
       "NCT00001213  Interventional  [0.0031660161636455526, -0.016164252393602824,...  \n",
       "...                     ...                                                ...  \n",
       "NCT05490771  Interventional  [-0.04224925405394027, -0.007825714382569795, ...  \n",
       "NCT05502081  Interventional  [-0.027767390415470324, 0.012096415449287686, ...  \n",
       "NCT05594173   Observational  [-0.002366308585135517, 0.016306990734160445, ...  \n",
       "NCT05607147  Interventional  [-0.010185096847858578, 0.004955282646439835, ...  \n",
       "NCT05736861  Interventional  [-0.02714322457772749, 0.0015502643953794661, ...  \n",
       "\n",
       "[34983 rows x 19 columns]"
      ]
     },
     "execution_count": 13,
     "metadata": {},
     "output_type": "execute_result"
    }
   ],
   "source": [
    "df = pd.read_csv(\"csv/ctgov_studies_20230621_openai_embedding.csv\", index_col=\"nct_id\")\n",
    "df\n"
   ]
  },
  {
   "cell_type": "code",
   "execution_count": 14,
   "metadata": {},
   "outputs": [
    {
     "data": {
      "text/html": [
       "<div>\n",
       "<style scoped>\n",
       "    .dataframe tbody tr th:only-of-type {\n",
       "        vertical-align: middle;\n",
       "    }\n",
       "\n",
       "    .dataframe tbody tr th {\n",
       "        vertical-align: top;\n",
       "    }\n",
       "\n",
       "    .dataframe thead th {\n",
       "        text-align: right;\n",
       "    }\n",
       "</style>\n",
       "<table border=\"1\" class=\"dataframe\">\n",
       "  <thead>\n",
       "    <tr style=\"text-align: right;\">\n",
       "      <th></th>\n",
       "      <th>brief_title</th>\n",
       "      <th>official_title</th>\n",
       "      <th>overall_status</th>\n",
       "      <th>baseline_measurements</th>\n",
       "      <th>brief_summaries</th>\n",
       "      <th>detailed_descriptions</th>\n",
       "      <th>criteria</th>\n",
       "      <th>gender</th>\n",
       "      <th>minimum_age</th>\n",
       "      <th>maximum_age</th>\n",
       "      <th>facilities</th>\n",
       "      <th>city</th>\n",
       "      <th>state</th>\n",
       "      <th>zip</th>\n",
       "      <th>country</th>\n",
       "      <th>recruitment_details</th>\n",
       "      <th>pre_assignment_details</th>\n",
       "      <th>study_type</th>\n",
       "      <th>embeddings</th>\n",
       "    </tr>\n",
       "    <tr>\n",
       "      <th>nct_id</th>\n",
       "      <th></th>\n",
       "      <th></th>\n",
       "      <th></th>\n",
       "      <th></th>\n",
       "      <th></th>\n",
       "      <th></th>\n",
       "      <th></th>\n",
       "      <th></th>\n",
       "      <th></th>\n",
       "      <th></th>\n",
       "      <th></th>\n",
       "      <th></th>\n",
       "      <th></th>\n",
       "      <th></th>\n",
       "      <th></th>\n",
       "      <th></th>\n",
       "      <th></th>\n",
       "      <th></th>\n",
       "      <th></th>\n",
       "    </tr>\n",
       "  </thead>\n",
       "  <tbody>\n",
       "    <tr>\n",
       "      <th>NCT01191541</th>\n",
       "      <td>Cytarabine (Ara-C) in Children With Acute Prom...</td>\n",
       "      <td>Treatment of Newly Diagnosed Patients With Acu...</td>\n",
       "      <td>Completed</td>\n",
       "      <td>Eligible patients were less than 14 years of a...</td>\n",
       "      <td>Several groups, especially the PETHEMA group (...</td>\n",
       "      <td>Some studies suggest patients with high-risk d...</td>\n",
       "      <td>Inclusion Criteria:\\n\\nAcute Promyelocytic Leu...</td>\n",
       "      <td>All</td>\n",
       "      <td>1 Year</td>\n",
       "      <td>14 Years</td>\n",
       "      <td>Institute of Hematology &amp; Blood Diseases Hospital</td>\n",
       "      <td>Tianjin</td>\n",
       "      <td>Tianjin</td>\n",
       "      <td>300020</td>\n",
       "      <td>China</td>\n",
       "      <td>Eligible patients were those who were less tha...</td>\n",
       "      <td>The demonstration of PML-RARA transcripts, was...</td>\n",
       "      <td>Interventional</td>\n",
       "      <td>[-0.007857422494113177, 0.014162590997084367, ...</td>\n",
       "    </tr>\n",
       "    <tr>\n",
       "      <th>NCT01326728</th>\n",
       "      <td>Relapsed Malignant Blood Cancer After Allogene...</td>\n",
       "      <td>Study of the Biology and Natural History of Di...</td>\n",
       "      <td>Terminated</td>\n",
       "      <td>Patients were receiving transplants to treat p...</td>\n",
       "      <td>Background:\\n\\nAllogeneic hematopoietic stem c...</td>\n",
       "      <td>Background:\\n\\nCancer relapse is a significant...</td>\n",
       "      <td>INCLUSION CRITERIA:\\n\\nRECIPIENT SUBJECTS:\\n\\n...</td>\n",
       "      <td>All</td>\n",
       "      <td>18 Years</td>\n",
       "      <td>99 Years</td>\n",
       "      <td>National Institutes of Health Clinical Center,...</td>\n",
       "      <td>Bethesda</td>\n",
       "      <td>Maryland</td>\n",
       "      <td>20892</td>\n",
       "      <td>United States</td>\n",
       "      <td>NaN</td>\n",
       "      <td>NaN</td>\n",
       "      <td>Observational</td>\n",
       "      <td>[-0.01660441850402715, -0.018733191014550094, ...</td>\n",
       "    </tr>\n",
       "    <tr>\n",
       "      <th>NCT01929408</th>\n",
       "      <td>Feasibility and Outcomes of Allogeneic HCT Com...</td>\n",
       "      <td>Feasibility and Outcomes of Allogeneic Hematop...</td>\n",
       "      <td>Completed</td>\n",
       "      <td>NaN</td>\n",
       "      <td>The purpose of this study is to compare treatm...</td>\n",
       "      <td>This is a prospective multicenter observationa...</td>\n",
       "      <td>Inclusion Criteria\\n\\nPatients with new diagno...</td>\n",
       "      <td>All</td>\n",
       "      <td>18 Years</td>\n",
       "      <td>80 Years</td>\n",
       "      <td>Washington University School of Medicine</td>\n",
       "      <td>Stanford</td>\n",
       "      <td>Washington</td>\n",
       "      <td>98109</td>\n",
       "      <td>United States</td>\n",
       "      <td>NaN</td>\n",
       "      <td>NaN</td>\n",
       "      <td>Observational</td>\n",
       "      <td>[-0.0019229405314953776, 0.006521420707243104,...</td>\n",
       "    </tr>\n",
       "    <tr>\n",
       "      <th>NCT01957176</th>\n",
       "      <td>A Rollover Study to Provide Continued Treatmen...</td>\n",
       "      <td>Study 200170: A Rollover Study to Provide Cont...</td>\n",
       "      <td>Completed</td>\n",
       "      <td>NaN</td>\n",
       "      <td>The objective of this study was to provide con...</td>\n",
       "      <td>This Phase IV, multicenter, non-randomized, op...</td>\n",
       "      <td>Inclusion Criteria:\\n\\nWritten informed consen...</td>\n",
       "      <td>All</td>\n",
       "      <td>18 Years</td>\n",
       "      <td>NaN</td>\n",
       "      <td>Novartis Investigative Site</td>\n",
       "      <td>Tullamore</td>\n",
       "      <td>Lima</td>\n",
       "      <td>Lima 27</td>\n",
       "      <td>Tunisia</td>\n",
       "      <td>22 subjects were enrolled in 14 centers in 12 ...</td>\n",
       "      <td>NaN</td>\n",
       "      <td>Interventional</td>\n",
       "      <td>[-0.034325312621117196, -0.027286998767060505,...</td>\n",
       "    </tr>\n",
       "    <tr>\n",
       "      <th>NCT02194439</th>\n",
       "      <td>Bridging Pediatric and Adult Biomarkers in Gra...</td>\n",
       "      <td>Bridging Pediatric and Adult Biomarkers in Gra...</td>\n",
       "      <td>Completed</td>\n",
       "      <td>NaN</td>\n",
       "      <td>This study is designed to collect longitudinal...</td>\n",
       "      <td>After informed consent is signed, this study w...</td>\n",
       "      <td>Inclusion Criteria: - All patients receiving a...</td>\n",
       "      <td>All</td>\n",
       "      <td>NaN</td>\n",
       "      <td>NaN</td>\n",
       "      <td>Indiana Unversity Melvin and Bren Simon Cancer...</td>\n",
       "      <td>Indianapolis</td>\n",
       "      <td>Indiana</td>\n",
       "      <td>46202</td>\n",
       "      <td>United States</td>\n",
       "      <td>NaN</td>\n",
       "      <td>NaN</td>\n",
       "      <td>Observational</td>\n",
       "      <td>[-0.014821748905959858, 0.012493214338530033, ...</td>\n",
       "    </tr>\n",
       "    <tr>\n",
       "      <th>NCT02447718</th>\n",
       "      <td>Vaccinating Children After Chemotherapy</td>\n",
       "      <td>Vaccinating Children After Chemotherapy for Ac...</td>\n",
       "      <td>Completed</td>\n",
       "      <td>Disease risk category based on patient charact...</td>\n",
       "      <td>This multi-center open label clinical trial ai...</td>\n",
       "      <td>Rationale and Aims: Children with acute lympho...</td>\n",
       "      <td>Cases with ALL:\\n\\nInclusion Criteria:\\n\\nDiag...</td>\n",
       "      <td>All</td>\n",
       "      <td>3 Years</td>\n",
       "      <td>18 Years</td>\n",
       "      <td>IWK Health Centre</td>\n",
       "      <td>Halifax</td>\n",
       "      <td>Nova Scotia</td>\n",
       "      <td>B3K 6R8</td>\n",
       "      <td>Canada</td>\n",
       "      <td>Participants were recruited based on physician...</td>\n",
       "      <td>155 of the 156 participants recruited met incl...</td>\n",
       "      <td>Interventional</td>\n",
       "      <td>[-0.02054059787609128, 0.008871003468174165, -...</td>\n",
       "    </tr>\n",
       "    <tr>\n",
       "      <th>NCT02546674</th>\n",
       "      <td>Study Assessing Deep Molecular Response in Adu...</td>\n",
       "      <td>A Phase IV Single Arm, Multicenter, Open-label...</td>\n",
       "      <td>Completed</td>\n",
       "      <td>NaN</td>\n",
       "      <td>The main purpose of this study was to evaluate...</td>\n",
       "      <td>This was a Phase IV open-label, multi-center, ...</td>\n",
       "      <td>Key Inclusion Criteria:\\n\\nPatients with newly...</td>\n",
       "      <td>All</td>\n",
       "      <td>18 Years</td>\n",
       "      <td>120 Years</td>\n",
       "      <td>Novartis Investigative Site</td>\n",
       "      <td>Wuerzburg</td>\n",
       "      <td>Schleswig-holstein</td>\n",
       "      <td>99085</td>\n",
       "      <td>Germany</td>\n",
       "      <td>The study was conducted across 73 centers in 1...</td>\n",
       "      <td>A total of 179 participants were screened in t...</td>\n",
       "      <td>Interventional</td>\n",
       "      <td>[-0.040744805802590295, -0.013772125085962305,...</td>\n",
       "    </tr>\n",
       "    <tr>\n",
       "      <th>NCT02767388</th>\n",
       "      <td>Electrophysiological Biomarkers of Chemotherap...</td>\n",
       "      <td>NaN</td>\n",
       "      <td>Completed</td>\n",
       "      <td>NaN</td>\n",
       "      <td>Broadly speaking, the goal of this study is to...</td>\n",
       "      <td>The broad goal of this research project is to ...</td>\n",
       "      <td>Inclusion criteria:\\n\\nHM diagnosis\\nscheduled...</td>\n",
       "      <td>All</td>\n",
       "      <td>19 Years</td>\n",
       "      <td>80 Years</td>\n",
       "      <td>University of Nebraska Medical Center</td>\n",
       "      <td>Omaha</td>\n",
       "      <td>Nebraska</td>\n",
       "      <td>68132</td>\n",
       "      <td>United States</td>\n",
       "      <td>NaN</td>\n",
       "      <td>NaN</td>\n",
       "      <td>Observational</td>\n",
       "      <td>[-0.03522249054162073, 0.006766355352666883, 0...</td>\n",
       "    </tr>\n",
       "    <tr>\n",
       "      <th>NCT02774850</th>\n",
       "      <td>Home Away From Home - Medical Outcomes</td>\n",
       "      <td>Home or Away From Home: Comparing Clinical Out...</td>\n",
       "      <td>Completed</td>\n",
       "      <td>NaN</td>\n",
       "      <td>Treatment for pediatric acute myeloid leukemia...</td>\n",
       "      <td>This is a bidirectional observational cohort s...</td>\n",
       "      <td>Inclusion Criteria:\\n\\nMales or females of age...</td>\n",
       "      <td>All</td>\n",
       "      <td>NaN</td>\n",
       "      <td>19 Years</td>\n",
       "      <td>University of Mississippi Medical Center</td>\n",
       "      <td>Wilmington</td>\n",
       "      <td>Washington</td>\n",
       "      <td>98105</td>\n",
       "      <td>United States</td>\n",
       "      <td>NaN</td>\n",
       "      <td>610 patients reflects the total number of pati...</td>\n",
       "      <td>Observational</td>\n",
       "      <td>[-0.0002501921755537187, 0.0017825140914085943...</td>\n",
       "    </tr>\n",
       "    <tr>\n",
       "      <th>NCT02777021</th>\n",
       "      <td>Home Away From Home - Quality of Life Surveys</td>\n",
       "      <td>Home or Away From Home: Comparing Patient and ...</td>\n",
       "      <td>Completed</td>\n",
       "      <td>NaN</td>\n",
       "      <td>Treatment for pediatric acute myeloid leukemia...</td>\n",
       "      <td>This is a prospective observational cohort stu...</td>\n",
       "      <td>Inclusion Criteria:\\n\\nParticipants will be en...</td>\n",
       "      <td>All</td>\n",
       "      <td>NaN</td>\n",
       "      <td>NaN</td>\n",
       "      <td>Texas Children's Hospital</td>\n",
       "      <td>Wilmington</td>\n",
       "      <td>Washington</td>\n",
       "      <td>98105</td>\n",
       "      <td>United States</td>\n",
       "      <td>NaN</td>\n",
       "      <td>NaN</td>\n",
       "      <td>Observational</td>\n",
       "      <td>[0.005196802405205368, 0.005298368721605096, 0...</td>\n",
       "    </tr>\n",
       "    <tr>\n",
       "      <th>NCT03727750</th>\n",
       "      <td>Evaluating QTc, PK, Safety of Gemtuzumab Ozoga...</td>\n",
       "      <td>A SINGLE ARM, OPEN-LABEL, PHASE 4 STUDY EVALUA...</td>\n",
       "      <td>Completed</td>\n",
       "      <td>NaN</td>\n",
       "      <td>This is a single-arm, open-label, Phase 4 stud...</td>\n",
       "      <td>This is a single-arm, open-label, Phase 4 stud...</td>\n",
       "      <td>Inclusion Criteria\\n\\nRefractory or relapsed (...</td>\n",
       "      <td>All</td>\n",
       "      <td>12 Years</td>\n",
       "      <td>NaN</td>\n",
       "      <td>Vidant Medical Center</td>\n",
       "      <td>Wroclaw</td>\n",
       "      <td>Ontario</td>\n",
       "      <td>T6G 2V2</td>\n",
       "      <td>United States</td>\n",
       "      <td>NaN</td>\n",
       "      <td>A total 66 participants signed the informed co...</td>\n",
       "      <td>Interventional</td>\n",
       "      <td>[-0.024046752514280935, -0.007958558359068392,...</td>\n",
       "    </tr>\n",
       "    <tr>\n",
       "      <th>NCT03988205</th>\n",
       "      <td>Patients Receiving Induction With Liposomal Da...</td>\n",
       "      <td>The Feasibility of Safely Managing Patients Re...</td>\n",
       "      <td>Terminated</td>\n",
       "      <td>NaN</td>\n",
       "      <td>This is a single-arm, single-site run-in phase...</td>\n",
       "      <td>This is an open-label, non-randomized study of...</td>\n",
       "      <td>Inclusion Criteria:\\n\\nSubjects with newly dia...</td>\n",
       "      <td>All</td>\n",
       "      <td>18 Years</td>\n",
       "      <td>NaN</td>\n",
       "      <td>Froedtert Hospital</td>\n",
       "      <td>Milwaukee</td>\n",
       "      <td>Wisconsin</td>\n",
       "      <td>53226</td>\n",
       "      <td>United States</td>\n",
       "      <td>NaN</td>\n",
       "      <td>NaN</td>\n",
       "      <td>Interventional</td>\n",
       "      <td>[-0.006561237410497069, -0.002422397731963938,...</td>\n",
       "    </tr>\n",
       "    <tr>\n",
       "      <th>NCT04172467</th>\n",
       "      <td>Quality Assurance of Secondary Immunodeficienc...</td>\n",
       "      <td>Quality Assurance on Diagnosis and Therapy of ...</td>\n",
       "      <td>Completed</td>\n",
       "      <td>Age at the start of the therapy line under inv...</td>\n",
       "      <td>Retrospective, representative registry for qua...</td>\n",
       "      <td>Treatment structure analysis and recruitment (...</td>\n",
       "      <td>Inclusion Criteria:\\n\\npatients with CLL or MM...</td>\n",
       "      <td>All</td>\n",
       "      <td>18 Years</td>\n",
       "      <td>NaN</td>\n",
       "      <td>Privatärztliche Praxis; Innere Medizin, Hämato...</td>\n",
       "      <td>Kaiserslautern</td>\n",
       "      <td>NaN</td>\n",
       "      <td>67655</td>\n",
       "      <td>Germany</td>\n",
       "      <td>This is a retrospective sample analysis of pat...</td>\n",
       "      <td>The time period was chosen to ensure that pati...</td>\n",
       "      <td>Observational</td>\n",
       "      <td>[-0.007290503823162775, 0.008289846457120088, ...</td>\n",
       "    </tr>\n",
       "  </tbody>\n",
       "</table>\n",
       "</div>"
      ],
      "text/plain": [
       "                                                   brief_title  \\\n",
       "nct_id                                                           \n",
       "NCT01191541  Cytarabine (Ara-C) in Children With Acute Prom...   \n",
       "NCT01326728  Relapsed Malignant Blood Cancer After Allogene...   \n",
       "NCT01929408  Feasibility and Outcomes of Allogeneic HCT Com...   \n",
       "NCT01957176  A Rollover Study to Provide Continued Treatmen...   \n",
       "NCT02194439  Bridging Pediatric and Adult Biomarkers in Gra...   \n",
       "NCT02447718            Vaccinating Children After Chemotherapy   \n",
       "NCT02546674  Study Assessing Deep Molecular Response in Adu...   \n",
       "NCT02767388  Electrophysiological Biomarkers of Chemotherap...   \n",
       "NCT02774850             Home Away From Home - Medical Outcomes   \n",
       "NCT02777021      Home Away From Home - Quality of Life Surveys   \n",
       "NCT03727750  Evaluating QTc, PK, Safety of Gemtuzumab Ozoga...   \n",
       "NCT03988205  Patients Receiving Induction With Liposomal Da...   \n",
       "NCT04172467  Quality Assurance of Secondary Immunodeficienc...   \n",
       "\n",
       "                                                official_title overall_status  \\\n",
       "nct_id                                                                          \n",
       "NCT01191541  Treatment of Newly Diagnosed Patients With Acu...      Completed   \n",
       "NCT01326728  Study of the Biology and Natural History of Di...     Terminated   \n",
       "NCT01929408  Feasibility and Outcomes of Allogeneic Hematop...      Completed   \n",
       "NCT01957176  Study 200170: A Rollover Study to Provide Cont...      Completed   \n",
       "NCT02194439  Bridging Pediatric and Adult Biomarkers in Gra...      Completed   \n",
       "NCT02447718  Vaccinating Children After Chemotherapy for Ac...      Completed   \n",
       "NCT02546674  A Phase IV Single Arm, Multicenter, Open-label...      Completed   \n",
       "NCT02767388                                                NaN      Completed   \n",
       "NCT02774850  Home or Away From Home: Comparing Clinical Out...      Completed   \n",
       "NCT02777021  Home or Away From Home: Comparing Patient and ...      Completed   \n",
       "NCT03727750  A SINGLE ARM, OPEN-LABEL, PHASE 4 STUDY EVALUA...      Completed   \n",
       "NCT03988205  The Feasibility of Safely Managing Patients Re...     Terminated   \n",
       "NCT04172467  Quality Assurance on Diagnosis and Therapy of ...      Completed   \n",
       "\n",
       "                                         baseline_measurements  \\\n",
       "nct_id                                                           \n",
       "NCT01191541  Eligible patients were less than 14 years of a...   \n",
       "NCT01326728  Patients were receiving transplants to treat p...   \n",
       "NCT01929408                                                NaN   \n",
       "NCT01957176                                                NaN   \n",
       "NCT02194439                                                NaN   \n",
       "NCT02447718  Disease risk category based on patient charact...   \n",
       "NCT02546674                                                NaN   \n",
       "NCT02767388                                                NaN   \n",
       "NCT02774850                                                NaN   \n",
       "NCT02777021                                                NaN   \n",
       "NCT03727750                                                NaN   \n",
       "NCT03988205                                                NaN   \n",
       "NCT04172467  Age at the start of the therapy line under inv...   \n",
       "\n",
       "                                               brief_summaries  \\\n",
       "nct_id                                                           \n",
       "NCT01191541  Several groups, especially the PETHEMA group (...   \n",
       "NCT01326728  Background:\\n\\nAllogeneic hematopoietic stem c...   \n",
       "NCT01929408  The purpose of this study is to compare treatm...   \n",
       "NCT01957176  The objective of this study was to provide con...   \n",
       "NCT02194439  This study is designed to collect longitudinal...   \n",
       "NCT02447718  This multi-center open label clinical trial ai...   \n",
       "NCT02546674  The main purpose of this study was to evaluate...   \n",
       "NCT02767388  Broadly speaking, the goal of this study is to...   \n",
       "NCT02774850  Treatment for pediatric acute myeloid leukemia...   \n",
       "NCT02777021  Treatment for pediatric acute myeloid leukemia...   \n",
       "NCT03727750  This is a single-arm, open-label, Phase 4 stud...   \n",
       "NCT03988205  This is a single-arm, single-site run-in phase...   \n",
       "NCT04172467  Retrospective, representative registry for qua...   \n",
       "\n",
       "                                         detailed_descriptions  \\\n",
       "nct_id                                                           \n",
       "NCT01191541  Some studies suggest patients with high-risk d...   \n",
       "NCT01326728  Background:\\n\\nCancer relapse is a significant...   \n",
       "NCT01929408  This is a prospective multicenter observationa...   \n",
       "NCT01957176  This Phase IV, multicenter, non-randomized, op...   \n",
       "NCT02194439  After informed consent is signed, this study w...   \n",
       "NCT02447718  Rationale and Aims: Children with acute lympho...   \n",
       "NCT02546674  This was a Phase IV open-label, multi-center, ...   \n",
       "NCT02767388  The broad goal of this research project is to ...   \n",
       "NCT02774850  This is a bidirectional observational cohort s...   \n",
       "NCT02777021  This is a prospective observational cohort stu...   \n",
       "NCT03727750  This is a single-arm, open-label, Phase 4 stud...   \n",
       "NCT03988205  This is an open-label, non-randomized study of...   \n",
       "NCT04172467  Treatment structure analysis and recruitment (...   \n",
       "\n",
       "                                                      criteria gender  \\\n",
       "nct_id                                                                  \n",
       "NCT01191541  Inclusion Criteria:\\n\\nAcute Promyelocytic Leu...    All   \n",
       "NCT01326728  INCLUSION CRITERIA:\\n\\nRECIPIENT SUBJECTS:\\n\\n...    All   \n",
       "NCT01929408  Inclusion Criteria\\n\\nPatients with new diagno...    All   \n",
       "NCT01957176  Inclusion Criteria:\\n\\nWritten informed consen...    All   \n",
       "NCT02194439  Inclusion Criteria: - All patients receiving a...    All   \n",
       "NCT02447718  Cases with ALL:\\n\\nInclusion Criteria:\\n\\nDiag...    All   \n",
       "NCT02546674  Key Inclusion Criteria:\\n\\nPatients with newly...    All   \n",
       "NCT02767388  Inclusion criteria:\\n\\nHM diagnosis\\nscheduled...    All   \n",
       "NCT02774850  Inclusion Criteria:\\n\\nMales or females of age...    All   \n",
       "NCT02777021  Inclusion Criteria:\\n\\nParticipants will be en...    All   \n",
       "NCT03727750  Inclusion Criteria\\n\\nRefractory or relapsed (...    All   \n",
       "NCT03988205  Inclusion Criteria:\\n\\nSubjects with newly dia...    All   \n",
       "NCT04172467  Inclusion Criteria:\\n\\npatients with CLL or MM...    All   \n",
       "\n",
       "            minimum_age maximum_age  \\\n",
       "nct_id                                \n",
       "NCT01191541      1 Year    14 Years   \n",
       "NCT01326728    18 Years    99 Years   \n",
       "NCT01929408    18 Years    80 Years   \n",
       "NCT01957176    18 Years         NaN   \n",
       "NCT02194439         NaN         NaN   \n",
       "NCT02447718     3 Years    18 Years   \n",
       "NCT02546674    18 Years   120 Years   \n",
       "NCT02767388    19 Years    80 Years   \n",
       "NCT02774850         NaN    19 Years   \n",
       "NCT02777021         NaN         NaN   \n",
       "NCT03727750    12 Years         NaN   \n",
       "NCT03988205    18 Years         NaN   \n",
       "NCT04172467    18 Years         NaN   \n",
       "\n",
       "                                                    facilities  \\\n",
       "nct_id                                                           \n",
       "NCT01191541  Institute of Hematology & Blood Diseases Hospital   \n",
       "NCT01326728  National Institutes of Health Clinical Center,...   \n",
       "NCT01929408           Washington University School of Medicine   \n",
       "NCT01957176                        Novartis Investigative Site   \n",
       "NCT02194439  Indiana Unversity Melvin and Bren Simon Cancer...   \n",
       "NCT02447718                                  IWK Health Centre   \n",
       "NCT02546674                        Novartis Investigative Site   \n",
       "NCT02767388              University of Nebraska Medical Center   \n",
       "NCT02774850           University of Mississippi Medical Center   \n",
       "NCT02777021                          Texas Children's Hospital   \n",
       "NCT03727750                              Vidant Medical Center   \n",
       "NCT03988205                                 Froedtert Hospital   \n",
       "NCT04172467  Privatärztliche Praxis; Innere Medizin, Hämato...   \n",
       "\n",
       "                       city               state      zip        country  \\\n",
       "nct_id                                                                    \n",
       "NCT01191541         Tianjin             Tianjin   300020          China   \n",
       "NCT01326728        Bethesda            Maryland    20892  United States   \n",
       "NCT01929408        Stanford          Washington    98109  United States   \n",
       "NCT01957176       Tullamore                Lima  Lima 27        Tunisia   \n",
       "NCT02194439    Indianapolis             Indiana    46202  United States   \n",
       "NCT02447718         Halifax         Nova Scotia  B3K 6R8         Canada   \n",
       "NCT02546674       Wuerzburg  Schleswig-holstein    99085        Germany   \n",
       "NCT02767388           Omaha            Nebraska    68132  United States   \n",
       "NCT02774850      Wilmington          Washington    98105  United States   \n",
       "NCT02777021      Wilmington          Washington    98105  United States   \n",
       "NCT03727750         Wroclaw             Ontario  T6G 2V2  United States   \n",
       "NCT03988205       Milwaukee           Wisconsin    53226  United States   \n",
       "NCT04172467  Kaiserslautern                 NaN    67655        Germany   \n",
       "\n",
       "                                           recruitment_details  \\\n",
       "nct_id                                                           \n",
       "NCT01191541  Eligible patients were those who were less tha...   \n",
       "NCT01326728                                                NaN   \n",
       "NCT01929408                                                NaN   \n",
       "NCT01957176  22 subjects were enrolled in 14 centers in 12 ...   \n",
       "NCT02194439                                                NaN   \n",
       "NCT02447718  Participants were recruited based on physician...   \n",
       "NCT02546674  The study was conducted across 73 centers in 1...   \n",
       "NCT02767388                                                NaN   \n",
       "NCT02774850                                                NaN   \n",
       "NCT02777021                                                NaN   \n",
       "NCT03727750                                                NaN   \n",
       "NCT03988205                                                NaN   \n",
       "NCT04172467  This is a retrospective sample analysis of pat...   \n",
       "\n",
       "                                        pre_assignment_details  \\\n",
       "nct_id                                                           \n",
       "NCT01191541  The demonstration of PML-RARA transcripts, was...   \n",
       "NCT01326728                                                NaN   \n",
       "NCT01929408                                                NaN   \n",
       "NCT01957176                                                NaN   \n",
       "NCT02194439                                                NaN   \n",
       "NCT02447718  155 of the 156 participants recruited met incl...   \n",
       "NCT02546674  A total of 179 participants were screened in t...   \n",
       "NCT02767388                                                NaN   \n",
       "NCT02774850  610 patients reflects the total number of pati...   \n",
       "NCT02777021                                                NaN   \n",
       "NCT03727750  A total 66 participants signed the informed co...   \n",
       "NCT03988205                                                NaN   \n",
       "NCT04172467  The time period was chosen to ensure that pati...   \n",
       "\n",
       "                 study_type                                         embeddings  \n",
       "nct_id                                                                          \n",
       "NCT01191541  Interventional  [-0.007857422494113177, 0.014162590997084367, ...  \n",
       "NCT01326728   Observational  [-0.01660441850402715, -0.018733191014550094, ...  \n",
       "NCT01929408   Observational  [-0.0019229405314953776, 0.006521420707243104,...  \n",
       "NCT01957176  Interventional  [-0.034325312621117196, -0.027286998767060505,...  \n",
       "NCT02194439   Observational  [-0.014821748905959858, 0.012493214338530033, ...  \n",
       "NCT02447718  Interventional  [-0.02054059787609128, 0.008871003468174165, -...  \n",
       "NCT02546674  Interventional  [-0.040744805802590295, -0.013772125085962305,...  \n",
       "NCT02767388   Observational  [-0.03522249054162073, 0.006766355352666883, 0...  \n",
       "NCT02774850   Observational  [-0.0002501921755537187, 0.0017825140914085943...  \n",
       "NCT02777021   Observational  [0.005196802405205368, 0.005298368721605096, 0...  \n",
       "NCT03727750  Interventional  [-0.024046752514280935, -0.007958558359068392,...  \n",
       "NCT03988205  Interventional  [-0.006561237410497069, -0.002422397731963938,...  \n",
       "NCT04172467   Observational  [-0.007290503823162775, 0.008289846457120088, ...  "
      ]
     },
     "execution_count": 14,
     "metadata": {},
     "output_type": "execute_result"
    }
   ],
   "source": [
    "leukemia = [\"NCT02228382\",\n",
    "            \"NCT03988205\",\n",
    "            \"NCT01200355\",\n",
    "            \"NCT03727750\",\n",
    "            \"NCT04003012\",\n",
    "            \"NCT02447718\",\n",
    "            \"NCT01191541\",\n",
    "            \"NCT02546674\",\n",
    "            \"NCT01957176\",\n",
    "            \"NCT03255668\",\n",
    "            \"NCT04172467\",\n",
    "            \"NCT02194439\",\n",
    "            \"NCT01929408\",\n",
    "            \"NCT05791890\",\n",
    "            \"NCT05774990\",\n",
    "            \"NCT04456959\",\n",
    "            \"NCT02774850\",\n",
    "            \"NCT04466059\",\n",
    "            \"NCT03549351\",\n",
    "            \"NCT04621851\",\n",
    "            \"NCT03526666\",\n",
    "            \"NCT05772000\",\n",
    "            \"NCT02777021\",\n",
    "            \"NCT04337138\",\n",
    "            \"NCT02767388\",\n",
    "            \"NCT01326728\",\n",
    "            \"NCT05046444\",\n",
    "            \"NCT04645199\",\n",
    "            \"NCT05145101\",]\n",
    "df = df[df.index.isin(leukemia)]\n",
    "df "
   ]
  },
  {
   "cell_type": "code",
   "execution_count": 15,
   "metadata": {},
   "outputs": [
    {
     "data": {
      "text/plain": [
       "array([-0.00785742,  0.01416259,  0.00336207, ..., -0.00279371,\n",
       "       -0.02513826, -0.00116934], dtype=float32)"
      ]
     },
     "execution_count": 15,
     "metadata": {},
     "output_type": "execute_result"
    }
   ],
   "source": [
    "embeddings = df[\"embeddings\"].copy()\n",
    "embeddings = embeddings.apply(lambda x: np.fromstring(\n",
    "    re.sub(r'[\\n\\[\\]]', '', x), sep=',').astype(np.float32)\n",
    ")\n",
    "embeddings[0]\n"
   ]
  },
  {
   "cell_type": "code",
   "execution_count": 16,
   "metadata": {},
   "outputs": [
    {
     "data": {
      "text/plain": [
       "(13, 1536)"
      ]
     },
     "execution_count": 16,
     "metadata": {},
     "output_type": "execute_result"
    }
   ],
   "source": [
    "array = np.stack(embeddings)\n",
    "array.shape\n"
   ]
  },
  {
   "cell_type": "code",
   "execution_count": 17,
   "metadata": {},
   "outputs": [
    {
     "name": "stderr",
     "output_type": "stream",
     "text": [
      "/data/qtran/anaconda3/envs/textkit/lib/python3.9/site-packages/umap/umap_.py:2344: UserWarning:\n",
      "\n",
      "n_neighbors is larger than the dataset size; truncating to X.shape[0] - 1\n",
      "\n"
     ]
    }
   ],
   "source": [
    "umap_mapper = umap.UMAP(\n",
    "    n_components=2,\n",
    "    n_neighbors=15, \n",
    "    min_dist=0.05\n",
    ")\n",
    "\n",
    "umap_embeddings = umap_mapper.fit_transform(array)"
   ]
  },
  {
   "cell_type": "code",
   "execution_count": 18,
   "metadata": {},
   "outputs": [
    {
     "data": {
      "application/vnd.plotly.v1+json": {
       "config": {
        "plotlyServerURL": "https://plot.ly"
       },
       "data": [
        {
         "hovertemplate": "overall_status=Completed<br>0=%{x}<br>1=%{y}<extra></extra>",
         "legendgroup": "Completed",
         "marker": {
          "color": "#1F77B4",
          "size": 50,
          "symbol": "circle"
         },
         "mode": "markers",
         "name": "Completed",
         "orientation": "v",
         "showlegend": true,
         "type": "scatter",
         "x": [
          -2.3321095,
          -1.4969958,
          -3.2333333,
          -0.60218686,
          -1.4898013,
          -3.2889833,
          -0.8609126,
          -1.8039011,
          -2.1270251,
          -2.7923863,
          -2.0022728
         ],
         "xaxis": "x",
         "y": [
          5.833864,
          4.6568303,
          5.0176625,
          4.5479903,
          6.022828,
          4.168846,
          5.114904,
          5.2845907,
          4.7436686,
          4.533803,
          3.9670029
         ],
         "yaxis": "y"
        },
        {
         "hovertemplate": "overall_status=Terminated<br>0=%{x}<br>1=%{y}<extra></extra>",
         "legendgroup": "Terminated",
         "marker": {
          "color": "#FF7F0E",
          "size": 50,
          "symbol": "circle"
         },
         "mode": "markers",
         "name": "Terminated",
         "orientation": "v",
         "showlegend": true,
         "type": "scatter",
         "x": [
          -1.0211679,
          -2.888291
         ],
         "xaxis": "x",
         "y": [
          4.0276127,
          5.8211794
         ],
         "yaxis": "y"
        }
       ],
       "layout": {
        "autosize": true,
        "height": 1000,
        "legend": {
         "title": {
          "text": "overall_status"
         },
         "tracegroupgap": 0
        },
        "margin": {
         "t": 60
        },
        "template": {
         "data": {
          "bar": [
           {
            "error_x": {
             "color": "#2a3f5f"
            },
            "error_y": {
             "color": "#2a3f5f"
            },
            "marker": {
             "line": {
              "color": "white",
              "width": 0.5
             },
             "pattern": {
              "fillmode": "overlay",
              "size": 10,
              "solidity": 0.2
             }
            },
            "type": "bar"
           }
          ],
          "barpolar": [
           {
            "marker": {
             "line": {
              "color": "white",
              "width": 0.5
             },
             "pattern": {
              "fillmode": "overlay",
              "size": 10,
              "solidity": 0.2
             }
            },
            "type": "barpolar"
           }
          ],
          "carpet": [
           {
            "aaxis": {
             "endlinecolor": "#2a3f5f",
             "gridcolor": "#C8D4E3",
             "linecolor": "#C8D4E3",
             "minorgridcolor": "#C8D4E3",
             "startlinecolor": "#2a3f5f"
            },
            "baxis": {
             "endlinecolor": "#2a3f5f",
             "gridcolor": "#C8D4E3",
             "linecolor": "#C8D4E3",
             "minorgridcolor": "#C8D4E3",
             "startlinecolor": "#2a3f5f"
            },
            "type": "carpet"
           }
          ],
          "choropleth": [
           {
            "colorbar": {
             "outlinewidth": 0,
             "ticks": ""
            },
            "type": "choropleth"
           }
          ],
          "contour": [
           {
            "colorbar": {
             "outlinewidth": 0,
             "ticks": ""
            },
            "colorscale": [
             [
              0,
              "#0d0887"
             ],
             [
              0.1111111111111111,
              "#46039f"
             ],
             [
              0.2222222222222222,
              "#7201a8"
             ],
             [
              0.3333333333333333,
              "#9c179e"
             ],
             [
              0.4444444444444444,
              "#bd3786"
             ],
             [
              0.5555555555555556,
              "#d8576b"
             ],
             [
              0.6666666666666666,
              "#ed7953"
             ],
             [
              0.7777777777777778,
              "#fb9f3a"
             ],
             [
              0.8888888888888888,
              "#fdca26"
             ],
             [
              1,
              "#f0f921"
             ]
            ],
            "type": "contour"
           }
          ],
          "contourcarpet": [
           {
            "colorbar": {
             "outlinewidth": 0,
             "ticks": ""
            },
            "type": "contourcarpet"
           }
          ],
          "heatmap": [
           {
            "colorbar": {
             "outlinewidth": 0,
             "ticks": ""
            },
            "colorscale": [
             [
              0,
              "#0d0887"
             ],
             [
              0.1111111111111111,
              "#46039f"
             ],
             [
              0.2222222222222222,
              "#7201a8"
             ],
             [
              0.3333333333333333,
              "#9c179e"
             ],
             [
              0.4444444444444444,
              "#bd3786"
             ],
             [
              0.5555555555555556,
              "#d8576b"
             ],
             [
              0.6666666666666666,
              "#ed7953"
             ],
             [
              0.7777777777777778,
              "#fb9f3a"
             ],
             [
              0.8888888888888888,
              "#fdca26"
             ],
             [
              1,
              "#f0f921"
             ]
            ],
            "type": "heatmap"
           }
          ],
          "heatmapgl": [
           {
            "colorbar": {
             "outlinewidth": 0,
             "ticks": ""
            },
            "colorscale": [
             [
              0,
              "#0d0887"
             ],
             [
              0.1111111111111111,
              "#46039f"
             ],
             [
              0.2222222222222222,
              "#7201a8"
             ],
             [
              0.3333333333333333,
              "#9c179e"
             ],
             [
              0.4444444444444444,
              "#bd3786"
             ],
             [
              0.5555555555555556,
              "#d8576b"
             ],
             [
              0.6666666666666666,
              "#ed7953"
             ],
             [
              0.7777777777777778,
              "#fb9f3a"
             ],
             [
              0.8888888888888888,
              "#fdca26"
             ],
             [
              1,
              "#f0f921"
             ]
            ],
            "type": "heatmapgl"
           }
          ],
          "histogram": [
           {
            "marker": {
             "pattern": {
              "fillmode": "overlay",
              "size": 10,
              "solidity": 0.2
             }
            },
            "type": "histogram"
           }
          ],
          "histogram2d": [
           {
            "colorbar": {
             "outlinewidth": 0,
             "ticks": ""
            },
            "colorscale": [
             [
              0,
              "#0d0887"
             ],
             [
              0.1111111111111111,
              "#46039f"
             ],
             [
              0.2222222222222222,
              "#7201a8"
             ],
             [
              0.3333333333333333,
              "#9c179e"
             ],
             [
              0.4444444444444444,
              "#bd3786"
             ],
             [
              0.5555555555555556,
              "#d8576b"
             ],
             [
              0.6666666666666666,
              "#ed7953"
             ],
             [
              0.7777777777777778,
              "#fb9f3a"
             ],
             [
              0.8888888888888888,
              "#fdca26"
             ],
             [
              1,
              "#f0f921"
             ]
            ],
            "type": "histogram2d"
           }
          ],
          "histogram2dcontour": [
           {
            "colorbar": {
             "outlinewidth": 0,
             "ticks": ""
            },
            "colorscale": [
             [
              0,
              "#0d0887"
             ],
             [
              0.1111111111111111,
              "#46039f"
             ],
             [
              0.2222222222222222,
              "#7201a8"
             ],
             [
              0.3333333333333333,
              "#9c179e"
             ],
             [
              0.4444444444444444,
              "#bd3786"
             ],
             [
              0.5555555555555556,
              "#d8576b"
             ],
             [
              0.6666666666666666,
              "#ed7953"
             ],
             [
              0.7777777777777778,
              "#fb9f3a"
             ],
             [
              0.8888888888888888,
              "#fdca26"
             ],
             [
              1,
              "#f0f921"
             ]
            ],
            "type": "histogram2dcontour"
           }
          ],
          "mesh3d": [
           {
            "colorbar": {
             "outlinewidth": 0,
             "ticks": ""
            },
            "type": "mesh3d"
           }
          ],
          "parcoords": [
           {
            "line": {
             "colorbar": {
              "outlinewidth": 0,
              "ticks": ""
             }
            },
            "type": "parcoords"
           }
          ],
          "pie": [
           {
            "automargin": true,
            "type": "pie"
           }
          ],
          "scatter": [
           {
            "fillpattern": {
             "fillmode": "overlay",
             "size": 10,
             "solidity": 0.2
            },
            "type": "scatter"
           }
          ],
          "scatter3d": [
           {
            "line": {
             "colorbar": {
              "outlinewidth": 0,
              "ticks": ""
             }
            },
            "marker": {
             "colorbar": {
              "outlinewidth": 0,
              "ticks": ""
             }
            },
            "type": "scatter3d"
           }
          ],
          "scattercarpet": [
           {
            "marker": {
             "colorbar": {
              "outlinewidth": 0,
              "ticks": ""
             }
            },
            "type": "scattercarpet"
           }
          ],
          "scattergeo": [
           {
            "marker": {
             "colorbar": {
              "outlinewidth": 0,
              "ticks": ""
             }
            },
            "type": "scattergeo"
           }
          ],
          "scattergl": [
           {
            "marker": {
             "colorbar": {
              "outlinewidth": 0,
              "ticks": ""
             }
            },
            "type": "scattergl"
           }
          ],
          "scattermapbox": [
           {
            "marker": {
             "colorbar": {
              "outlinewidth": 0,
              "ticks": ""
             }
            },
            "type": "scattermapbox"
           }
          ],
          "scatterpolar": [
           {
            "marker": {
             "colorbar": {
              "outlinewidth": 0,
              "ticks": ""
             }
            },
            "type": "scatterpolar"
           }
          ],
          "scatterpolargl": [
           {
            "marker": {
             "colorbar": {
              "outlinewidth": 0,
              "ticks": ""
             }
            },
            "type": "scatterpolargl"
           }
          ],
          "scatterternary": [
           {
            "marker": {
             "colorbar": {
              "outlinewidth": 0,
              "ticks": ""
             }
            },
            "type": "scatterternary"
           }
          ],
          "surface": [
           {
            "colorbar": {
             "outlinewidth": 0,
             "ticks": ""
            },
            "colorscale": [
             [
              0,
              "#0d0887"
             ],
             [
              0.1111111111111111,
              "#46039f"
             ],
             [
              0.2222222222222222,
              "#7201a8"
             ],
             [
              0.3333333333333333,
              "#9c179e"
             ],
             [
              0.4444444444444444,
              "#bd3786"
             ],
             [
              0.5555555555555556,
              "#d8576b"
             ],
             [
              0.6666666666666666,
              "#ed7953"
             ],
             [
              0.7777777777777778,
              "#fb9f3a"
             ],
             [
              0.8888888888888888,
              "#fdca26"
             ],
             [
              1,
              "#f0f921"
             ]
            ],
            "type": "surface"
           }
          ],
          "table": [
           {
            "cells": {
             "fill": {
              "color": "#EBF0F8"
             },
             "line": {
              "color": "white"
             }
            },
            "header": {
             "fill": {
              "color": "#C8D4E3"
             },
             "line": {
              "color": "white"
             }
            },
            "type": "table"
           }
          ]
         },
         "layout": {
          "annotationdefaults": {
           "arrowcolor": "#2a3f5f",
           "arrowhead": 0,
           "arrowwidth": 1
          },
          "autotypenumbers": "strict",
          "coloraxis": {
           "colorbar": {
            "outlinewidth": 0,
            "ticks": ""
           }
          },
          "colorscale": {
           "diverging": [
            [
             0,
             "#8e0152"
            ],
            [
             0.1,
             "#c51b7d"
            ],
            [
             0.2,
             "#de77ae"
            ],
            [
             0.3,
             "#f1b6da"
            ],
            [
             0.4,
             "#fde0ef"
            ],
            [
             0.5,
             "#f7f7f7"
            ],
            [
             0.6,
             "#e6f5d0"
            ],
            [
             0.7,
             "#b8e186"
            ],
            [
             0.8,
             "#7fbc41"
            ],
            [
             0.9,
             "#4d9221"
            ],
            [
             1,
             "#276419"
            ]
           ],
           "sequential": [
            [
             0,
             "#0d0887"
            ],
            [
             0.1111111111111111,
             "#46039f"
            ],
            [
             0.2222222222222222,
             "#7201a8"
            ],
            [
             0.3333333333333333,
             "#9c179e"
            ],
            [
             0.4444444444444444,
             "#bd3786"
            ],
            [
             0.5555555555555556,
             "#d8576b"
            ],
            [
             0.6666666666666666,
             "#ed7953"
            ],
            [
             0.7777777777777778,
             "#fb9f3a"
            ],
            [
             0.8888888888888888,
             "#fdca26"
            ],
            [
             1,
             "#f0f921"
            ]
           ],
           "sequentialminus": [
            [
             0,
             "#0d0887"
            ],
            [
             0.1111111111111111,
             "#46039f"
            ],
            [
             0.2222222222222222,
             "#7201a8"
            ],
            [
             0.3333333333333333,
             "#9c179e"
            ],
            [
             0.4444444444444444,
             "#bd3786"
            ],
            [
             0.5555555555555556,
             "#d8576b"
            ],
            [
             0.6666666666666666,
             "#ed7953"
            ],
            [
             0.7777777777777778,
             "#fb9f3a"
            ],
            [
             0.8888888888888888,
             "#fdca26"
            ],
            [
             1,
             "#f0f921"
            ]
           ]
          },
          "colorway": [
           "#636efa",
           "#EF553B",
           "#00cc96",
           "#ab63fa",
           "#FFA15A",
           "#19d3f3",
           "#FF6692",
           "#B6E880",
           "#FF97FF",
           "#FECB52"
          ],
          "font": {
           "color": "#2a3f5f"
          },
          "geo": {
           "bgcolor": "white",
           "lakecolor": "white",
           "landcolor": "white",
           "showlakes": true,
           "showland": true,
           "subunitcolor": "#C8D4E3"
          },
          "hoverlabel": {
           "align": "left"
          },
          "hovermode": "closest",
          "mapbox": {
           "style": "light"
          },
          "paper_bgcolor": "white",
          "plot_bgcolor": "white",
          "polar": {
           "angularaxis": {
            "gridcolor": "#EBF0F8",
            "linecolor": "#EBF0F8",
            "ticks": ""
           },
           "bgcolor": "white",
           "radialaxis": {
            "gridcolor": "#EBF0F8",
            "linecolor": "#EBF0F8",
            "ticks": ""
           }
          },
          "scene": {
           "xaxis": {
            "backgroundcolor": "white",
            "gridcolor": "#DFE8F3",
            "gridwidth": 2,
            "linecolor": "#EBF0F8",
            "showbackground": true,
            "ticks": "",
            "zerolinecolor": "#EBF0F8"
           },
           "yaxis": {
            "backgroundcolor": "white",
            "gridcolor": "#DFE8F3",
            "gridwidth": 2,
            "linecolor": "#EBF0F8",
            "showbackground": true,
            "ticks": "",
            "zerolinecolor": "#EBF0F8"
           },
           "zaxis": {
            "backgroundcolor": "white",
            "gridcolor": "#DFE8F3",
            "gridwidth": 2,
            "linecolor": "#EBF0F8",
            "showbackground": true,
            "ticks": "",
            "zerolinecolor": "#EBF0F8"
           }
          },
          "shapedefaults": {
           "line": {
            "color": "#2a3f5f"
           }
          },
          "ternary": {
           "aaxis": {
            "gridcolor": "#DFE8F3",
            "linecolor": "#A2B1C6",
            "ticks": ""
           },
           "baxis": {
            "gridcolor": "#DFE8F3",
            "linecolor": "#A2B1C6",
            "ticks": ""
           },
           "bgcolor": "white",
           "caxis": {
            "gridcolor": "#DFE8F3",
            "linecolor": "#A2B1C6",
            "ticks": ""
           }
          },
          "title": {
           "x": 0.05
          },
          "xaxis": {
           "automargin": true,
           "gridcolor": "#EBF0F8",
           "linecolor": "#EBF0F8",
           "ticks": "",
           "title": {
            "standoff": 15
           },
           "zerolinecolor": "#EBF0F8",
           "zerolinewidth": 2
          },
          "yaxis": {
           "automargin": true,
           "gridcolor": "#EBF0F8",
           "linecolor": "#EBF0F8",
           "ticks": "",
           "title": {
            "standoff": 15
           },
           "zerolinecolor": "#EBF0F8",
           "zerolinewidth": 2
          }
         }
        },
        "width": 1000,
        "xaxis": {
         "anchor": "y",
         "domain": [
          0,
          1
         ],
         "title": {
          "text": "0"
         }
        },
        "yaxis": {
         "anchor": "x",
         "domain": [
          0,
          1
         ],
         "title": {
          "text": "1"
         }
        }
       }
      },
      "text/html": [
       "<div>                            <div id=\"02dd2258-e30e-4d00-b589-38864b6add25\" class=\"plotly-graph-div\" style=\"height:1000px; width:1000px;\"></div>            <script type=\"text/javascript\">                require([\"plotly\"], function(Plotly) {                    window.PLOTLYENV=window.PLOTLYENV || {};                                    if (document.getElementById(\"02dd2258-e30e-4d00-b589-38864b6add25\")) {                    Plotly.newPlot(                        \"02dd2258-e30e-4d00-b589-38864b6add25\",                        [{\"hovertemplate\":\"overall_status=Completed<br>0=%{x}<br>1=%{y}<extra></extra>\",\"legendgroup\":\"Completed\",\"marker\":{\"color\":\"#1F77B4\",\"symbol\":\"circle\",\"size\":50},\"mode\":\"markers\",\"name\":\"Completed\",\"orientation\":\"v\",\"showlegend\":true,\"x\":[-2.3321095,-1.4969958,-3.2333333,-0.60218686,-1.4898013,-3.2889833,-0.8609126,-1.8039011,-2.1270251,-2.7923863,-2.0022728],\"xaxis\":\"x\",\"y\":[5.833864,4.6568303,5.0176625,4.5479903,6.022828,4.168846,5.114904,5.2845907,4.7436686,4.533803,3.9670029],\"yaxis\":\"y\",\"type\":\"scatter\"},{\"hovertemplate\":\"overall_status=Terminated<br>0=%{x}<br>1=%{y}<extra></extra>\",\"legendgroup\":\"Terminated\",\"marker\":{\"color\":\"#FF7F0E\",\"symbol\":\"circle\",\"size\":50},\"mode\":\"markers\",\"name\":\"Terminated\",\"orientation\":\"v\",\"showlegend\":true,\"x\":[-1.0211679,-2.888291],\"xaxis\":\"x\",\"y\":[4.0276127,5.8211794],\"yaxis\":\"y\",\"type\":\"scatter\"}],                        {\"template\":{\"data\":{\"barpolar\":[{\"marker\":{\"line\":{\"color\":\"white\",\"width\":0.5},\"pattern\":{\"fillmode\":\"overlay\",\"size\":10,\"solidity\":0.2}},\"type\":\"barpolar\"}],\"bar\":[{\"error_x\":{\"color\":\"#2a3f5f\"},\"error_y\":{\"color\":\"#2a3f5f\"},\"marker\":{\"line\":{\"color\":\"white\",\"width\":0.5},\"pattern\":{\"fillmode\":\"overlay\",\"size\":10,\"solidity\":0.2}},\"type\":\"bar\"}],\"carpet\":[{\"aaxis\":{\"endlinecolor\":\"#2a3f5f\",\"gridcolor\":\"#C8D4E3\",\"linecolor\":\"#C8D4E3\",\"minorgridcolor\":\"#C8D4E3\",\"startlinecolor\":\"#2a3f5f\"},\"baxis\":{\"endlinecolor\":\"#2a3f5f\",\"gridcolor\":\"#C8D4E3\",\"linecolor\":\"#C8D4E3\",\"minorgridcolor\":\"#C8D4E3\",\"startlinecolor\":\"#2a3f5f\"},\"type\":\"carpet\"}],\"choropleth\":[{\"colorbar\":{\"outlinewidth\":0,\"ticks\":\"\"},\"type\":\"choropleth\"}],\"contourcarpet\":[{\"colorbar\":{\"outlinewidth\":0,\"ticks\":\"\"},\"type\":\"contourcarpet\"}],\"contour\":[{\"colorbar\":{\"outlinewidth\":0,\"ticks\":\"\"},\"colorscale\":[[0.0,\"#0d0887\"],[0.1111111111111111,\"#46039f\"],[0.2222222222222222,\"#7201a8\"],[0.3333333333333333,\"#9c179e\"],[0.4444444444444444,\"#bd3786\"],[0.5555555555555556,\"#d8576b\"],[0.6666666666666666,\"#ed7953\"],[0.7777777777777778,\"#fb9f3a\"],[0.8888888888888888,\"#fdca26\"],[1.0,\"#f0f921\"]],\"type\":\"contour\"}],\"heatmapgl\":[{\"colorbar\":{\"outlinewidth\":0,\"ticks\":\"\"},\"colorscale\":[[0.0,\"#0d0887\"],[0.1111111111111111,\"#46039f\"],[0.2222222222222222,\"#7201a8\"],[0.3333333333333333,\"#9c179e\"],[0.4444444444444444,\"#bd3786\"],[0.5555555555555556,\"#d8576b\"],[0.6666666666666666,\"#ed7953\"],[0.7777777777777778,\"#fb9f3a\"],[0.8888888888888888,\"#fdca26\"],[1.0,\"#f0f921\"]],\"type\":\"heatmapgl\"}],\"heatmap\":[{\"colorbar\":{\"outlinewidth\":0,\"ticks\":\"\"},\"colorscale\":[[0.0,\"#0d0887\"],[0.1111111111111111,\"#46039f\"],[0.2222222222222222,\"#7201a8\"],[0.3333333333333333,\"#9c179e\"],[0.4444444444444444,\"#bd3786\"],[0.5555555555555556,\"#d8576b\"],[0.6666666666666666,\"#ed7953\"],[0.7777777777777778,\"#fb9f3a\"],[0.8888888888888888,\"#fdca26\"],[1.0,\"#f0f921\"]],\"type\":\"heatmap\"}],\"histogram2dcontour\":[{\"colorbar\":{\"outlinewidth\":0,\"ticks\":\"\"},\"colorscale\":[[0.0,\"#0d0887\"],[0.1111111111111111,\"#46039f\"],[0.2222222222222222,\"#7201a8\"],[0.3333333333333333,\"#9c179e\"],[0.4444444444444444,\"#bd3786\"],[0.5555555555555556,\"#d8576b\"],[0.6666666666666666,\"#ed7953\"],[0.7777777777777778,\"#fb9f3a\"],[0.8888888888888888,\"#fdca26\"],[1.0,\"#f0f921\"]],\"type\":\"histogram2dcontour\"}],\"histogram2d\":[{\"colorbar\":{\"outlinewidth\":0,\"ticks\":\"\"},\"colorscale\":[[0.0,\"#0d0887\"],[0.1111111111111111,\"#46039f\"],[0.2222222222222222,\"#7201a8\"],[0.3333333333333333,\"#9c179e\"],[0.4444444444444444,\"#bd3786\"],[0.5555555555555556,\"#d8576b\"],[0.6666666666666666,\"#ed7953\"],[0.7777777777777778,\"#fb9f3a\"],[0.8888888888888888,\"#fdca26\"],[1.0,\"#f0f921\"]],\"type\":\"histogram2d\"}],\"histogram\":[{\"marker\":{\"pattern\":{\"fillmode\":\"overlay\",\"size\":10,\"solidity\":0.2}},\"type\":\"histogram\"}],\"mesh3d\":[{\"colorbar\":{\"outlinewidth\":0,\"ticks\":\"\"},\"type\":\"mesh3d\"}],\"parcoords\":[{\"line\":{\"colorbar\":{\"outlinewidth\":0,\"ticks\":\"\"}},\"type\":\"parcoords\"}],\"pie\":[{\"automargin\":true,\"type\":\"pie\"}],\"scatter3d\":[{\"line\":{\"colorbar\":{\"outlinewidth\":0,\"ticks\":\"\"}},\"marker\":{\"colorbar\":{\"outlinewidth\":0,\"ticks\":\"\"}},\"type\":\"scatter3d\"}],\"scattercarpet\":[{\"marker\":{\"colorbar\":{\"outlinewidth\":0,\"ticks\":\"\"}},\"type\":\"scattercarpet\"}],\"scattergeo\":[{\"marker\":{\"colorbar\":{\"outlinewidth\":0,\"ticks\":\"\"}},\"type\":\"scattergeo\"}],\"scattergl\":[{\"marker\":{\"colorbar\":{\"outlinewidth\":0,\"ticks\":\"\"}},\"type\":\"scattergl\"}],\"scattermapbox\":[{\"marker\":{\"colorbar\":{\"outlinewidth\":0,\"ticks\":\"\"}},\"type\":\"scattermapbox\"}],\"scatterpolargl\":[{\"marker\":{\"colorbar\":{\"outlinewidth\":0,\"ticks\":\"\"}},\"type\":\"scatterpolargl\"}],\"scatterpolar\":[{\"marker\":{\"colorbar\":{\"outlinewidth\":0,\"ticks\":\"\"}},\"type\":\"scatterpolar\"}],\"scatter\":[{\"fillpattern\":{\"fillmode\":\"overlay\",\"size\":10,\"solidity\":0.2},\"type\":\"scatter\"}],\"scatterternary\":[{\"marker\":{\"colorbar\":{\"outlinewidth\":0,\"ticks\":\"\"}},\"type\":\"scatterternary\"}],\"surface\":[{\"colorbar\":{\"outlinewidth\":0,\"ticks\":\"\"},\"colorscale\":[[0.0,\"#0d0887\"],[0.1111111111111111,\"#46039f\"],[0.2222222222222222,\"#7201a8\"],[0.3333333333333333,\"#9c179e\"],[0.4444444444444444,\"#bd3786\"],[0.5555555555555556,\"#d8576b\"],[0.6666666666666666,\"#ed7953\"],[0.7777777777777778,\"#fb9f3a\"],[0.8888888888888888,\"#fdca26\"],[1.0,\"#f0f921\"]],\"type\":\"surface\"}],\"table\":[{\"cells\":{\"fill\":{\"color\":\"#EBF0F8\"},\"line\":{\"color\":\"white\"}},\"header\":{\"fill\":{\"color\":\"#C8D4E3\"},\"line\":{\"color\":\"white\"}},\"type\":\"table\"}]},\"layout\":{\"annotationdefaults\":{\"arrowcolor\":\"#2a3f5f\",\"arrowhead\":0,\"arrowwidth\":1},\"autotypenumbers\":\"strict\",\"coloraxis\":{\"colorbar\":{\"outlinewidth\":0,\"ticks\":\"\"}},\"colorscale\":{\"diverging\":[[0,\"#8e0152\"],[0.1,\"#c51b7d\"],[0.2,\"#de77ae\"],[0.3,\"#f1b6da\"],[0.4,\"#fde0ef\"],[0.5,\"#f7f7f7\"],[0.6,\"#e6f5d0\"],[0.7,\"#b8e186\"],[0.8,\"#7fbc41\"],[0.9,\"#4d9221\"],[1,\"#276419\"]],\"sequential\":[[0.0,\"#0d0887\"],[0.1111111111111111,\"#46039f\"],[0.2222222222222222,\"#7201a8\"],[0.3333333333333333,\"#9c179e\"],[0.4444444444444444,\"#bd3786\"],[0.5555555555555556,\"#d8576b\"],[0.6666666666666666,\"#ed7953\"],[0.7777777777777778,\"#fb9f3a\"],[0.8888888888888888,\"#fdca26\"],[1.0,\"#f0f921\"]],\"sequentialminus\":[[0.0,\"#0d0887\"],[0.1111111111111111,\"#46039f\"],[0.2222222222222222,\"#7201a8\"],[0.3333333333333333,\"#9c179e\"],[0.4444444444444444,\"#bd3786\"],[0.5555555555555556,\"#d8576b\"],[0.6666666666666666,\"#ed7953\"],[0.7777777777777778,\"#fb9f3a\"],[0.8888888888888888,\"#fdca26\"],[1.0,\"#f0f921\"]]},\"colorway\":[\"#636efa\",\"#EF553B\",\"#00cc96\",\"#ab63fa\",\"#FFA15A\",\"#19d3f3\",\"#FF6692\",\"#B6E880\",\"#FF97FF\",\"#FECB52\"],\"font\":{\"color\":\"#2a3f5f\"},\"geo\":{\"bgcolor\":\"white\",\"lakecolor\":\"white\",\"landcolor\":\"white\",\"showlakes\":true,\"showland\":true,\"subunitcolor\":\"#C8D4E3\"},\"hoverlabel\":{\"align\":\"left\"},\"hovermode\":\"closest\",\"mapbox\":{\"style\":\"light\"},\"paper_bgcolor\":\"white\",\"plot_bgcolor\":\"white\",\"polar\":{\"angularaxis\":{\"gridcolor\":\"#EBF0F8\",\"linecolor\":\"#EBF0F8\",\"ticks\":\"\"},\"bgcolor\":\"white\",\"radialaxis\":{\"gridcolor\":\"#EBF0F8\",\"linecolor\":\"#EBF0F8\",\"ticks\":\"\"}},\"scene\":{\"xaxis\":{\"backgroundcolor\":\"white\",\"gridcolor\":\"#DFE8F3\",\"gridwidth\":2,\"linecolor\":\"#EBF0F8\",\"showbackground\":true,\"ticks\":\"\",\"zerolinecolor\":\"#EBF0F8\"},\"yaxis\":{\"backgroundcolor\":\"white\",\"gridcolor\":\"#DFE8F3\",\"gridwidth\":2,\"linecolor\":\"#EBF0F8\",\"showbackground\":true,\"ticks\":\"\",\"zerolinecolor\":\"#EBF0F8\"},\"zaxis\":{\"backgroundcolor\":\"white\",\"gridcolor\":\"#DFE8F3\",\"gridwidth\":2,\"linecolor\":\"#EBF0F8\",\"showbackground\":true,\"ticks\":\"\",\"zerolinecolor\":\"#EBF0F8\"}},\"shapedefaults\":{\"line\":{\"color\":\"#2a3f5f\"}},\"ternary\":{\"aaxis\":{\"gridcolor\":\"#DFE8F3\",\"linecolor\":\"#A2B1C6\",\"ticks\":\"\"},\"baxis\":{\"gridcolor\":\"#DFE8F3\",\"linecolor\":\"#A2B1C6\",\"ticks\":\"\"},\"bgcolor\":\"white\",\"caxis\":{\"gridcolor\":\"#DFE8F3\",\"linecolor\":\"#A2B1C6\",\"ticks\":\"\"}},\"title\":{\"x\":0.05},\"xaxis\":{\"automargin\":true,\"gridcolor\":\"#EBF0F8\",\"linecolor\":\"#EBF0F8\",\"ticks\":\"\",\"title\":{\"standoff\":15},\"zerolinecolor\":\"#EBF0F8\",\"zerolinewidth\":2},\"yaxis\":{\"automargin\":true,\"gridcolor\":\"#EBF0F8\",\"linecolor\":\"#EBF0F8\",\"ticks\":\"\",\"title\":{\"standoff\":15},\"zerolinecolor\":\"#EBF0F8\",\"zerolinewidth\":2}}},\"xaxis\":{\"anchor\":\"y\",\"domain\":[0.0,1.0],\"title\":{\"text\":\"0\"}},\"yaxis\":{\"anchor\":\"x\",\"domain\":[0.0,1.0],\"title\":{\"text\":\"1\"}},\"legend\":{\"title\":{\"text\":\"overall_status\"},\"tracegroupgap\":0},\"margin\":{\"t\":60},\"autosize\":true,\"width\":1000,\"height\":1000},                        {\"responsive\": true}                    ).then(function(){\n",
       "                            \n",
       "var gd = document.getElementById('02dd2258-e30e-4d00-b589-38864b6add25');\n",
       "var x = new MutationObserver(function (mutations, observer) {{\n",
       "        var display = window.getComputedStyle(gd).display;\n",
       "        if (!display || display === 'none') {{\n",
       "            console.log([gd, 'removed!']);\n",
       "            Plotly.purge(gd);\n",
       "            observer.disconnect();\n",
       "        }}\n",
       "}});\n",
       "\n",
       "// Listen for the removal of the full notebook cells\n",
       "var notebookContainer = gd.closest('#notebook-container');\n",
       "if (notebookContainer) {{\n",
       "    x.observe(notebookContainer, {childList: true});\n",
       "}}\n",
       "\n",
       "// Listen for the clearing of the current output cell\n",
       "var outputEl = gd.closest('.output');\n",
       "if (outputEl) {{\n",
       "    x.observe(outputEl, {childList: true});\n",
       "}}\n",
       "\n",
       "                        })                };                });            </script>        </div>"
      ]
     },
     "metadata": {},
     "output_type": "display_data"
    }
   ],
   "source": [
    "fig = px.scatter(\n",
    "    umap_embeddings,\n",
    "    x=0, \n",
    "    y=1,\n",
    "    color=df[\"overall_status\"],\n",
    "    labels={\"color\": \"overall_status\"}, \n",
    "    color_discrete_sequence=px.colors.qualitative.D3,\n",
    ")\n",
    "\n",
    "# Available templates:\n",
    "# ['ggplot2', 'seaborn', 'simple_white', 'plotly',\n",
    "# 'plotly_white', 'plotly_dark', 'presentation', 'xgridoff',\n",
    "# 'ygridoff', 'gridon', 'none']\n",
    "        \n",
    "fig.update_layout(\n",
    "    template=\"plotly_white\",\n",
    "    autosize=True,\n",
    "    width=1000,\n",
    "    height=1000, \n",
    ")\n",
    "fig.update_traces(marker_size=50)\n",
    "\n",
    "fig.show()"
   ]
  },
  {
   "cell_type": "code",
   "execution_count": 19,
   "metadata": {},
   "outputs": [],
   "source": [
    "tsne_mapper = TSNE(n_components=2, \n",
    "    perplexity=30, \n",
    "    random_state=42,\n",
    "    init='random', \n",
    "    learning_rate=10\n",
    ")\n",
    "\n",
    "tsne_embeddings = tsne_mapper.fit_transform(array)\n"
   ]
  },
  {
   "cell_type": "code",
   "execution_count": 20,
   "metadata": {},
   "outputs": [
    {
     "data": {
      "application/vnd.plotly.v1+json": {
       "config": {
        "plotlyServerURL": "https://plot.ly"
       },
       "data": [
        {
         "hovertemplate": "overall_status=Completed<br>0=%{x}<br>1=%{y}<extra></extra>",
         "legendgroup": "Completed",
         "marker": {
          "color": "#1F77B4",
          "size": 50,
          "symbol": "circle"
         },
         "mode": "markers",
         "name": "Completed",
         "orientation": "v",
         "showlegend": true,
         "type": "scatter",
         "x": [
          -2.4336188,
          -2.4332078,
          -2.4274046,
          -2.4249873,
          -2.4288921,
          -2.4301815,
          -2.425597,
          -2.4305334,
          -2.427301,
          -2.4256139,
          -2.4286551
         ],
         "xaxis": "x",
         "y": [
          -1.1299732,
          -1.1302347,
          -1.1339785,
          -1.1318332,
          -1.1266154,
          -1.1343813,
          -1.1284872,
          -1.1340934,
          -1.1269474,
          -1.1332932,
          -1.1259319
         ],
         "yaxis": "y"
        },
        {
         "hovertemplate": "overall_status=Terminated<br>0=%{x}<br>1=%{y}<extra></extra>",
         "legendgroup": "Terminated",
         "marker": {
          "color": "#FF7F0E",
          "size": 50,
          "symbol": "circle"
         },
         "mode": "markers",
         "name": "Terminated",
         "orientation": "v",
         "showlegend": true,
         "type": "scatter",
         "x": [
          -2.4332228,
          -2.430054
         ],
         "xaxis": "x",
         "y": [
          -1.1300385,
          -1.1340824
         ],
         "yaxis": "y"
        }
       ],
       "layout": {
        "autosize": true,
        "height": 1000,
        "legend": {
         "title": {
          "text": "overall_status"
         },
         "tracegroupgap": 0
        },
        "margin": {
         "t": 60
        },
        "template": {
         "data": {
          "bar": [
           {
            "error_x": {
             "color": "#2a3f5f"
            },
            "error_y": {
             "color": "#2a3f5f"
            },
            "marker": {
             "line": {
              "color": "white",
              "width": 0.5
             },
             "pattern": {
              "fillmode": "overlay",
              "size": 10,
              "solidity": 0.2
             }
            },
            "type": "bar"
           }
          ],
          "barpolar": [
           {
            "marker": {
             "line": {
              "color": "white",
              "width": 0.5
             },
             "pattern": {
              "fillmode": "overlay",
              "size": 10,
              "solidity": 0.2
             }
            },
            "type": "barpolar"
           }
          ],
          "carpet": [
           {
            "aaxis": {
             "endlinecolor": "#2a3f5f",
             "gridcolor": "#C8D4E3",
             "linecolor": "#C8D4E3",
             "minorgridcolor": "#C8D4E3",
             "startlinecolor": "#2a3f5f"
            },
            "baxis": {
             "endlinecolor": "#2a3f5f",
             "gridcolor": "#C8D4E3",
             "linecolor": "#C8D4E3",
             "minorgridcolor": "#C8D4E3",
             "startlinecolor": "#2a3f5f"
            },
            "type": "carpet"
           }
          ],
          "choropleth": [
           {
            "colorbar": {
             "outlinewidth": 0,
             "ticks": ""
            },
            "type": "choropleth"
           }
          ],
          "contour": [
           {
            "colorbar": {
             "outlinewidth": 0,
             "ticks": ""
            },
            "colorscale": [
             [
              0,
              "#0d0887"
             ],
             [
              0.1111111111111111,
              "#46039f"
             ],
             [
              0.2222222222222222,
              "#7201a8"
             ],
             [
              0.3333333333333333,
              "#9c179e"
             ],
             [
              0.4444444444444444,
              "#bd3786"
             ],
             [
              0.5555555555555556,
              "#d8576b"
             ],
             [
              0.6666666666666666,
              "#ed7953"
             ],
             [
              0.7777777777777778,
              "#fb9f3a"
             ],
             [
              0.8888888888888888,
              "#fdca26"
             ],
             [
              1,
              "#f0f921"
             ]
            ],
            "type": "contour"
           }
          ],
          "contourcarpet": [
           {
            "colorbar": {
             "outlinewidth": 0,
             "ticks": ""
            },
            "type": "contourcarpet"
           }
          ],
          "heatmap": [
           {
            "colorbar": {
             "outlinewidth": 0,
             "ticks": ""
            },
            "colorscale": [
             [
              0,
              "#0d0887"
             ],
             [
              0.1111111111111111,
              "#46039f"
             ],
             [
              0.2222222222222222,
              "#7201a8"
             ],
             [
              0.3333333333333333,
              "#9c179e"
             ],
             [
              0.4444444444444444,
              "#bd3786"
             ],
             [
              0.5555555555555556,
              "#d8576b"
             ],
             [
              0.6666666666666666,
              "#ed7953"
             ],
             [
              0.7777777777777778,
              "#fb9f3a"
             ],
             [
              0.8888888888888888,
              "#fdca26"
             ],
             [
              1,
              "#f0f921"
             ]
            ],
            "type": "heatmap"
           }
          ],
          "heatmapgl": [
           {
            "colorbar": {
             "outlinewidth": 0,
             "ticks": ""
            },
            "colorscale": [
             [
              0,
              "#0d0887"
             ],
             [
              0.1111111111111111,
              "#46039f"
             ],
             [
              0.2222222222222222,
              "#7201a8"
             ],
             [
              0.3333333333333333,
              "#9c179e"
             ],
             [
              0.4444444444444444,
              "#bd3786"
             ],
             [
              0.5555555555555556,
              "#d8576b"
             ],
             [
              0.6666666666666666,
              "#ed7953"
             ],
             [
              0.7777777777777778,
              "#fb9f3a"
             ],
             [
              0.8888888888888888,
              "#fdca26"
             ],
             [
              1,
              "#f0f921"
             ]
            ],
            "type": "heatmapgl"
           }
          ],
          "histogram": [
           {
            "marker": {
             "pattern": {
              "fillmode": "overlay",
              "size": 10,
              "solidity": 0.2
             }
            },
            "type": "histogram"
           }
          ],
          "histogram2d": [
           {
            "colorbar": {
             "outlinewidth": 0,
             "ticks": ""
            },
            "colorscale": [
             [
              0,
              "#0d0887"
             ],
             [
              0.1111111111111111,
              "#46039f"
             ],
             [
              0.2222222222222222,
              "#7201a8"
             ],
             [
              0.3333333333333333,
              "#9c179e"
             ],
             [
              0.4444444444444444,
              "#bd3786"
             ],
             [
              0.5555555555555556,
              "#d8576b"
             ],
             [
              0.6666666666666666,
              "#ed7953"
             ],
             [
              0.7777777777777778,
              "#fb9f3a"
             ],
             [
              0.8888888888888888,
              "#fdca26"
             ],
             [
              1,
              "#f0f921"
             ]
            ],
            "type": "histogram2d"
           }
          ],
          "histogram2dcontour": [
           {
            "colorbar": {
             "outlinewidth": 0,
             "ticks": ""
            },
            "colorscale": [
             [
              0,
              "#0d0887"
             ],
             [
              0.1111111111111111,
              "#46039f"
             ],
             [
              0.2222222222222222,
              "#7201a8"
             ],
             [
              0.3333333333333333,
              "#9c179e"
             ],
             [
              0.4444444444444444,
              "#bd3786"
             ],
             [
              0.5555555555555556,
              "#d8576b"
             ],
             [
              0.6666666666666666,
              "#ed7953"
             ],
             [
              0.7777777777777778,
              "#fb9f3a"
             ],
             [
              0.8888888888888888,
              "#fdca26"
             ],
             [
              1,
              "#f0f921"
             ]
            ],
            "type": "histogram2dcontour"
           }
          ],
          "mesh3d": [
           {
            "colorbar": {
             "outlinewidth": 0,
             "ticks": ""
            },
            "type": "mesh3d"
           }
          ],
          "parcoords": [
           {
            "line": {
             "colorbar": {
              "outlinewidth": 0,
              "ticks": ""
             }
            },
            "type": "parcoords"
           }
          ],
          "pie": [
           {
            "automargin": true,
            "type": "pie"
           }
          ],
          "scatter": [
           {
            "fillpattern": {
             "fillmode": "overlay",
             "size": 10,
             "solidity": 0.2
            },
            "type": "scatter"
           }
          ],
          "scatter3d": [
           {
            "line": {
             "colorbar": {
              "outlinewidth": 0,
              "ticks": ""
             }
            },
            "marker": {
             "colorbar": {
              "outlinewidth": 0,
              "ticks": ""
             }
            },
            "type": "scatter3d"
           }
          ],
          "scattercarpet": [
           {
            "marker": {
             "colorbar": {
              "outlinewidth": 0,
              "ticks": ""
             }
            },
            "type": "scattercarpet"
           }
          ],
          "scattergeo": [
           {
            "marker": {
             "colorbar": {
              "outlinewidth": 0,
              "ticks": ""
             }
            },
            "type": "scattergeo"
           }
          ],
          "scattergl": [
           {
            "marker": {
             "colorbar": {
              "outlinewidth": 0,
              "ticks": ""
             }
            },
            "type": "scattergl"
           }
          ],
          "scattermapbox": [
           {
            "marker": {
             "colorbar": {
              "outlinewidth": 0,
              "ticks": ""
             }
            },
            "type": "scattermapbox"
           }
          ],
          "scatterpolar": [
           {
            "marker": {
             "colorbar": {
              "outlinewidth": 0,
              "ticks": ""
             }
            },
            "type": "scatterpolar"
           }
          ],
          "scatterpolargl": [
           {
            "marker": {
             "colorbar": {
              "outlinewidth": 0,
              "ticks": ""
             }
            },
            "type": "scatterpolargl"
           }
          ],
          "scatterternary": [
           {
            "marker": {
             "colorbar": {
              "outlinewidth": 0,
              "ticks": ""
             }
            },
            "type": "scatterternary"
           }
          ],
          "surface": [
           {
            "colorbar": {
             "outlinewidth": 0,
             "ticks": ""
            },
            "colorscale": [
             [
              0,
              "#0d0887"
             ],
             [
              0.1111111111111111,
              "#46039f"
             ],
             [
              0.2222222222222222,
              "#7201a8"
             ],
             [
              0.3333333333333333,
              "#9c179e"
             ],
             [
              0.4444444444444444,
              "#bd3786"
             ],
             [
              0.5555555555555556,
              "#d8576b"
             ],
             [
              0.6666666666666666,
              "#ed7953"
             ],
             [
              0.7777777777777778,
              "#fb9f3a"
             ],
             [
              0.8888888888888888,
              "#fdca26"
             ],
             [
              1,
              "#f0f921"
             ]
            ],
            "type": "surface"
           }
          ],
          "table": [
           {
            "cells": {
             "fill": {
              "color": "#EBF0F8"
             },
             "line": {
              "color": "white"
             }
            },
            "header": {
             "fill": {
              "color": "#C8D4E3"
             },
             "line": {
              "color": "white"
             }
            },
            "type": "table"
           }
          ]
         },
         "layout": {
          "annotationdefaults": {
           "arrowcolor": "#2a3f5f",
           "arrowhead": 0,
           "arrowwidth": 1
          },
          "autotypenumbers": "strict",
          "coloraxis": {
           "colorbar": {
            "outlinewidth": 0,
            "ticks": ""
           }
          },
          "colorscale": {
           "diverging": [
            [
             0,
             "#8e0152"
            ],
            [
             0.1,
             "#c51b7d"
            ],
            [
             0.2,
             "#de77ae"
            ],
            [
             0.3,
             "#f1b6da"
            ],
            [
             0.4,
             "#fde0ef"
            ],
            [
             0.5,
             "#f7f7f7"
            ],
            [
             0.6,
             "#e6f5d0"
            ],
            [
             0.7,
             "#b8e186"
            ],
            [
             0.8,
             "#7fbc41"
            ],
            [
             0.9,
             "#4d9221"
            ],
            [
             1,
             "#276419"
            ]
           ],
           "sequential": [
            [
             0,
             "#0d0887"
            ],
            [
             0.1111111111111111,
             "#46039f"
            ],
            [
             0.2222222222222222,
             "#7201a8"
            ],
            [
             0.3333333333333333,
             "#9c179e"
            ],
            [
             0.4444444444444444,
             "#bd3786"
            ],
            [
             0.5555555555555556,
             "#d8576b"
            ],
            [
             0.6666666666666666,
             "#ed7953"
            ],
            [
             0.7777777777777778,
             "#fb9f3a"
            ],
            [
             0.8888888888888888,
             "#fdca26"
            ],
            [
             1,
             "#f0f921"
            ]
           ],
           "sequentialminus": [
            [
             0,
             "#0d0887"
            ],
            [
             0.1111111111111111,
             "#46039f"
            ],
            [
             0.2222222222222222,
             "#7201a8"
            ],
            [
             0.3333333333333333,
             "#9c179e"
            ],
            [
             0.4444444444444444,
             "#bd3786"
            ],
            [
             0.5555555555555556,
             "#d8576b"
            ],
            [
             0.6666666666666666,
             "#ed7953"
            ],
            [
             0.7777777777777778,
             "#fb9f3a"
            ],
            [
             0.8888888888888888,
             "#fdca26"
            ],
            [
             1,
             "#f0f921"
            ]
           ]
          },
          "colorway": [
           "#636efa",
           "#EF553B",
           "#00cc96",
           "#ab63fa",
           "#FFA15A",
           "#19d3f3",
           "#FF6692",
           "#B6E880",
           "#FF97FF",
           "#FECB52"
          ],
          "font": {
           "color": "#2a3f5f"
          },
          "geo": {
           "bgcolor": "white",
           "lakecolor": "white",
           "landcolor": "white",
           "showlakes": true,
           "showland": true,
           "subunitcolor": "#C8D4E3"
          },
          "hoverlabel": {
           "align": "left"
          },
          "hovermode": "closest",
          "mapbox": {
           "style": "light"
          },
          "paper_bgcolor": "white",
          "plot_bgcolor": "white",
          "polar": {
           "angularaxis": {
            "gridcolor": "#EBF0F8",
            "linecolor": "#EBF0F8",
            "ticks": ""
           },
           "bgcolor": "white",
           "radialaxis": {
            "gridcolor": "#EBF0F8",
            "linecolor": "#EBF0F8",
            "ticks": ""
           }
          },
          "scene": {
           "xaxis": {
            "backgroundcolor": "white",
            "gridcolor": "#DFE8F3",
            "gridwidth": 2,
            "linecolor": "#EBF0F8",
            "showbackground": true,
            "ticks": "",
            "zerolinecolor": "#EBF0F8"
           },
           "yaxis": {
            "backgroundcolor": "white",
            "gridcolor": "#DFE8F3",
            "gridwidth": 2,
            "linecolor": "#EBF0F8",
            "showbackground": true,
            "ticks": "",
            "zerolinecolor": "#EBF0F8"
           },
           "zaxis": {
            "backgroundcolor": "white",
            "gridcolor": "#DFE8F3",
            "gridwidth": 2,
            "linecolor": "#EBF0F8",
            "showbackground": true,
            "ticks": "",
            "zerolinecolor": "#EBF0F8"
           }
          },
          "shapedefaults": {
           "line": {
            "color": "#2a3f5f"
           }
          },
          "ternary": {
           "aaxis": {
            "gridcolor": "#DFE8F3",
            "linecolor": "#A2B1C6",
            "ticks": ""
           },
           "baxis": {
            "gridcolor": "#DFE8F3",
            "linecolor": "#A2B1C6",
            "ticks": ""
           },
           "bgcolor": "white",
           "caxis": {
            "gridcolor": "#DFE8F3",
            "linecolor": "#A2B1C6",
            "ticks": ""
           }
          },
          "title": {
           "x": 0.05
          },
          "xaxis": {
           "automargin": true,
           "gridcolor": "#EBF0F8",
           "linecolor": "#EBF0F8",
           "ticks": "",
           "title": {
            "standoff": 15
           },
           "zerolinecolor": "#EBF0F8",
           "zerolinewidth": 2
          },
          "yaxis": {
           "automargin": true,
           "gridcolor": "#EBF0F8",
           "linecolor": "#EBF0F8",
           "ticks": "",
           "title": {
            "standoff": 15
           },
           "zerolinecolor": "#EBF0F8",
           "zerolinewidth": 2
          }
         }
        },
        "width": 1000,
        "xaxis": {
         "anchor": "y",
         "domain": [
          0,
          1
         ],
         "title": {
          "text": "0"
         }
        },
        "yaxis": {
         "anchor": "x",
         "domain": [
          0,
          1
         ],
         "title": {
          "text": "1"
         }
        }
       }
      },
      "text/html": [
       "<div>                            <div id=\"49757b85-6b82-4962-acb8-e37e92b3bd41\" class=\"plotly-graph-div\" style=\"height:1000px; width:1000px;\"></div>            <script type=\"text/javascript\">                require([\"plotly\"], function(Plotly) {                    window.PLOTLYENV=window.PLOTLYENV || {};                                    if (document.getElementById(\"49757b85-6b82-4962-acb8-e37e92b3bd41\")) {                    Plotly.newPlot(                        \"49757b85-6b82-4962-acb8-e37e92b3bd41\",                        [{\"hovertemplate\":\"overall_status=Completed<br>0=%{x}<br>1=%{y}<extra></extra>\",\"legendgroup\":\"Completed\",\"marker\":{\"color\":\"#1F77B4\",\"symbol\":\"circle\",\"size\":50},\"mode\":\"markers\",\"name\":\"Completed\",\"orientation\":\"v\",\"showlegend\":true,\"x\":[-2.4336188,-2.4332078,-2.4274046,-2.4249873,-2.4288921,-2.4301815,-2.425597,-2.4305334,-2.427301,-2.4256139,-2.4286551],\"xaxis\":\"x\",\"y\":[-1.1299732,-1.1302347,-1.1339785,-1.1318332,-1.1266154,-1.1343813,-1.1284872,-1.1340934,-1.1269474,-1.1332932,-1.1259319],\"yaxis\":\"y\",\"type\":\"scatter\"},{\"hovertemplate\":\"overall_status=Terminated<br>0=%{x}<br>1=%{y}<extra></extra>\",\"legendgroup\":\"Terminated\",\"marker\":{\"color\":\"#FF7F0E\",\"symbol\":\"circle\",\"size\":50},\"mode\":\"markers\",\"name\":\"Terminated\",\"orientation\":\"v\",\"showlegend\":true,\"x\":[-2.4332228,-2.430054],\"xaxis\":\"x\",\"y\":[-1.1300385,-1.1340824],\"yaxis\":\"y\",\"type\":\"scatter\"}],                        {\"template\":{\"data\":{\"barpolar\":[{\"marker\":{\"line\":{\"color\":\"white\",\"width\":0.5},\"pattern\":{\"fillmode\":\"overlay\",\"size\":10,\"solidity\":0.2}},\"type\":\"barpolar\"}],\"bar\":[{\"error_x\":{\"color\":\"#2a3f5f\"},\"error_y\":{\"color\":\"#2a3f5f\"},\"marker\":{\"line\":{\"color\":\"white\",\"width\":0.5},\"pattern\":{\"fillmode\":\"overlay\",\"size\":10,\"solidity\":0.2}},\"type\":\"bar\"}],\"carpet\":[{\"aaxis\":{\"endlinecolor\":\"#2a3f5f\",\"gridcolor\":\"#C8D4E3\",\"linecolor\":\"#C8D4E3\",\"minorgridcolor\":\"#C8D4E3\",\"startlinecolor\":\"#2a3f5f\"},\"baxis\":{\"endlinecolor\":\"#2a3f5f\",\"gridcolor\":\"#C8D4E3\",\"linecolor\":\"#C8D4E3\",\"minorgridcolor\":\"#C8D4E3\",\"startlinecolor\":\"#2a3f5f\"},\"type\":\"carpet\"}],\"choropleth\":[{\"colorbar\":{\"outlinewidth\":0,\"ticks\":\"\"},\"type\":\"choropleth\"}],\"contourcarpet\":[{\"colorbar\":{\"outlinewidth\":0,\"ticks\":\"\"},\"type\":\"contourcarpet\"}],\"contour\":[{\"colorbar\":{\"outlinewidth\":0,\"ticks\":\"\"},\"colorscale\":[[0.0,\"#0d0887\"],[0.1111111111111111,\"#46039f\"],[0.2222222222222222,\"#7201a8\"],[0.3333333333333333,\"#9c179e\"],[0.4444444444444444,\"#bd3786\"],[0.5555555555555556,\"#d8576b\"],[0.6666666666666666,\"#ed7953\"],[0.7777777777777778,\"#fb9f3a\"],[0.8888888888888888,\"#fdca26\"],[1.0,\"#f0f921\"]],\"type\":\"contour\"}],\"heatmapgl\":[{\"colorbar\":{\"outlinewidth\":0,\"ticks\":\"\"},\"colorscale\":[[0.0,\"#0d0887\"],[0.1111111111111111,\"#46039f\"],[0.2222222222222222,\"#7201a8\"],[0.3333333333333333,\"#9c179e\"],[0.4444444444444444,\"#bd3786\"],[0.5555555555555556,\"#d8576b\"],[0.6666666666666666,\"#ed7953\"],[0.7777777777777778,\"#fb9f3a\"],[0.8888888888888888,\"#fdca26\"],[1.0,\"#f0f921\"]],\"type\":\"heatmapgl\"}],\"heatmap\":[{\"colorbar\":{\"outlinewidth\":0,\"ticks\":\"\"},\"colorscale\":[[0.0,\"#0d0887\"],[0.1111111111111111,\"#46039f\"],[0.2222222222222222,\"#7201a8\"],[0.3333333333333333,\"#9c179e\"],[0.4444444444444444,\"#bd3786\"],[0.5555555555555556,\"#d8576b\"],[0.6666666666666666,\"#ed7953\"],[0.7777777777777778,\"#fb9f3a\"],[0.8888888888888888,\"#fdca26\"],[1.0,\"#f0f921\"]],\"type\":\"heatmap\"}],\"histogram2dcontour\":[{\"colorbar\":{\"outlinewidth\":0,\"ticks\":\"\"},\"colorscale\":[[0.0,\"#0d0887\"],[0.1111111111111111,\"#46039f\"],[0.2222222222222222,\"#7201a8\"],[0.3333333333333333,\"#9c179e\"],[0.4444444444444444,\"#bd3786\"],[0.5555555555555556,\"#d8576b\"],[0.6666666666666666,\"#ed7953\"],[0.7777777777777778,\"#fb9f3a\"],[0.8888888888888888,\"#fdca26\"],[1.0,\"#f0f921\"]],\"type\":\"histogram2dcontour\"}],\"histogram2d\":[{\"colorbar\":{\"outlinewidth\":0,\"ticks\":\"\"},\"colorscale\":[[0.0,\"#0d0887\"],[0.1111111111111111,\"#46039f\"],[0.2222222222222222,\"#7201a8\"],[0.3333333333333333,\"#9c179e\"],[0.4444444444444444,\"#bd3786\"],[0.5555555555555556,\"#d8576b\"],[0.6666666666666666,\"#ed7953\"],[0.7777777777777778,\"#fb9f3a\"],[0.8888888888888888,\"#fdca26\"],[1.0,\"#f0f921\"]],\"type\":\"histogram2d\"}],\"histogram\":[{\"marker\":{\"pattern\":{\"fillmode\":\"overlay\",\"size\":10,\"solidity\":0.2}},\"type\":\"histogram\"}],\"mesh3d\":[{\"colorbar\":{\"outlinewidth\":0,\"ticks\":\"\"},\"type\":\"mesh3d\"}],\"parcoords\":[{\"line\":{\"colorbar\":{\"outlinewidth\":0,\"ticks\":\"\"}},\"type\":\"parcoords\"}],\"pie\":[{\"automargin\":true,\"type\":\"pie\"}],\"scatter3d\":[{\"line\":{\"colorbar\":{\"outlinewidth\":0,\"ticks\":\"\"}},\"marker\":{\"colorbar\":{\"outlinewidth\":0,\"ticks\":\"\"}},\"type\":\"scatter3d\"}],\"scattercarpet\":[{\"marker\":{\"colorbar\":{\"outlinewidth\":0,\"ticks\":\"\"}},\"type\":\"scattercarpet\"}],\"scattergeo\":[{\"marker\":{\"colorbar\":{\"outlinewidth\":0,\"ticks\":\"\"}},\"type\":\"scattergeo\"}],\"scattergl\":[{\"marker\":{\"colorbar\":{\"outlinewidth\":0,\"ticks\":\"\"}},\"type\":\"scattergl\"}],\"scattermapbox\":[{\"marker\":{\"colorbar\":{\"outlinewidth\":0,\"ticks\":\"\"}},\"type\":\"scattermapbox\"}],\"scatterpolargl\":[{\"marker\":{\"colorbar\":{\"outlinewidth\":0,\"ticks\":\"\"}},\"type\":\"scatterpolargl\"}],\"scatterpolar\":[{\"marker\":{\"colorbar\":{\"outlinewidth\":0,\"ticks\":\"\"}},\"type\":\"scatterpolar\"}],\"scatter\":[{\"fillpattern\":{\"fillmode\":\"overlay\",\"size\":10,\"solidity\":0.2},\"type\":\"scatter\"}],\"scatterternary\":[{\"marker\":{\"colorbar\":{\"outlinewidth\":0,\"ticks\":\"\"}},\"type\":\"scatterternary\"}],\"surface\":[{\"colorbar\":{\"outlinewidth\":0,\"ticks\":\"\"},\"colorscale\":[[0.0,\"#0d0887\"],[0.1111111111111111,\"#46039f\"],[0.2222222222222222,\"#7201a8\"],[0.3333333333333333,\"#9c179e\"],[0.4444444444444444,\"#bd3786\"],[0.5555555555555556,\"#d8576b\"],[0.6666666666666666,\"#ed7953\"],[0.7777777777777778,\"#fb9f3a\"],[0.8888888888888888,\"#fdca26\"],[1.0,\"#f0f921\"]],\"type\":\"surface\"}],\"table\":[{\"cells\":{\"fill\":{\"color\":\"#EBF0F8\"},\"line\":{\"color\":\"white\"}},\"header\":{\"fill\":{\"color\":\"#C8D4E3\"},\"line\":{\"color\":\"white\"}},\"type\":\"table\"}]},\"layout\":{\"annotationdefaults\":{\"arrowcolor\":\"#2a3f5f\",\"arrowhead\":0,\"arrowwidth\":1},\"autotypenumbers\":\"strict\",\"coloraxis\":{\"colorbar\":{\"outlinewidth\":0,\"ticks\":\"\"}},\"colorscale\":{\"diverging\":[[0,\"#8e0152\"],[0.1,\"#c51b7d\"],[0.2,\"#de77ae\"],[0.3,\"#f1b6da\"],[0.4,\"#fde0ef\"],[0.5,\"#f7f7f7\"],[0.6,\"#e6f5d0\"],[0.7,\"#b8e186\"],[0.8,\"#7fbc41\"],[0.9,\"#4d9221\"],[1,\"#276419\"]],\"sequential\":[[0.0,\"#0d0887\"],[0.1111111111111111,\"#46039f\"],[0.2222222222222222,\"#7201a8\"],[0.3333333333333333,\"#9c179e\"],[0.4444444444444444,\"#bd3786\"],[0.5555555555555556,\"#d8576b\"],[0.6666666666666666,\"#ed7953\"],[0.7777777777777778,\"#fb9f3a\"],[0.8888888888888888,\"#fdca26\"],[1.0,\"#f0f921\"]],\"sequentialminus\":[[0.0,\"#0d0887\"],[0.1111111111111111,\"#46039f\"],[0.2222222222222222,\"#7201a8\"],[0.3333333333333333,\"#9c179e\"],[0.4444444444444444,\"#bd3786\"],[0.5555555555555556,\"#d8576b\"],[0.6666666666666666,\"#ed7953\"],[0.7777777777777778,\"#fb9f3a\"],[0.8888888888888888,\"#fdca26\"],[1.0,\"#f0f921\"]]},\"colorway\":[\"#636efa\",\"#EF553B\",\"#00cc96\",\"#ab63fa\",\"#FFA15A\",\"#19d3f3\",\"#FF6692\",\"#B6E880\",\"#FF97FF\",\"#FECB52\"],\"font\":{\"color\":\"#2a3f5f\"},\"geo\":{\"bgcolor\":\"white\",\"lakecolor\":\"white\",\"landcolor\":\"white\",\"showlakes\":true,\"showland\":true,\"subunitcolor\":\"#C8D4E3\"},\"hoverlabel\":{\"align\":\"left\"},\"hovermode\":\"closest\",\"mapbox\":{\"style\":\"light\"},\"paper_bgcolor\":\"white\",\"plot_bgcolor\":\"white\",\"polar\":{\"angularaxis\":{\"gridcolor\":\"#EBF0F8\",\"linecolor\":\"#EBF0F8\",\"ticks\":\"\"},\"bgcolor\":\"white\",\"radialaxis\":{\"gridcolor\":\"#EBF0F8\",\"linecolor\":\"#EBF0F8\",\"ticks\":\"\"}},\"scene\":{\"xaxis\":{\"backgroundcolor\":\"white\",\"gridcolor\":\"#DFE8F3\",\"gridwidth\":2,\"linecolor\":\"#EBF0F8\",\"showbackground\":true,\"ticks\":\"\",\"zerolinecolor\":\"#EBF0F8\"},\"yaxis\":{\"backgroundcolor\":\"white\",\"gridcolor\":\"#DFE8F3\",\"gridwidth\":2,\"linecolor\":\"#EBF0F8\",\"showbackground\":true,\"ticks\":\"\",\"zerolinecolor\":\"#EBF0F8\"},\"zaxis\":{\"backgroundcolor\":\"white\",\"gridcolor\":\"#DFE8F3\",\"gridwidth\":2,\"linecolor\":\"#EBF0F8\",\"showbackground\":true,\"ticks\":\"\",\"zerolinecolor\":\"#EBF0F8\"}},\"shapedefaults\":{\"line\":{\"color\":\"#2a3f5f\"}},\"ternary\":{\"aaxis\":{\"gridcolor\":\"#DFE8F3\",\"linecolor\":\"#A2B1C6\",\"ticks\":\"\"},\"baxis\":{\"gridcolor\":\"#DFE8F3\",\"linecolor\":\"#A2B1C6\",\"ticks\":\"\"},\"bgcolor\":\"white\",\"caxis\":{\"gridcolor\":\"#DFE8F3\",\"linecolor\":\"#A2B1C6\",\"ticks\":\"\"}},\"title\":{\"x\":0.05},\"xaxis\":{\"automargin\":true,\"gridcolor\":\"#EBF0F8\",\"linecolor\":\"#EBF0F8\",\"ticks\":\"\",\"title\":{\"standoff\":15},\"zerolinecolor\":\"#EBF0F8\",\"zerolinewidth\":2},\"yaxis\":{\"automargin\":true,\"gridcolor\":\"#EBF0F8\",\"linecolor\":\"#EBF0F8\",\"ticks\":\"\",\"title\":{\"standoff\":15},\"zerolinecolor\":\"#EBF0F8\",\"zerolinewidth\":2}}},\"xaxis\":{\"anchor\":\"y\",\"domain\":[0.0,1.0],\"title\":{\"text\":\"0\"}},\"yaxis\":{\"anchor\":\"x\",\"domain\":[0.0,1.0],\"title\":{\"text\":\"1\"}},\"legend\":{\"title\":{\"text\":\"overall_status\"},\"tracegroupgap\":0},\"margin\":{\"t\":60},\"autosize\":true,\"width\":1000,\"height\":1000},                        {\"responsive\": true}                    ).then(function(){\n",
       "                            \n",
       "var gd = document.getElementById('49757b85-6b82-4962-acb8-e37e92b3bd41');\n",
       "var x = new MutationObserver(function (mutations, observer) {{\n",
       "        var display = window.getComputedStyle(gd).display;\n",
       "        if (!display || display === 'none') {{\n",
       "            console.log([gd, 'removed!']);\n",
       "            Plotly.purge(gd);\n",
       "            observer.disconnect();\n",
       "        }}\n",
       "}});\n",
       "\n",
       "// Listen for the removal of the full notebook cells\n",
       "var notebookContainer = gd.closest('#notebook-container');\n",
       "if (notebookContainer) {{\n",
       "    x.observe(notebookContainer, {childList: true});\n",
       "}}\n",
       "\n",
       "// Listen for the clearing of the current output cell\n",
       "var outputEl = gd.closest('.output');\n",
       "if (outputEl) {{\n",
       "    x.observe(outputEl, {childList: true});\n",
       "}}\n",
       "\n",
       "                        })                };                });            </script>        </div>"
      ]
     },
     "metadata": {},
     "output_type": "display_data"
    }
   ],
   "source": [
    "fig = px.scatter(\n",
    "    tsne_embeddings,\n",
    "    x=0,\n",
    "    y=1,\n",
    "    color=df[\"overall_status\"],\n",
    "    labels={\"color\": \"overall_status\"},\n",
    "    color_discrete_sequence=px.colors.qualitative.D3,\n",
    "    # color_discrete_sequence=px.colors.diverging.PiYG\n",
    ")\n",
    "\n",
    "# Available templates:\n",
    "# ['ggplot2', 'seaborn', 'simple_white', 'plotly',\n",
    "# 'plotly_white', 'plotly_dark', 'presentation', 'xgridoff',\n",
    "# 'ygridoff', 'gridon', 'none']\n",
    "\n",
    "fig.update_layout(\n",
    "    template=\"plotly_white\",\n",
    "    autosize=True,\n",
    "    width=1000,\n",
    "    height=1000,\n",
    ")\n",
    "fig.update_traces(marker_size=50)\n",
    "\n",
    "fig.show()\n"
   ]
  },
  {
   "cell_type": "code",
   "execution_count": null,
   "metadata": {},
   "outputs": [],
   "source": []
  }
 ],
 "metadata": {
  "kernelspec": {
   "display_name": "textkit",
   "language": "python",
   "name": "python3"
  },
  "language_info": {
   "codemirror_mode": {
    "name": "ipython",
    "version": 3
   },
   "file_extension": ".py",
   "mimetype": "text/x-python",
   "name": "python",
   "nbconvert_exporter": "python",
   "pygments_lexer": "ipython3",
   "version": "3.9.16"
  },
  "orig_nbformat": 4
 },
 "nbformat": 4,
 "nbformat_minor": 2
}

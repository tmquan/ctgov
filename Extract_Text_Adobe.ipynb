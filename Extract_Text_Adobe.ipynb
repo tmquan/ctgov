{
 "cells": [
  {
   "cell_type": "code",
   "execution_count": 1,
   "metadata": {},
   "outputs": [
    {
     "name": "stdout",
     "output_type": "stream",
     "text": [
      "Requirement already satisfied: pdfservices-sdk in /Users/admin/opt/anaconda3/envs/py38/lib/python3.8/site-packages (2.3.0)\n",
      "Requirement already satisfied: Pygments==2.14.0 in /Users/admin/opt/anaconda3/envs/py38/lib/python3.8/site-packages (from pdfservices-sdk) (2.14.0)\n",
      "Requirement already satisfied: cffi==1.15.1 in /Users/admin/opt/anaconda3/envs/py38/lib/python3.8/site-packages (from pdfservices-sdk) (1.15.1)\n",
      "Requirement already satisfied: toml==0.10.2 in /Users/admin/opt/anaconda3/envs/py38/lib/python3.8/site-packages (from pdfservices-sdk) (0.10.2)\n",
      "Requirement already satisfied: certifi==2022.12.7 in /Users/admin/opt/anaconda3/envs/py38/lib/python3.8/site-packages (from pdfservices-sdk) (2022.12.7)\n",
      "Requirement already satisfied: build==0.9.0 in /Users/admin/opt/anaconda3/envs/py38/lib/python3.8/site-packages (from pdfservices-sdk) (0.9.0)\n",
      "Requirement already satisfied: requests==2.27.1 in /Users/admin/opt/anaconda3/envs/py38/lib/python3.8/site-packages (from pdfservices-sdk) (2.27.1)\n",
      "Requirement already satisfied: multipart==0.2.4 in /Users/admin/opt/anaconda3/envs/py38/lib/python3.8/site-packages (from pdfservices-sdk) (0.2.4)\n",
      "Requirement already satisfied: pyparsing==3.0.9 in /Users/admin/opt/anaconda3/envs/py38/lib/python3.8/site-packages (from pdfservices-sdk) (3.0.9)\n",
      "Requirement already satisfied: polling==0.3.2 in /Users/admin/opt/anaconda3/envs/py38/lib/python3.8/site-packages (from pdfservices-sdk) (0.3.2)\n",
      "Requirement already satisfied: PyYAML==6.0 in /Users/admin/opt/anaconda3/envs/py38/lib/python3.8/site-packages (from pdfservices-sdk) (6.0)\n",
      "Requirement already satisfied: six==1.16.0 in /Users/admin/opt/anaconda3/envs/py38/lib/python3.8/site-packages (from pdfservices-sdk) (1.16.0)\n",
      "Requirement already satisfied: pycparser==2.21 in /Users/admin/opt/anaconda3/envs/py38/lib/python3.8/site-packages (from pdfservices-sdk) (2.21)\n",
      "Requirement already satisfied: requests-toolbelt==0.10.1 in /Users/admin/opt/anaconda3/envs/py38/lib/python3.8/site-packages (from pdfservices-sdk) (0.10.1)\n",
      "Requirement already satisfied: PyJWT==2.4.0 in /Users/admin/opt/anaconda3/envs/py38/lib/python3.8/site-packages (from pdfservices-sdk) (2.4.0)\n",
      "Requirement already satisfied: packaging==21.3 in /Users/admin/opt/anaconda3/envs/py38/lib/python3.8/site-packages (from pdfservices-sdk) (21.3)\n",
      "Requirement already satisfied: polling2==0.5.0 in /Users/admin/opt/anaconda3/envs/py38/lib/python3.8/site-packages (from pdfservices-sdk) (0.5.0)\n",
      "Requirement already satisfied: urllib3==1.26.13 in /Users/admin/opt/anaconda3/envs/py38/lib/python3.8/site-packages (from pdfservices-sdk) (1.26.13)\n",
      "Requirement already satisfied: pep517==0.13.0 in /Users/admin/opt/anaconda3/envs/py38/lib/python3.8/site-packages (from pdfservices-sdk) (0.13.0)\n",
      "Requirement already satisfied: cryptography==3.4.6 in /Users/admin/opt/anaconda3/envs/py38/lib/python3.8/site-packages (from pdfservices-sdk) (3.4.6)\n",
      "Requirement already satisfied: tomli>=1.0.0 in /Users/admin/.local/lib/python3.8/site-packages (from build==0.9.0->pdfservices-sdk) (2.0.1)\n",
      "Requirement already satisfied: idna<4,>=2.5 in /Users/admin/opt/anaconda3/envs/py38/lib/python3.8/site-packages (from requests==2.27.1->pdfservices-sdk) (3.4)\n",
      "Requirement already satisfied: charset-normalizer~=2.0.0 in /Users/admin/opt/anaconda3/envs/py38/lib/python3.8/site-packages (from requests==2.27.1->pdfservices-sdk) (2.0.12)\n"
     ]
    }
   ],
   "source": [
    "! pip install pdfservices-sdk -U"
   ]
  },
  {
   "cell_type": "code",
   "execution_count": 2,
   "metadata": {},
   "outputs": [
    {
     "data": {
      "text/plain": [
       "True"
      ]
     },
     "execution_count": 2,
     "metadata": {},
     "output_type": "execute_result"
    }
   ],
   "source": [
    "from dotenv import load_dotenv\n",
    "load_dotenv()"
   ]
  },
  {
   "cell_type": "code",
   "execution_count": 3,
   "metadata": {},
   "outputs": [],
   "source": [
    "import os\n",
    "import re\n",
    "\n",
    "import glob\n",
    "import json\n",
    "import shutil\n",
    "from tqdm.notebook import tqdm\n",
    "from zipfile import ZipFile\n",
    "\n",
    "\n",
    "from adobe.pdfservices.operation.auth.credentials import Credentials\n",
    "from adobe.pdfservices.operation.exception.exceptions import ServiceApiException, ServiceUsageException, SdkException\n",
    "from adobe.pdfservices.operation.pdfops.options.extractpdf.extract_pdf_options import ExtractPDFOptions\n",
    "from adobe.pdfservices.operation.pdfops.options.extractpdf.extract_element_type import ExtractElementType\n",
    "from adobe.pdfservices.operation.pdfops.options.extractpdf.extract_renditions_element_type import ExtractRenditionsElementType\n",
    "from adobe.pdfservices.operation.pdfops.options.extractpdf.table_structure_type import TableStructureType\n",
    "from adobe.pdfservices.operation.execution_context import ExecutionContext\n",
    "from adobe.pdfservices.operation.io.file_ref import FileRef\n",
    "from adobe.pdfservices.operation.pdfops.extract_pdf_operation import ExtractPDFOperation\n"
   ]
  },
  {
   "cell_type": "code",
   "execution_count": 4,
   "metadata": {},
   "outputs": [],
   "source": [
    "# Initial setup, create credentials instance.\n",
    "credentials = Credentials.service_principal_credentials_builder(). \\\n",
    "    with_client_id(os.getenv('PDF_SERVICES_CLIENT_ID')). \\\n",
    "    with_client_secret(os.getenv('PDF_SERVICES_CLIENT_SECRET')). \\\n",
    "    build()\n",
    "\n",
    "# Create an ExecutionContext using credentials and create a new operation instance.\n",
    "execution_context = ExecutionContext.create(credentials)\n",
    "extract_pdf_operation = ExtractPDFOperation.create_new()\n"
   ]
  },
  {
   "cell_type": "code",
   "execution_count": 5,
   "metadata": {},
   "outputs": [
    {
     "data": {
      "text/plain": [
       "1"
      ]
     },
     "metadata": {},
     "output_type": "display_data"
    }
   ],
   "source": [
    "# Filter protocol only pdf\n",
    "datadir = os.getcwd()\n",
    "filenames = glob.glob(os.path.join(datadir, r\"*.pdf\"))\n",
    "# pattern = r'NCT\\d+_Prot_\\d+.pdf'\n",
    "# filenames = [filename for filename in filenames if re.match(pattern, os.path.basename(filename))]\n",
    "display(len(filenames))"
   ]
  },
  {
   "cell_type": "code",
   "execution_count": 6,
   "metadata": {},
   "outputs": [
    {
     "data": {
      "application/vnd.jupyter.widget-view+json": {
       "model_id": "b7490b4b33f54fbf868ef28e5749a18d",
       "version_major": 2,
       "version_minor": 0
      },
      "text/plain": [
       "HBox(children=(FloatProgress(value=0.0, max=1.0), HTML(value='')))"
      ]
     },
     "metadata": {},
     "output_type": "display_data"
    },
    {
     "name": "stdout",
     "output_type": "stream",
     "text": [
      "\n"
     ]
    }
   ],
   "source": [
    "for filename in tqdm(filenames):\n",
    "    # Set operation input from a source file.\n",
    "    # filename = \"NCT01687673_Prot_SAP.pdf\"\n",
    "    # filepath = os.getcwd()\n",
    "\n",
    "    source = FileRef.create_from_local_file(filename)\n",
    "    extract_pdf_operation.set_input(source)\n",
    "\n",
    "    # Build ExtractPDF options and set them into the operation\n",
    "    # extract_pdf_options: ExtractPDFOptions = ExtractPDFOptions.builder() \\\n",
    "    #     .with_elements_to_extract([ExtractElementType.TEXT, ExtractElementType.TABLES]) \\\n",
    "    #     .with_element_to_extract_renditions(ExtractRenditionsElementType.TABLES) \\\n",
    "    #     .with_table_structure_format(TableStructureType.CSV) \\\n",
    "    #     .build()\n",
    "    extract_pdf_options: ExtractPDFOptions = ExtractPDFOptions.builder() \\\n",
    "        .with_element_to_extract(ExtractElementType.TEXT) \\\n",
    "        .build()\n",
    "    extract_pdf_operation.set_options(extract_pdf_options)\n",
    "\n",
    "    # Execute the operation.\n",
    "    result: FileRef = extract_pdf_operation.execute(execution_context)\n",
    "\n",
    "    # Save the result to the specified location.\n",
    "    result.save_as(filename.replace(\".pdf\", \".zip\"))\n",
    "\n",
    "    with ZipFile(filename.replace(\".pdf\", \".zip\"), 'r') as f:\n",
    "        f.extractall(os.getcwd() )\n",
    "        \n",
    "    # Move structuredData.json to pdf/filename.json\n",
    "    shutil.move('structuredData.json', filename.replace(\".pdf\", \".json\"))"
   ]
  },
  {
   "cell_type": "code",
   "execution_count": null,
   "metadata": {},
   "outputs": [],
   "source": []
  },
  {
   "cell_type": "code",
   "execution_count": null,
   "metadata": {},
   "outputs": [],
   "source": []
  }
 ],
 "metadata": {
  "kernelspec": {
   "display_name": "py310",
   "language": "python",
   "name": "python3"
  },
  "language_info": {
   "codemirror_mode": {
    "name": "ipython",
    "version": 3
   },
   "file_extension": ".py",
   "mimetype": "text/x-python",
   "name": "python",
   "nbconvert_exporter": "python",
   "pygments_lexer": "ipython3",
   "version": "3.8.8"
  },
  "orig_nbformat": 4
 },
 "nbformat": 4,
 "nbformat_minor": 2
}

{
 "cells": [
  {
   "cell_type": "code",
   "execution_count": 1,
   "metadata": {},
   "outputs": [],
   "source": [
    "import datetime\n",
    "import pandas as pd\n",
    "from typing import List\n",
    "from sqlalchemy import create_engine, inspect, select, Table, MetaData\n",
    "from tabulate import tabulate"
   ]
  },
  {
   "cell_type": "code",
   "execution_count": 2,
   "metadata": {},
   "outputs": [],
   "source": [
    "username = \"username\"\n",
    "password = \"password\"\n",
    "hostname = \"hostname\"\n",
    "port = \"port\"\n",
    "database = \"database\"\n",
    "\n",
    "db_credentials = f\"postgresql://{username}:{password}@{hostname}:{port}/{database}\"\n",
    "engine = create_engine(db_credentials)"
   ]
  },
  {
   "cell_type": "code",
   "execution_count": 3,
   "metadata": {},
   "outputs": [],
   "source": [
    "# create metadata object and reflect all tables\n",
    "metadata = MetaData()\n",
    "metadata.reflect(bind=engine)\n"
   ]
  },
  {
   "cell_type": "code",
   "execution_count": 4,
   "metadata": {},
   "outputs": [
    {
     "data": {
      "text/plain": [
       "['active_storage_attachments',\n",
       " 'active_storage_blobs',\n",
       " 'baseline_counts',\n",
       " 'baseline_measurements',\n",
       " 'brief_summaries']"
      ]
     },
     "metadata": {},
     "output_type": "display_data"
    },
    {
     "data": {
      "text/plain": [
       "54"
      ]
     },
     "metadata": {},
     "output_type": "display_data"
    }
   ],
   "source": [
    "# get a list of all table names in the AACT database\n",
    "table_names = sorted(list(metadata.tables.keys()))\n",
    "display(table_names[:5])\n",
    "display(len(table_names))"
   ]
  },
  {
   "cell_type": "code",
   "execution_count": 24,
   "metadata": {},
   "outputs": [
    {
     "data": {
      "text/plain": [
       "['baseline_counts',\n",
       " 'baseline_measurements',\n",
       " 'brief_summaries',\n",
       " 'browse_conditions',\n",
       " 'browse_interventions',\n",
       " 'calculated_values',\n",
       " 'central_contacts',\n",
       " 'conditions',\n",
       " 'countries',\n",
       " 'design_group_interventions',\n",
       " 'design_groups',\n",
       " 'design_outcomes',\n",
       " 'designs',\n",
       " 'detailed_descriptions',\n",
       " 'documents',\n",
       " 'drop_withdrawals',\n",
       " 'eligibilities',\n",
       " 'facilities',\n",
       " 'facility_contacts',\n",
       " 'facility_investigators',\n",
       " 'id_information',\n",
       " 'intervention_other_names',\n",
       " 'interventions',\n",
       " 'ipd_information_types',\n",
       " 'keywords',\n",
       " 'links',\n",
       " 'milestones',\n",
       " 'outcome_analyses',\n",
       " 'outcome_analysis_groups',\n",
       " 'outcome_counts',\n",
       " 'outcome_measurements',\n",
       " 'outcomes',\n",
       " 'overall_officials',\n",
       " 'participant_flows',\n",
       " 'pending_results',\n",
       " 'provided_documents',\n",
       " 'reported_event_totals',\n",
       " 'reported_events',\n",
       " 'responsible_parties',\n",
       " 'result_agreements',\n",
       " 'result_contacts',\n",
       " 'result_groups',\n",
       " 'retractions',\n",
       " 'search_results',\n",
       " 'sponsors',\n",
       " 'studies',\n",
       " 'study_references']"
      ]
     },
     "metadata": {},
     "output_type": "display_data"
    },
    {
     "data": {
      "text/plain": [
       "47"
      ]
     },
     "metadata": {},
     "output_type": "display_data"
    }
   ],
   "source": [
    "# create an empty list to store the table names\n",
    "tables_with_nct_id = [\n",
    "    table_name for table_name in table_names\n",
    "    if 'nct_id' in [column.name for column in metadata.tables[table_name].columns]\n",
    "]\n",
    "display(tables_with_nct_id)\n",
    "display(len(tables_with_nct_id))"
   ]
  },
  {
   "cell_type": "code",
   "execution_count": 26,
   "metadata": {},
   "outputs": [
    {
     "data": {
      "text/plain": [
       "['baseline_counts:6:count|ctgov_group_code|nct_id|result_group_id|scope|units',\n",
       " 'baseline_measurements:21:calculate_percentage|category|classification|ctgov_group_code|description|dispersion_lower_limit|dispersion_type|dispersion_upper_limit|dispersion_value|dispersion_value_num|explanation_of_na|nct_id|number_analyzed|number_analyzed_units|param_type|param_value|param_value_num|population_description|result_group_id|title|units',\n",
       " 'brief_summaries:2:description|nct_id',\n",
       " 'browse_conditions:4:downcase_mesh_term|mesh_term|mesh_type|nct_id',\n",
       " 'browse_interventions:4:downcase_mesh_term|mesh_term|mesh_type|nct_id',\n",
       " 'calculated_values:18:actual_duration|has_single_facility|has_us_facility|maximum_age_num|maximum_age_unit|minimum_age_num|minimum_age_unit|months_to_report_results|nct_id|nlm_download_date|number_of_facilities|number_of_nsae_subjects|number_of_other_outcomes_to_measure|number_of_primary_outcomes_to_measure|number_of_sae_subjects|number_of_secondary_outcomes_to_measure|registered_in_calendar_year|were_results_reported',\n",
       " 'central_contacts:7:contact_type|email|name|nct_id|phone|phone_extension|role',\n",
       " 'conditions:3:downcase_name|name|nct_id',\n",
       " 'countries:3:name|nct_id|removed',\n",
       " 'design_group_interventions:3:design_group_id|intervention_id|nct_id',\n",
       " 'design_groups:4:description|group_type|nct_id|title',\n",
       " 'design_outcomes:6:description|measure|nct_id|outcome_type|population|time_frame',\n",
       " 'designs:13:allocation|caregiver_masked|intervention_model|intervention_model_description|investigator_masked|masking|masking_description|nct_id|observational_model|outcomes_assessor_masked|primary_purpose|subject_masked|time_perspective',\n",
       " 'detailed_descriptions:2:description|nct_id',\n",
       " 'documents:5:comment|document_id|document_type|nct_id|url',\n",
       " 'drop_withdrawals:9:count|count_units|ctgov_group_code|drop_withdraw_comment|nct_id|period|reason|reason_comment|result_group_id',\n",
       " 'eligibilities:13:adult|child|criteria|gender|gender_based|gender_description|healthy_volunteers|maximum_age|minimum_age|nct_id|older_adult|population|sampling_method',\n",
       " 'facilities:7:city|country|name|nct_id|state|status|zip',\n",
       " 'facility_contacts:7:contact_type|email|facility_id|name|nct_id|phone|phone_extension',\n",
       " 'facility_investigators:4:facility_id|name|nct_id|role',\n",
       " 'id_information:6:id_link|id_source|id_type|id_type_description|id_value|nct_id',\n",
       " 'intervention_other_names:3:intervention_id|name|nct_id',\n",
       " 'interventions:4:description|intervention_type|name|nct_id',\n",
       " 'ipd_information_types:2:name|nct_id',\n",
       " 'keywords:3:downcase_name|name|nct_id',\n",
       " 'links:3:description|nct_id|url',\n",
       " 'milestones:9:count|count_units|ctgov_group_code|description|milestone_description|nct_id|period|result_group_id|title',\n",
       " 'outcome_analyses:21:ci_lower_limit|ci_n_sides|ci_percent|ci_upper_limit|ci_upper_limit_na_comment|dispersion_type|dispersion_value|estimate_description|groups_description|method|method_description|nct_id|non_inferiority_description|non_inferiority_type|other_analysis_description|outcome_id|p_value|p_value_description|p_value_modifier|param_type|param_value',\n",
       " 'outcome_analysis_groups:4:ctgov_group_code|nct_id|outcome_analysis_id|result_group_id',\n",
       " 'outcome_counts:7:count|ctgov_group_code|nct_id|outcome_id|result_group_id|scope|units',\n",
       " 'outcome_measurements:18:category|classification|ctgov_group_code|description|dispersion_lower_limit|dispersion_type|dispersion_upper_limit|dispersion_value|dispersion_value_num|explanation_of_na|nct_id|outcome_id|param_type|param_value|param_value_num|result_group_id|title|units',\n",
       " 'outcomes:12:anticipated_posting_date|anticipated_posting_month_year|description|dispersion_type|nct_id|outcome_type|param_type|population|time_frame|title|units|units_analyzed',\n",
       " 'overall_officials:4:affiliation|name|nct_id|role',\n",
       " 'participant_flows:7:count_units|drop_withdraw_comment|nct_id|pre_assignment_details|reason_comment|recruitment_details|units_analyzed',\n",
       " 'pending_results:4:event|event_date|event_date_description|nct_id',\n",
       " 'provided_documents:7:document_date|document_type|has_icf|has_protocol|has_sap|nct_id|url',\n",
       " 'reported_event_totals:8:classification|created_at|ctgov_group_code|event_type|nct_id|subjects_affected|subjects_at_risk|updated_at',\n",
       " 'reported_events:16:adverse_event_term|assessment|ctgov_group_code|default_assessment|default_vocab|description|event_count|event_type|frequency_threshold|nct_id|organ_system|result_group_id|subjects_affected|subjects_at_risk|time_frame|vocab',\n",
       " 'responsible_parties:7:affiliation|name|nct_id|old_name_title|organization|responsible_party_type|title',\n",
       " 'result_agreements:6:agreement|nct_id|other_details|pi_employee|restriction_type|restrictive_agreement',\n",
       " 'result_contacts:6:email|extension|name|nct_id|organization|phone',\n",
       " 'result_groups:5:ctgov_group_code|description|nct_id|result_type|title',\n",
       " 'retractions:4:nct_id|pmid|reference_id|source',\n",
       " 'search_results:6:created_at|grouping|name|nct_id|study_search_id|updated_at',\n",
       " 'sponsors:4:agency_class|lead_or_collaborator|name|nct_id',\n",
       " 'studies:70:acronym|baseline_population|baseline_type_units_analyzed|biospec_description|biospec_retention|brief_title|completion_date|completion_date_type|completion_month_year|created_at|delayed_posting|disposition_first_posted_date|disposition_first_posted_date_type|disposition_first_submitted_date|disposition_first_submitted_qc_date|enrollment|enrollment_type|expanded_access_nctid|expanded_access_status_for_nctid|expanded_access_type_individual|expanded_access_type_intermediate|expanded_access_type_treatment|fdaaa801_violation|has_dmc|has_expanded_access|ipd_access_criteria|ipd_time_frame|ipd_url|is_fda_regulated_device|is_fda_regulated_drug|is_ppsd|is_unapproved_device|is_us_export|last_known_status|last_update_posted_date|last_update_posted_date_type|last_update_submitted_date|last_update_submitted_qc_date|limitations_and_caveats|nct_id|nlm_download_date_description|number_of_arms|number_of_groups|official_title|overall_status|phase|plan_to_share_ipd|plan_to_share_ipd_description|primary_completion_date|primary_completion_date_type|primary_completion_month_year|results_first_posted_date|results_first_posted_date_type|results_first_submitted_date|results_first_submitted_qc_date|source|source_class|start_date|start_date_type|start_month_year|study_first_posted_date|study_first_posted_date_type|study_first_submitted_date|study_first_submitted_qc_date|study_type|target_duration|updated_at|verification_date|verification_month_year|why_stopped',\n",
       " 'study_references:4:citation|nct_id|pmid|reference_type']"
      ]
     },
     "metadata": {},
     "output_type": "display_data"
    }
   ],
   "source": [
    "# iterate over each table with nct_id column\n",
    "table_data = []\n",
    "\n",
    "# iterate over each table with nct_id column\n",
    "for table_name in tables_with_nct_id:\n",
    "    # table_data.append(table_name)\n",
    "    # append column names and data to table_data\n",
    "    headers = sorted([column.name for column in metadata.tables[table_name].columns if column.name != 'id'])\n",
    "    table_data.append(\":\".join([table_name, str(len(headers)), \"|\".join(headers)]))\n",
    "    \n",
    "    # # select the first row of the table\n",
    "    # select_stmt = select([metadata.tables[table_name]]).limit(1)\n",
    "    # result = engine.execute(select_stmt).fetchone()\n",
    "    # table_data.append(\":\".join([table_name, \"|\".join( [str(result[column]) for column in result._fields if column != 'id'] )]))\n",
    "    \n",
    "  \n",
    "# print table data in tabulated format\n",
    "display(table_data)"
   ]
  },
  {
   "cell_type": "code",
   "execution_count": null,
   "metadata": {},
   "outputs": [],
   "source": []
  }
 ],
 "metadata": {
  "kernelspec": {
   "display_name": "textvis",
   "language": "python",
   "name": "python3"
  },
  "language_info": {
   "codemirror_mode": {
    "name": "ipython",
    "version": 3
   },
   "file_extension": ".py",
   "mimetype": "text/x-python",
   "name": "python",
   "nbconvert_exporter": "python",
   "pygments_lexer": "ipython3",
   "version": "3.9.16"
  },
  "orig_nbformat": 4
 },
 "nbformat": 4,
 "nbformat_minor": 2
}

{
 "cells": [
  {
   "cell_type": "code",
   "execution_count": 5,
   "metadata": {},
   "outputs": [],
   "source": [
    "# ! pip uninstall -y fitz\n",
    "# ! pip install pymupdf"
   ]
  },
  {
   "cell_type": "code",
   "execution_count": 54,
   "metadata": {},
   "outputs": [],
   "source": [
    "import fitz\n",
    "import re"
   ]
  },
  {
   "cell_type": "code",
   "execution_count": 3,
   "metadata": {},
   "outputs": [
    {
     "name": "stdout",
     "output_type": "stream",
     "text": [
      "\n",
      "PyMuPDF 1.22.5: Python bindings for the MuPDF 1.22.2 library.\n",
      "Version date: 2023-06-21 00:00:01.\n",
      "Built for Python 3.10 on linux (64-bit).\n",
      "\n"
     ]
    }
   ],
   "source": [
    "print(fitz.__doc__)"
   ]
  },
  {
   "cell_type": "code",
   "execution_count": 248,
   "metadata": {},
   "outputs": [],
   "source": [
    "filepath = \"NCT00000000_Genesys.pdf\"\n",
    "filepath = \"sample_a.pdf\"\n"
   ]
  },
  {
   "cell_type": "code",
   "execution_count": 252,
   "metadata": {},
   "outputs": [
    {
     "data": {
      "text/plain": [
       "'ASSESSING FEASIBILITY FOR INTRODUCING A NEW CERVICAL CANCER SCREENING SERVICE'"
      ]
     },
     "metadata": {},
     "output_type": "display_data"
    },
    {
     "data": {
      "text/plain": [
       "[{'section_number': '1.0',\n",
       "  'original_title': 'STUDY BACKGROUND AND RATIONALE',\n",
       "  'text': 'Cervical cancer is a significant health issue in developing countries, including Kenya,\\nwhere it is the second leading cancer among women. The prevalence of human\\npapillomavirus (HPV) infection and HIV infection in Kenya further contribute to the risk\\nof developing cervical cancer. To address this, primary prevention through HPV\\nvaccination and secondary prevention through cervical screening are crucial. However,\\nthe current screening rates are low, and options are limited in low-income countries.\\nVisual inspection methods like VIA/VILI have gained popularity due to their simplicity\\nand quick results, while new HPV DNA tests like careHPV show promise for resource-\\nlimited settings.\\nIn Kenya, there is a need to expand screening services in tier 2 health facilities, and the\\nfeasibility of implementing careHPV testing in the Western Province is being assessed.\\nThis study aims to ensure proper storage, transfer, and testing of careHPV specimens,\\ntimely delivery of test results to women, and consistency in collection and testing\\nprocedures. The feasibility data will inform the Ministry of Health about the acceptability\\nand potential impact of careHPV testing, facilitating the expansion of cervical screening\\nservices and informing future strategies for scale-up in Kenya.'},\n",
       " {'section_number': '2.0',\n",
       "  'original_title': 'STUDY DESIGN, OBJECTIVES',\n",
       "  'text': 'This study is a demonstration study to measure the feasibility of cervical cancer\\nscreening services due to introduction of careHPV in a routine service delivery setting.\\nThe goal of the study is to demonstrate whether careHPV as a cervical cancer\\nscreening test (using self-collected samples) is feasible in a routine service delivery\\nsetting in Western Kenya and therefore have the potential to expand screening\\nservices without negatively impacting completion of treatment.\\nPrimary objectives:\\n• To determine percent of eligible women who complete the following processes:\\nself-collect a vaginal careHPV sample, receive their careHPV test results, and\\nare referred for follow-up or treatment.\\nSecondary objectives:\\n• To calculate and compare the positivity of careHPV by health center and testing\\n• To demonstrate that after careHPV sample collection, the specimen is\\nappropriately stored, transferred and tested, during the entire study period\\nStudy Location\\nThe study will be conducted in Vihiga county in the Western Region (formerly Western\\nProvince), Kenya. This county was selected because it is the sole partner supporting\\nthe MOH in strengthening cervical cancer screening and treatment services in this\\ncounty. This will limit influence from other screening programs.'},\n",
       " {'section_number': '3.0',\n",
       "  'original_title': 'RESEARCH PARTICIPANTS',\n",
       "  'text': 'Sample Size and Methods\\nIn this study we plan to offer careHPV screening to up to 15,000 women in both\\nEmuhaya and Hamisi sub-counties during the study timeframe. Enrollment to the study\\nwill continue until 1 month prior to end of study to allow for follow-up and wrap-up of the\\nstudy. However, enrollment will stop once all 15,000 careHPV test kits are utilized.\\nSince this study aims to assess the feasibility of the introduction of a new screening\\ntest in an actual health system setting, all eligible women will be invited to participate\\nthough usual outreach efforts and opportunistically selected when they attend facilities\\nin the study areas.\\nThe target population for this study is women of reproductive ages 25-49 years in\\nselected sub-counties in Western Kenya.\\nThe inclusion and exclusion criteria for women are as follows:\\nInclusion Criteria:\\nWomen will be included in the study if they:\\n• Are aged 25 to 49 years.\\nExclusion Criteria:\\nWomen will be excluded from the study if they:\\n• Refuse to answer study eligibility questions (age) during the study screening.\\n• Are pregnant (> 20 weeks gestation)\\n• Report having cervical cancer screening within the last 3 years'},\n",
       " {'section_number': '4.0',\n",
       "  'original_title': 'STUDY INTERVENTION AND TREATMENT',\n",
       "  'text': '4.1 Study product(s)\\nVIA/ VILI is the current standard for cervical cancer screening in Kenya. VIA involves\\nexamining the cervix for precancerous cells (using a vaginal speculum and a good\\nlight) one minute after application of acetic acid, which makes these cells turn white.\\nSimilar to VIA, VILI uses Lugol’s Iodine instead of acetic acid, which makes\\nprecancerous cells turn bright yellow. Results are immediately available.\\nCareHPV (YYYY, Inc) is a biochemical screening test detecting 14 high-risk HPV DNA\\ntypes in collected cervical or vaginal specimens. The test is designed to be conducted\\nby minimally trained technicians in remote areas. The careHPV test is compact (can fit\\non a desktop), does not require running water, electricity, or a controlled-temperature\\nenvironment, and its reagents do not require refrigeration. The test is a batch test that\\ncan process up to 90 samples at a time, and specimens can be stored for two weeks\\nwithout refrigeration before testing.\\nThe careHPV test has received State Food and Drug Administration (sFDA) regulatory\\napproval in China—the country where it is manufactured— as well as the CE Mark\\napproval from the European Union. These approvals allows for commercial availability\\nand use in many countries. In Kenya careHPV is not yet commercially licensed\\n(registered) for use, and has been approved for research use in this study.\\n4.2 Benefits\\nAll women who participate in the study will directly benefit by receiving cervical cancer\\nscreening and needed follow-up and treatment. As a result of the screening in this\\nstudy, some women will receive treatment for pre-cancer and thus avoid cervical\\ncancer while some diagnosed with cervical cancer will receive treatment at an earlier\\nand potentially more curable stage.\\nAlthough the careHPV test has not yet been registered in Kenya, its performance in\\nfield studies with thousands of women indicates that the sensitivity of the test is better\\nthan Pap and VIA [15,18]. CareHPV has a good safety record with thousands of\\nwomen and represents no additional risks to participants, as sample collection is\\nsimilar to that for Pap smear. Women who are screened with careHPV will benefit by\\nreceiving a second screening test and will be able to self-collect a vaginal sample for\\ntesting.\\nIn addition, generating evidence about the feasibility of careHPV as a cervical cancer\\nscreening test will help determine the acceptability of careHPV as a screening test in a\\nroutine service delivery setting in Kenya. This may lead to scale-up of HPV testing\\nthroughout Kenya and neighboring areas.\\n4.3\\nData Collection, Management and Storage\\nTrained study staff will collect secondary data from health facilities.\\nData will be\\nextracted from current MOH Cervical Cancer Screening and Treatment Form\\n(Appendix 3) according to SOPs into Study Case Report Forms (CRFs). Data collected\\nwill include women’s socio-demographic information, screening test procedures and\\nresults, treatment and follow-up information (Appendix 4).\\nThe CRFs will not contain\\nthe participants’ names or any other identifying information, but will use only the client\\nnumber on the MOH forms. The CRFs will be filed as part of the study records.\\nTrained study staff will also monitor the number of careHPV specimens collected,\\nstorage information to assess whether specimens are stored according to SOPs, how\\noften specimens are transported to the testing lab and how often specimens are tested\\nin the lab.\\nData from the CRF and monitoring visits will be entered by trained study staff and\\nmaintained in a secure, password protected online electronic data management\\nsystem, and the study coordinator will oversee the conduct of the research including\\nthe completion of data forms, data entry and confidentiality of study data on a daily\\nbasis.\\nThe study coordinator will ensure that study records are maintained and stored securely\\nthroughout the study.\\nAll study records will be retained for 3 years after the end of the\\nstudy and then destroyed.\\n4.4 Care for injury\\nIn an unlikely event of an injury resulting from screening conducted in this study and\\nfollow-up, the study will ensure that women are referred for appropriate medical\\ntreatment and follow-up according to MOH standard of care, within MOH health clinics.\\nThe study will not be responsible for any non-research related injuries or any health\\ncare services sought or received in private clinics outside the MOH.'},\n",
       " {'section_number': '5.0',\n",
       "  'original_title': 'STUDY PROCEDURES',\n",
       "  'text': '5.1 Screening\\nWomen will be invited to participate in the study when they come to the clinic to get\\nscreened. All eligible women will be offered careHPV and VIA/VILI for screening and\\nfollow-up per MOH standard of care.\\nScreening results and follow-up procedures\\nAll screening results will recorded on women’s MOH cervical cancer screening and\\ntreatment form (Appendix 3) as part of their medical record.\\nWomen’s whose careHPV and VIA/VILI screening results are negative (normal), will be\\nadvised to get screened for cervical cancer in 5 years, per MOH Kenya guidelines\\nIf a woman is HIV-positive, she will be advised to return for cervical re-screening in 6\\nmonths in the first year, and then annually thereafter per MOH Kenya guidelines.\\nWomen who test positive with VIA/VILI, regardless of their careHPV screening results\\n(positive or negative) will be treated and followed-up according to MOH standard of\\ncare, in MOH health facilities.\\nWomen whose careHPV results are positive but\\nVIA/VILI results are negative (normal) will be advised to get screened again in one\\nyear, per WHO guidelines [25]. In addition, as these women will return for cervical\\nscreening within one year, as compared to five years for women who screen negative\\nwith VIA/VILI according to MOH guidelines, further minimizes their risk of developing\\ncervical cancer.\\n5.2 Community Mobilization and Recruitment\\nCommunity awareness and mobilization will be done to educate communities and raise\\nawareness about cervical cancer and screening. This will be done in the community\\nand health facilities, as part of the regular MOH effort to promote cervical screening.\\nThe methods for raising community awareness and mobilization that will be used\\ninclude:\\n• Community Health Workers (CHWs) through the MOH Community Strategy.\\nCHWs are community volunteers, who are trained to improve the health seeking\\nbehavior of households, while at the same time ensuring that household\\nmembers access equitable and quality health care. Each CHW is attached to a\\nhealth care facility, and is responsible for approximately 25-50 households.\\nCHWs try to visit each household for which they are responsible approximately\\nonce every month or two.\\n• Provision of information on cervical cancer screening, by health care providers,\\nat all service delivery areas where women present. These include:\\n▪ The Outpatient Department\\n▪ The Female Wards\\n▪ The Tuberculosis (TB) clinics\\n▪ The Maternity Units\\nThe above methods will be utilized to mobilize eligible women to seek cervical cancer\\nscreening at the nearest health facility.\\n5.3 Risks\\nBoth VIA and careHPV have been shown to be safe in large field studies and hence\\nthere is a low potential for any serious adverse event [15,18].\\nAnticipated risks include the following:\\n• Women may feel uncomfortable with some of the questions that are asked,\\nsuch as if they are pregnant or having a menstrual period.\\n• Women may feel afraid or uncomfortable about getting tested and getting\\ntheir test results.\\n• Embarrassment or problems collecting the sample themselves (careHPV). In\\nanother large study (n=20,403) there were no adverse events related to\\n18,675 women collecting the sample themselves [18].\\n5.4 Mitigation of risks\\nThe following steps will be taken to minimize potential risks:\\n• Questions about pregnancy and health are commonly asked during health visits\\nin Kenya. The study will explain that asking these questions is to make sure it is\\nsafe for a woman to participate. Women will be reminded they can choose to\\nanswer all, some or none of the questions, however, if they refuse to answer any\\nof the eligibility questions, they will not be enrolled in the study.\\n• Potential participants will be offered an opportunity to discuss fears and\\nquestions with a research staff who will keep this information private.\\n• Women will be advised about the possibility of stinging sensation during VIA and\\nwhat to do if this sensation does not go away after the screening.\\n• The study staff will provide adequate privacy for women during vaginal\\nexamination to minimize embarrassment.\\n• The study staff will provide detailed instructions including visual aids to women\\non how to perform self- sampling. If women decide they do not wish to collect\\nthe careHPV sample they will be offered an alternative (VIA/VILI screening).\\n5.5 Study and safety monitoring\\nXXX staff will work together to monitor the study. XXX staff will have regular\\ntelecommunication and/or email communication with researchers at least every two\\n5.6 Managing and reporting adverse events\\nIn this study, an adverse event (AE) is any untoward or undesirable event experienced\\nby a participant regardless of whether the event is expected or related to the\\nparticipant’s involvement in the research. No adverse effects are anticipated as a result\\nof this study.\\nA serious adverse event (SAE) is any untoward medical occurrence or effect that\\ninvolves:\\n• A life-threatening condition (participant at immediate risk of death)\\n• Persistent or significant disability/incapacity\\n• In-patient hospitalization or prolongation of existing hospitalization\\n• A congenital anomaly or birth defect\\n• An important medical event that may jeopardize the participant or may require\\nintervention to prevent one of the outcomes listed above.\\nNo serious adverse events are anticipated as a result of this study.\\nStaff finding out about any AE or SAE must report the event to the Study PI either via\\nphone or email within 24 hours of finding out about the event, even if study staff\\nconsider the event not related to the study or are unsure about relatedness to the\\nThe Study PI will notify involved Ethics Committees according to reporting guidelines.\\nOf note, an initial notification can be made followed by a completed SAE report form as\\nsoon as possible, but at latest within three calendar days of the initial notification. The\\ncompleted SAE form should be coded as “Follow-up SAE report” and detail relevant\\naspects of the adverse event/s, relationship to the study (related/ unrelated), action/s\\ntaken and event outcomes. If applicable, hospital case records and autopsy reports\\nshould be obtained.\\nAny relevant information that becomes available after the SAE report form has been\\nsent (outcome, precise description of medical history, results of the investigation, copy\\nof the hospitalization report) should be forwarded as soon as possible to the Study PI.\\nConfidentiality guidelines should be adhered to when forwarding this information.\\n5.7\\nManaging and reporting unanticipated problems or protocol deviations\\nIn this study, an unanticipated problem is any incident, experience or outcome\\n(physical, psychological, economic or social) that potentially places the participants or\\nothers at greater risk for harm.\\nA deviation from protocol is any change in the study procedures that does not follow\\nthe approved written study protocol.\\nStaff are required to report any unanticipated problems or deviations to protocol that\\noccur during the study to the Study PI within 24 hours of learning about issue. Within\\n72 hours, the Study PI will notify involved Ethics Committees in accordance with their\\nreporting requirements.'},\n",
       " {'section_number': '6.0',\n",
       "  'original_title': 'STATISTICAL ANALYSIS',\n",
       "  'text': 'Statistical analysis will be conducted by XXX.\\nThe percent of eligible women who self-\\ncollect a vaginal careHPV sample, receive their careHPV test results, and are referred\\nfor follow-up or treatment, will be calculated by dividing the number of women who\\ncomplete each of these processes (numerator) by the number of eligible women\\nenrolled in the study (denominator) and multiplying by 100.\\nTo calculate the positivity, the percent of eligible women that test positive with careHPV\\nwill be calculated and then stratified by health facility (where the sample) was collected\\nand lab testing site.\\nLastly, to determine whether samples are adequately stored, the number of days each\\nsample is stored at the health facility (where the sample was collected) before transfer\\nto lab testing facility and the percent of samples that are stored according to SOP will\\nbe calculated. To assess appropriate transfer of samples, the number and percent of\\nintact samples received by the lab will be computed.'},\n",
       " {'section_number': '7.0',\n",
       "  'original_title': 'ETHICAL CONSIDERATIONS',\n",
       "  'text': '7.1 Consent Process\\nWhen women come to the clinic for cervical cancer screening, they will be asked\\nwhether they would like to participate in a study where they will be screened with an\\nadditional, new screening test, careHPV, and their data (screening test results,\\ntreatment and services provided during this visit and any follow-up visits) will be\\ncollected. If they are interested to participate in the study, study staff will go through the\\nconsent process with them. If they choose not to get screened with careHPV, they will\\nbe offered screening according to MOH standard of care (VIA/VILI). They will be asked\\nif they are willing to share their data. If so, they will be enrolled into the study. If they\\nchoose not to get screened with careHPV and do not agree to have their data\\ncollected, they will be offered screening according to MOH standard of care (VIA/VILI)\\nand not enrolled into the study.\\nConsent will be obtained individually in a private setting by trained CHWs. Consent will\\nbe obtained in Kiswahili, the local language spoken in this area, or English as desired\\nby the woman (Appendix 2). The CHWs will read the consent, explain all aspects of the\\nstudy to the potential participants, and reinforce that participation in this study will be\\nvoluntary, and under no circumstances will the clinical management of women be\\naffected by their decision to participate or not in the study. The women will be given the\\nopportunity to read the consent themselves and to ask questions of the CHWs. If a\\nwoman is unable to read the consent and requires it to be read to her, a literate,\\nimpartial witness will serve as the consent witness to ensure that the participant\\nunderstands the informed consent. Once all questions have been answered\\nsatisfactorily, women will be given the opportunity to choose to participate. If she\\nagrees, she will be asked to sign, or give her thumbprint if she is unable to sign.\\nWomen will be given a copy of the consent to take home. Signed consent forms will be\\nstored in a locked file separate from any other medical records and study data.\\nWomen may withdraw from the study at any time and for any reason. In the case of\\nwithdrawal, the reason for withdrawal will be documented on the CRF. If a woman\\nchooses to withdraw from the study after screening, her data will be excluded from the\\n7.2 Confidentiality and data management\\nConfidentiality\\nAll study staff will take training for study confidentiality as follows: All information\\ncollected by the study will be kept confidential. Data access and information that\\nidentifies study participants and specimens will be restricted so that only study staff will\\nhave access to the secure rooms, computers, and/or files where these are stored.\\nAside from study staff, only local providers in each sub-county will have access to the\\npersonal identifying information for each study participant. Study identification numbers\\nwill be used to label study records and specimens. These measures will help ensure\\nprotection of confidentiality while permitting clinical management.\\nLinking documents connecting the participant’s name and other identifying information\\nto the study identification number will be maintained for quality control and follow-up\\npurposes. Linking documents and other personal information will be destroyed as soon\\nas possible within three years after study activities have been completed e.g., after all\\nstudy data has been verified and cleaned and/or necessary follow-up has been\\nconducted.\\nStudy reports will not contain any personal identifying information of any study\\nparticipant.\\n7.3 Study costs\\nStudy participants will not need to pay to participate in the study nor will they incur any\\ncost to participate in the study beyond what they would normally incur to go to a health\\nfacility and receive screening services.\\n7.4 Compensation\\nNo compensation or payment will be provided to study participants. Participants will not\\nbe reimbursed for any lost wages due to participation in the study. No compensation or\\nreimbursement for transportation will be provided study participants as such\\ncompensation is not provided as part of MOH routine service delivery. As we are\\ndemonstrating the feasibility of careHPV as a screening test into a routine care setting,\\nwomen will not receive compensation for transport for the additional clinic visit to obtain\\ntheir careHPV results and screening with VIA/VILI.'}]"
      ]
     },
     "metadata": {},
     "output_type": "display_data"
    }
   ],
   "source": [
    "doc = fitz.open(filepath)  # open a supported document\n",
    "text = \"\"\n",
    "for page in doc:\n",
    "    for block in page.get_text(option=\"blocks\", sort=True):\n",
    "        # print(block)\n",
    "        if len(block[4]) > 10: # Page number\n",
    "            text += block[4] + \"\"\n",
    "        \n",
    "# Remove bullet points\n",
    "# text = re.sub(r'\\s*•\\s*', '', text)\n",
    "\n",
    "# Section pattern\n",
    "# pattenrs = r\"^([0-9A-Za-z]{1}.?[0-9])\\s+(.*)$\"\n",
    "pattenrs = r\"^([0-9A-Za-z]{1}.?0)\\s+(.*)$\"\n",
    "sections = re.findall(pattenrs, text, re.MULTILINE)\n",
    "\n",
    "# display(sections)\n",
    "\n",
    "title = \"\"  # Initialize the title variable\n",
    "\n",
    "if sections:\n",
    "    first_section_start_index = text.index(sections[0][0])\n",
    "    title = text[:first_section_start_index]\n",
    "    title = re.sub(r'\\n', '', title)  # Remove \\n\n",
    "    title = re.sub(r'\\s+', ' ', title)  # Substitute multiple white spaces with a single space\n",
    "    title = title.strip()\n",
    "    \n",
    "results = []\n",
    "for i in range(len(sections)):\n",
    "    section_number, original_title = sections[i]\n",
    "    if i < len(sections) - 1:\n",
    "        next_section_number = sections[i + 1][0]\n",
    "        section_start_index = text.index(sections[i][1])\n",
    "        section_end_index = text.index(next_section_number)\n",
    "    else:\n",
    "        section_start_index = text.index(sections[i][1])\n",
    "        section_end_index = len(text)\n",
    "\n",
    "    section_text = text[section_start_index +\n",
    "                        len(sections[i][1]):section_end_index].strip()\n",
    "    # Substitute multiple white spaces with a new line\n",
    "    section_text = re.sub(r'\\s{2,}', '\\n', section_text)\n",
    "\n",
    "    section = {\n",
    "        \"section_number\": section_number,\n",
    "        \"original_title\": original_title.strip(),\n",
    "        \"text\": section_text.strip()\n",
    "    }\n",
    "    results.append(section)\n",
    "\n",
    "display(title)\n",
    "display(results)\n"
   ]
  },
  {
   "cell_type": "code",
   "execution_count": 215,
   "metadata": {},
   "outputs": [],
   "source": [
    "# import re\n",
    "\n",
    "# def split_text(text):\n",
    "#   matches = re.finditer(r'^([0-9]+\\.[0-9]+\\.)?[A-Z]+\\.?|^([0-9]+\\.[0-9]+\\.)?[a-z]+\\.?|(.+?(?:[.!?]|\\n\\n))', text)\n",
    "#   headers = []\n",
    "#   sections = []\n",
    "#   sentences = []\n",
    "#   for match in matches:\n",
    "#     header = match.group(1)\n",
    "#     section = match.group(2)\n",
    "#     sentence = match.group(3)\n",
    "#     if header:\n",
    "#       headers.append(header)\n",
    "#     elif section:\n",
    "#       sections.append(section)\n",
    "#     else:\n",
    "#       sentences.append(sentence)\n",
    "#   return headers, sections, sentences\n",
    "\n",
    "# headers, sections, sentences = split_text(text)\n",
    "\n",
    "# display(headers, sections, sentences)"
   ]
  },
  {
   "cell_type": "code",
   "execution_count": 216,
   "metadata": {},
   "outputs": [],
   "source": [
    "# with fitz.open(filepath) as doc:  # open document\n",
    "#     # text = chr(12).join([page.get_text(sort=True) for page in doc])\n",
    "#     text = chr(12).join([page.get_text(option=\"blocks\", sort=True)[4] for page in doc])\n",
    "    \n",
    "# # Remove bullet points\n",
    "# text = re.sub(r'\\s*•\\s*', '', text)\n",
    "    \n",
    "# # Merge lines for headers/sections\n",
    "# text = re.sub(r'\\n+(\\S)', r' \\1', text)\n",
    "\n",
    "# # Split text into sentences\n",
    "# sentences = re.split(r'(?<=[.!?])\\s+', text)\n",
    "\n",
    "# display(sentences)"
   ]
  },
  {
   "cell_type": "code",
   "execution_count": 35,
   "metadata": {},
   "outputs": [],
   "source": []
  },
  {
   "cell_type": "code",
   "execution_count": null,
   "metadata": {},
   "outputs": [],
   "source": []
  }
 ],
 "metadata": {
  "kernelspec": {
   "display_name": "py310",
   "language": "python",
   "name": "python3"
  },
  "language_info": {
   "codemirror_mode": {
    "name": "ipython",
    "version": 3
   },
   "file_extension": ".py",
   "mimetype": "text/x-python",
   "name": "python",
   "nbconvert_exporter": "python",
   "pygments_lexer": "ipython3",
   "version": "3.10.10"
  },
  "orig_nbformat": 4
 },
 "nbformat": 4,
 "nbformat_minor": 2
}

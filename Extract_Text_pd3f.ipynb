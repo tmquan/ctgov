{
 "cells": [
  {
   "cell_type": "code",
   "execution_count": 1,
   "metadata": {},
   "outputs": [
    {
     "name": "stdout",
     "output_type": "stream",
     "text": [
      "Collecting pd3f\n",
      "  Downloading pd3f-0.4.0-py3-none-any.whl (30 kB)\n",
      "Collecting clean-text[gpl] (from pd3f)\n",
      "  Downloading clean_text-0.6.0-py3-none-any.whl (11 kB)\n",
      "Collecting dehyphen<0.4.0,>=0.3.0 (from pd3f)\n",
      "  Downloading dehyphen-0.3.4-py3-none-any.whl (18 kB)\n",
      "Requirement already satisfied: joblib in /data/qtran/anaconda3/envs/py310/lib/python3.10/site-packages (from pd3f) (1.2.0)\n",
      "Collecting parsr-client==3.1 (from pd3f)\n",
      "  Downloading parsr_client-3.1.0-py3-none-any.whl (5.1 kB)\n",
      "Requirement already satisfied: shapely in /data/qtran/anaconda3/envs/py310/lib/python3.10/site-packages (from pd3f) (2.0.1)\n",
      "Collecting textdistance (from pd3f)\n",
      "  Using cached textdistance-4.5.0-py3-none-any.whl (31 kB)\n",
      "Collecting diff_match_patch<20181112,>=20181111 (from parsr-client==3.1->pd3f)\n",
      "  Downloading diff-match-patch-20181111.tar.gz (58 kB)\n",
      "\u001b[2K     \u001b[90m━━━━━━━━━━━━━━━━━━━━━━━━━━━━━━━━━━━━━━━━\u001b[0m \u001b[32m58.6/58.6 kB\u001b[0m \u001b[31m2.6 MB/s\u001b[0m eta \u001b[36m0:00:00\u001b[0m\n",
      "\u001b[?25h  Preparing metadata (setup.py) ... \u001b[?25ldone\n",
      "\u001b[?25hCollecting pandas<2.0.0,>=1.0.3 (from parsr-client==3.1->pd3f)\n",
      "  Downloading pandas-1.5.3-cp310-cp310-manylinux_2_17_x86_64.manylinux2014_x86_64.whl (12.1 MB)\n",
      "\u001b[2K     \u001b[90m━━━━━━━━━━━━━━━━━━━━━━━━━━━━━━━━━━━━━━━━\u001b[0m \u001b[32m12.1/12.1 MB\u001b[0m \u001b[31m32.5 MB/s\u001b[0m eta \u001b[36m0:00:00\u001b[0m00:01\u001b[0m0:01\u001b[0m\n",
      "\u001b[?25hRequirement already satisfied: requests<3.0.0,>=2.23.0 in /data/qtran/anaconda3/envs/py310/lib/python3.10/site-packages (from parsr-client==3.1->pd3f) (2.27.1)\n",
      "Collecting semver<3.0.0,>=2.9.1 (from parsr-client==3.1->pd3f)\n",
      "  Downloading semver-2.13.0-py2.py3-none-any.whl (12 kB)\n",
      "Collecting sxsdiff<0.4.0,>=0.3.0 (from parsr-client==3.1->pd3f)\n",
      "  Downloading sxsdiff-0.3.0-py2.py3-none-any.whl (7.4 kB)\n",
      "Collecting pd3f-flair (from dehyphen<0.4.0,>=0.3.0->pd3f)\n",
      "  Downloading pd3f_flair-0.6.0.1-py3-none-any.whl (188 kB)\n",
      "\u001b[2K     \u001b[90m━━━━━━━━━━━━━━━━━━━━━━━━━━━━━━━━━━━━━━━\u001b[0m \u001b[32m188.5/188.5 kB\u001b[0m \u001b[31m9.8 MB/s\u001b[0m eta \u001b[36m0:00:00\u001b[0m\n",
      "\u001b[?25hCollecting emoji<2.0.0,>=1.0.0 (from clean-text[gpl]->pd3f)\n",
      "  Downloading emoji-1.7.0.tar.gz (175 kB)\n",
      "\u001b[2K     \u001b[90m━━━━━━━━━━━━━━━━━━━━━━━━━━━━━━━━━━━━━━\u001b[0m \u001b[32m175.4/175.4 kB\u001b[0m \u001b[31m15.9 MB/s\u001b[0m eta \u001b[36m0:00:00\u001b[0m\n",
      "\u001b[?25h  Preparing metadata (setup.py) ... \u001b[?25ldone\n",
      "\u001b[?25hCollecting ftfy<7.0,>=6.0 (from clean-text[gpl]->pd3f)\n",
      "  Using cached ftfy-6.1.1-py3-none-any.whl (53 kB)\n",
      "Requirement already satisfied: unidecode<2.0.0,>=1.1.1 in /data/qtran/anaconda3/envs/py310/lib/python3.10/site-packages (from clean-text[gpl]->pd3f) (1.3.6)\n",
      "Requirement already satisfied: numpy>=1.14 in /data/qtran/anaconda3/envs/py310/lib/python3.10/site-packages (from shapely->pd3f) (1.23.1)\n",
      "Requirement already satisfied: wcwidth>=0.2.5 in /data/qtran/anaconda3/envs/py310/lib/python3.10/site-packages (from ftfy<7.0,>=6.0->clean-text[gpl]->pd3f) (0.2.6)\n",
      "Requirement already satisfied: python-dateutil>=2.8.1 in /data/qtran/anaconda3/envs/py310/lib/python3.10/site-packages (from pandas<2.0.0,>=1.0.3->parsr-client==3.1->pd3f) (2.8.2)\n",
      "Requirement already satisfied: pytz>=2020.1 in /data/qtran/anaconda3/envs/py310/lib/python3.10/site-packages (from pandas<2.0.0,>=1.0.3->parsr-client==3.1->pd3f) (2022.7.1)\n",
      "Requirement already satisfied: urllib3<1.27,>=1.21.1 in /data/qtran/anaconda3/envs/py310/lib/python3.10/site-packages (from requests<3.0.0,>=2.23.0->parsr-client==3.1->pd3f) (1.26.13)\n",
      "Requirement already satisfied: certifi>=2017.4.17 in /data/qtran/anaconda3/envs/py310/lib/python3.10/site-packages (from requests<3.0.0,>=2.23.0->parsr-client==3.1->pd3f) (2022.12.7)\n",
      "Requirement already satisfied: charset-normalizer~=2.0.0 in /data/qtran/anaconda3/envs/py310/lib/python3.10/site-packages (from requests<3.0.0,>=2.23.0->parsr-client==3.1->pd3f) (2.0.12)\n",
      "Requirement already satisfied: idna<4,>=2.5 in /data/qtran/anaconda3/envs/py310/lib/python3.10/site-packages (from requests<3.0.0,>=2.23.0->parsr-client==3.1->pd3f) (3.4)\n",
      "Requirement already satisfied: six>=1.9.0 in /data/qtran/anaconda3/envs/py310/lib/python3.10/site-packages (from sxsdiff<0.4.0,>=0.3.0->parsr-client==3.1->pd3f) (1.16.0)\n",
      "Collecting deprecated (from pd3f-flair->dehyphen<0.4.0,>=0.3.0->pd3f)\n",
      "  Using cached Deprecated-1.2.14-py2.py3-none-any.whl (9.6 kB)\n",
      "Requirement already satisfied: torch in /data/qtran/anaconda3/envs/py310/lib/python3.10/site-packages (from pd3f-flair->dehyphen<0.4.0,>=0.3.0->pd3f) (2.0.0+cu118)\n",
      "Requirement already satisfied: tqdm in /data/qtran/anaconda3/envs/py310/lib/python3.10/site-packages (from pd3f-flair->dehyphen<0.4.0,>=0.3.0->pd3f) (4.48.0)\n",
      "Requirement already satisfied: wrapt<2,>=1.10 in /data/qtran/anaconda3/envs/py310/lib/python3.10/site-packages (from deprecated->pd3f-flair->dehyphen<0.4.0,>=0.3.0->pd3f) (1.14.1)\n",
      "Requirement already satisfied: filelock in /data/qtran/anaconda3/envs/py310/lib/python3.10/site-packages (from torch->pd3f-flair->dehyphen<0.4.0,>=0.3.0->pd3f) (3.11.0)\n",
      "Requirement already satisfied: typing-extensions in /data/qtran/anaconda3/envs/py310/lib/python3.10/site-packages (from torch->pd3f-flair->dehyphen<0.4.0,>=0.3.0->pd3f) (4.5.0)\n",
      "Requirement already satisfied: sympy in /data/qtran/anaconda3/envs/py310/lib/python3.10/site-packages (from torch->pd3f-flair->dehyphen<0.4.0,>=0.3.0->pd3f) (1.11.1)\n",
      "Requirement already satisfied: networkx in /data/qtran/anaconda3/envs/py310/lib/python3.10/site-packages (from torch->pd3f-flair->dehyphen<0.4.0,>=0.3.0->pd3f) (3.1)\n",
      "Requirement already satisfied: jinja2 in /data/qtran/anaconda3/envs/py310/lib/python3.10/site-packages (from torch->pd3f-flair->dehyphen<0.4.0,>=0.3.0->pd3f) (3.1.2)\n",
      "Requirement already satisfied: triton==2.0.0 in /data/qtran/anaconda3/envs/py310/lib/python3.10/site-packages (from torch->pd3f-flair->dehyphen<0.4.0,>=0.3.0->pd3f) (2.0.0)\n",
      "Requirement already satisfied: cmake in /data/qtran/anaconda3/envs/py310/lib/python3.10/site-packages (from triton==2.0.0->torch->pd3f-flair->dehyphen<0.4.0,>=0.3.0->pd3f) (3.25.0)\n",
      "Requirement already satisfied: lit in /data/qtran/anaconda3/envs/py310/lib/python3.10/site-packages (from triton==2.0.0->torch->pd3f-flair->dehyphen<0.4.0,>=0.3.0->pd3f) (15.0.7)\n",
      "Requirement already satisfied: MarkupSafe>=2.0 in /data/qtran/anaconda3/envs/py310/lib/python3.10/site-packages (from jinja2->torch->pd3f-flair->dehyphen<0.4.0,>=0.3.0->pd3f) (2.1.2)\n",
      "Requirement already satisfied: mpmath>=0.19 in /data/qtran/anaconda3/envs/py310/lib/python3.10/site-packages (from sympy->torch->pd3f-flair->dehyphen<0.4.0,>=0.3.0->pd3f) (1.2.1)\n",
      "Building wheels for collected packages: diff_match_patch, emoji\n",
      "  Building wheel for diff_match_patch (setup.py) ... \u001b[?25ldone\n",
      "\u001b[?25h  Created wheel for diff_match_patch: filename=diff_match_patch-20181111-py3-none-any.whl size=58496 sha256=a9b936042e85a69fef3b90f92df1eb7208c2d28b2ceb7ba313df8affb13a404c\n",
      "  Stored in directory: /home/qtran/.cache/pip/wheels/ee/c6/19/9715aafec175872d6a1c021d7c927ead80170321837d981b5a\n",
      "  Building wheel for emoji (setup.py) ... \u001b[?25ldone\n",
      "\u001b[?25h  Created wheel for emoji: filename=emoji-1.7.0-py3-none-any.whl size=171032 sha256=6ce454894390df44787c7731dc5cdbfa653d0db51dda90457c9b65d5e7765d42\n",
      "  Stored in directory: /home/qtran/.cache/pip/wheels/31/8a/8c/315c9e5d7773f74b33d5ed33f075b49c6eaeb7cedbb86e2cf8\n",
      "Successfully built diff_match_patch emoji\n",
      "Installing collected packages: emoji, diff_match_patch, textdistance, sxsdiff, semver, ftfy, deprecated, pandas, clean-text, parsr-client, pd3f-flair, dehyphen, pd3f\n",
      "  Attempting uninstall: pandas\n",
      "    Found existing installation: pandas 2.0.0\n",
      "    Uninstalling pandas-2.0.0:\n",
      "      Successfully uninstalled pandas-2.0.0\n",
      "Successfully installed clean-text-0.6.0 dehyphen-0.3.4 deprecated-1.2.14 diff_match_patch-20181111 emoji-1.7.0 ftfy-6.1.1 pandas-1.5.3 parsr-client-3.1.0 pd3f-0.4.0 pd3f-flair-0.6.0.1 semver-2.13.0 sxsdiff-0.3.0 textdistance-4.5.0\n"
     ]
    }
   ],
   "source": [
    "! pip install pd3f"
   ]
  },
  {
   "cell_type": "code",
   "execution_count": null,
   "metadata": {},
   "outputs": [],
   "source": []
  }
 ],
 "metadata": {
  "kernelspec": {
   "display_name": "py310",
   "language": "python",
   "name": "python3"
  },
  "language_info": {
   "codemirror_mode": {
    "name": "ipython",
    "version": 3
   },
   "file_extension": ".py",
   "mimetype": "text/x-python",
   "name": "python",
   "nbconvert_exporter": "python",
   "pygments_lexer": "ipython3",
   "version": "3.10.10"
  },
  "orig_nbformat": 4
 },
 "nbformat": 4,
 "nbformat_minor": 2
}

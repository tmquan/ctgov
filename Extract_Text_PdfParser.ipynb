{
 "cells": [
  {
   "cell_type": "code",
   "execution_count": 2,
   "metadata": {},
   "outputs": [],
   "source": [
    "# ! pip install py_pdf_parser"
   ]
  },
  {
   "cell_type": "code",
   "execution_count": 18,
   "metadata": {},
   "outputs": [
    {
     "data": {
      "text/plain": [
       "{'document': <py_pdf_parser.components.PDFDocument at 0x7f2777626bf0>,\n",
       " 'original_element': <LTTextBoxHorizontal(-1) 67.500,687.004,89.606,701.449 '1.0 \\n'>,\n",
       " '_index': 0,\n",
       " '_PDFElement__page_number': 1,\n",
       " '_PDFElement__font_size_precision': 1,\n",
       " 'tags': set(),\n",
       " 'bounding_box': <BoundingBox x0=67.5, x1=89.606328, y0=687.0042288599999, y1=701.44896>}"
      ]
     },
     "metadata": {},
     "output_type": "display_data"
    },
    {
     "data": {
      "text/plain": [
       "{'document': <py_pdf_parser.components.PDFDocument at 0x7f2777626bf0>,\n",
       " 'original_element': <LTTextBoxHorizontal(-1) 99.000,687.004,193.529,700.651 'INTRODUCTION \\n'>,\n",
       " '_index': 1,\n",
       " '_PDFElement__page_number': 1,\n",
       " '_PDFElement__font_size_precision': 1,\n",
       " 'tags': set(),\n",
       " 'bounding_box': <BoundingBox x0=99.0, x1=193.528728, y0=687.0042288599999, y1=700.6512888599999>}"
      ]
     },
     "metadata": {},
     "output_type": "display_data"
    },
    {
     "data": {
      "text/plain": [
       "{'document': <py_pdf_parser.components.PDFDocument at 0x7f2777626bf0>,\n",
       " 'original_element': <LTTextBoxHorizontal(-1) 67.500,636.630,542.492,666.811 '1.1 STUDY RATIONALE  \\nLower back pain (LBP) is a significant cause of morbidity, with an annual prevalence ranging from 15-45% \\n'>,\n",
       " '_index': 2,\n",
       " '_PDFElement__page_number': 1,\n",
       " '_PDFElement__font_size_precision': 1,\n",
       " 'tags': set(),\n",
       " 'bounding_box': <BoundingBox x0=67.5, x1=542.49216, y0=636.63024, y1=666.81128886>}"
      ]
     },
     "metadata": {},
     "output_type": "display_data"
    },
    {
     "data": {
      "text/plain": [
       "{'document': <py_pdf_parser.components.PDFDocument at 0x7f2777626bf0>,\n",
       " 'original_element': <LTTextBoxHorizontal(-1) 72.000,616.470,542.499,627.510 'of people [1]. A contributor to lower back pain is the sacroiliac (SI) joint, and an estimated 15-30% of LBP \\n'>,\n",
       " '_index': 3,\n",
       " '_PDFElement__page_number': 1,\n",
       " '_PDFElement__font_size_precision': 1,\n",
       " 'tags': set(),\n",
       " 'bounding_box': <BoundingBox x0=72.0, x1=542.4991200000001, y0=616.47024, y1=627.51024>}"
      ]
     },
     "metadata": {},
     "output_type": "display_data"
    },
    {
     "data": {
      "text/plain": [
       "{'document': <py_pdf_parser.components.PDFDocument at 0x7f2777626bf0>,\n",
       " 'original_element': <LTTextBoxHorizontal(-1) 72.000,596.310,542.356,607.350 'is  derived  from  issues  with  this  joint  [2,  3].  In  patients  with  SI  joint  pathology  who  fail  conservative \\n'>,\n",
       " '_index': 4,\n",
       " '_PDFElement__page_number': 1,\n",
       " '_PDFElement__font_size_precision': 1,\n",
       " 'tags': set(),\n",
       " 'bounding_box': <BoundingBox x0=72.0, x1=542.3560799999999, y0=596.31024, y1=607.35024>}"
      ]
     },
     "metadata": {},
     "output_type": "display_data"
    },
    {
     "data": {
      "text/plain": [
       "{'document': <py_pdf_parser.components.PDFDocument at 0x7f2777626bf0>,\n",
       " 'original_element': <LTTextBoxHorizontal(-1) 72.000,576.150,542.657,587.190 'management, SIJF provides effective pain relief [4, 6], even when compared to optimized conservative \\n'>,\n",
       " '_index': 5,\n",
       " '_PDFElement__page_number': 1,\n",
       " '_PDFElement__font_size_precision': 1,\n",
       " 'tags': set(),\n",
       " 'bounding_box': <BoundingBox x0=72.0, x1=542.657279999999, y0=576.15024, y1=587.19024>}"
      ]
     },
     "metadata": {},
     "output_type": "display_data"
    },
    {
     "data": {
      "text/plain": [
       "{'document': <py_pdf_parser.components.PDFDocument at 0x7f2777626bf0>,\n",
       " 'original_element': <LTTextBoxHorizontal(-1) 72.000,555.990,435.336,567.030 'management [7-12]. This is a multi-site, prospective, single arm feasibility study.  \\n'>,\n",
       " '_index': 6,\n",
       " '_PDFElement__page_number': 1,\n",
       " '_PDFElement__font_size_precision': 1,\n",
       " 'tags': set(),\n",
       " 'bounding_box': <BoundingBox x0=72.0, x1=435.33576, y0=555.99024, y1=567.0302399999999>}"
      ]
     },
     "metadata": {},
     "output_type": "display_data"
    },
    {
     "data": {
      "text/plain": [
       "{'document': <py_pdf_parser.components.PDFDocument at 0x7f2777626bf0>,\n",
       " 'original_element': <LTTextBoxHorizontal(-1) 72.000,509.910,542.464,538.171 '1.2 Risk/Benefit Assessment   \\nThis is an approved device in use for sacroiliac joint fusion in a real world setting and therefore there is no \\n'>,\n",
       " '_index': 7,\n",
       " '_PDFElement__page_number': 1,\n",
       " '_PDFElement__font_size_precision': 1,\n",
       " 'tags': set(),\n",
       " 'bounding_box': <BoundingBox x0=72.0, x1=542.4640799999995, y0=509.91024, y1=538.17128886>}"
      ]
     },
     "metadata": {},
     "output_type": "display_data"
    },
    {
     "data": {
      "text/plain": [
       "{'document': <py_pdf_parser.components.PDFDocument at 0x7f2777626bf0>,\n",
       " 'original_element': <LTTextBoxHorizontal(-1) 72.000,489.750,220.347,500.790 'more risk than standard of care.  \\n'>,\n",
       " '_index': 8,\n",
       " '_PDFElement__page_number': 1,\n",
       " '_PDFElement__font_size_precision': 1,\n",
       " 'tags': set(),\n",
       " 'bounding_box': <BoundingBox x0=72.0, x1=220.347096, y0=489.75023999999996, y1=500.79024>}"
      ]
     },
     "metadata": {},
     "output_type": "display_data"
    },
    {
     "data": {
      "text/plain": [
       "{'document': <py_pdf_parser.components.PDFDocument at 0x7f2777626bf0>,\n",
       " 'original_element': <LTTextBoxHorizontal(-1) 67.500,433.590,517.256,464.809 '2.0  OBJECTIVES  \\nPrimary Objective: To evaluate the effectiveness of the treatment with Siros SI Joint Fusion System  \\n'>,\n",
       " '_index': 9,\n",
       " '_PDFElement__page_number': 1,\n",
       " '_PDFElement__font_size_precision': 1,\n",
       " 'tags': set(),\n",
       " 'bounding_box': <BoundingBox x0=67.5, x1=517.25568, y0=433.59023999999994, y1=464.80895999999996>}"
      ]
     },
     "metadata": {},
     "output_type": "display_data"
    },
    {
     "data": {
      "text/plain": [
       "{'document': <py_pdf_parser.components.PDFDocument at 0x7f2777626bf0>,\n",
       " 'original_element': <LTTextBoxHorizontal(-1) 72.000,411.510,159.740,422.550 'Primary endpoints: \\n'>,\n",
       " '_index': 10,\n",
       " '_PDFElement__page_number': 1,\n",
       " '_PDFElement__font_size_precision': 1,\n",
       " 'tags': set(),\n",
       " 'bounding_box': <BoundingBox x0=72.0, x1=159.73968, y0=411.51023999999995, y1=422.55024>}"
      ]
     },
     "metadata": {},
     "output_type": "display_data"
    },
    {
     "data": {
      "text/plain": [
       "{'document': <py_pdf_parser.components.PDFDocument at 0x7f2777626bf0>,\n",
       " 'original_element': <LTTextBoxHorizontal(-1) 171.120,352.950,474.632,408.780 '•  Assessment of improvement in SI Joint Pain using the NRS \\n•  Assessment of improvement in Back Dysfunction using the ODI  \\n•  # Patients with Serious SAEs \\n•  Assessment of improvement in Quality of Life (PROMIS 10) \\n'>,\n",
       " '_index': 11,\n",
       " '_PDFElement__page_number': 1,\n",
       " '_PDFElement__font_size_precision': 1,\n",
       " 'tags': set(),\n",
       " 'bounding_box': <BoundingBox x0=171.12, x1=474.63216, y0=352.95023999999995, y1=408.77951999999993>}"
      ]
     },
     "metadata": {},
     "output_type": "display_data"
    },
    {
     "data": {
      "text/plain": [
       "{'document': <py_pdf_parser.components.PDFDocument at 0x7f2777626bf0>,\n",
       " 'original_element': <LTTextBoxHorizontal(-1) 67.500,319.324,191.049,333.769 '3.0  STUDY DESIGN  \\n'>,\n",
       " '_index': 12,\n",
       " '_PDFElement__page_number': 1,\n",
       " '_PDFElement__font_size_precision': 1,\n",
       " 'tags': set(),\n",
       " 'bounding_box': <BoundingBox x0=67.5, x1=191.04897599999998, y0=319.32430086, y1=333.76895999999994>}"
      ]
     },
     "metadata": {},
     "output_type": "display_data"
    },
    {
     "data": {
      "text/plain": [
       "{'document': <py_pdf_parser.components.PDFDocument at 0x7f2777626bf0>,\n",
       " 'original_element': <LTTextBoxHorizontal(-1) 72.000,280.950,542.500,310.009 '3.1 Overall Design \\nThis is a prospective, single arm, post-market feasibility pilot study that will include at least five sites for \\n'>,\n",
       " '_index': 13,\n",
       " '_PDFElement__page_number': 1,\n",
       " '_PDFElement__font_size_precision': 1,\n",
       " 'tags': set(),\n",
       " 'bounding_box': <BoundingBox x0=72.0, x1=542.499552, y0=280.95023999999995, y1=310.00895999999995>}"
      ]
     },
     "metadata": {},
     "output_type": "display_data"
    },
    {
     "data": {
      "text/plain": [
       "{'document': <py_pdf_parser.components.PDFDocument at 0x7f2777626bf0>,\n",
       " 'original_element': <LTTextBoxHorizontal(-1) 72.000,260.790,542.408,271.830 'recruitment and enrolment. A minimum of 35 eligible subjects with a diagnosis of degenerative sacroiliitis \\n'>,\n",
       " '_index': 14,\n",
       " '_PDFElement__page_number': 1,\n",
       " '_PDFElement__font_size_precision': 1,\n",
       " 'tags': set(),\n",
       " 'bounding_box': <BoundingBox x0=72.0, x1=542.407536, y0=260.79024, y1=271.83024>}"
      ]
     },
     "metadata": {},
     "output_type": "display_data"
    },
    {
     "data": {
      "text/plain": [
       "{'document': <py_pdf_parser.components.PDFDocument at 0x7f2777626bf0>,\n",
       " 'original_element': <LTTextBoxHorizontal(-1) 72.000,240.630,542.406,251.670 'or  sacroiliac  joint  disruption  who  meet  inclusion/exclusion  criteria  and  are  intended  to  be  treated  via \\n'>,\n",
       " '_index': 15,\n",
       " '_PDFElement__page_number': 1,\n",
       " '_PDFElement__font_size_precision': 1,\n",
       " 'tags': set(),\n",
       " 'bounding_box': <BoundingBox x0=72.0, x1=542.4055679999988, y0=240.63023999999996, y1=251.67023999999998>}"
      ]
     },
     "metadata": {},
     "output_type": "display_data"
    },
    {
     "data": {
      "text/plain": [
       "{'document': <py_pdf_parser.components.PDFDocument at 0x7f2777626bf0>,\n",
       " 'original_element': <LTTextBoxHorizontal(-1) 72.000,220.470,547.469,231.510 'sacroiliac joint fusion will be enrolled in this study. No placebo or control will be utilized during this study.   \\n'>,\n",
       " '_index': 16,\n",
       " '_PDFElement__page_number': 1,\n",
       " '_PDFElement__font_size_precision': 1,\n",
       " 'tags': set(),\n",
       " 'bounding_box': <BoundingBox x0=72.0, x1=547.4688, y0=220.47024, y1=231.51024>}"
      ]
     },
     "metadata": {},
     "output_type": "display_data"
    },
    {
     "data": {
      "text/plain": [
       "{'document': <py_pdf_parser.components.PDFDocument at 0x7f2777626bf0>,\n",
       " 'original_element': <LTTextBoxHorizontal(-1) 67.500,181.084,220.004,195.529 '4.0  STUDY POPULATION \\n'>,\n",
       " '_index': 17,\n",
       " '_PDFElement__page_number': 1,\n",
       " '_PDFElement__font_size_precision': 1,\n",
       " 'tags': set(),\n",
       " 'bounding_box': <BoundingBox x0=67.5, x1=220.004328, y0=181.08430085999998, y1=195.52895999999996>}"
      ]
     },
     "metadata": {},
     "output_type": "display_data"
    },
    {
     "data": {
      "text/plain": [
       "{'document': <py_pdf_parser.components.PDFDocument at 0x7f2777626bf0>,\n",
       " 'original_element': <LTTextBoxHorizontal(-1) 76.500,157.084,201.454,171.529 '4.1  Inclusion Criteria \\n'>,\n",
       " '_index': 18,\n",
       " '_PDFElement__page_number': 1,\n",
       " '_PDFElement__font_size_precision': 1,\n",
       " 'tags': set(),\n",
       " 'bounding_box': <BoundingBox x0=76.5, x1=201.45352799999998, y0=157.08430085999998, y1=171.52896>}"
      ]
     },
     "metadata": {},
     "output_type": "display_data"
    },
    {
     "data": {
      "text/plain": [
       "{'document': <py_pdf_parser.components.PDFDocument at 0x7f2777626bf0>,\n",
       " 'original_element': <LTTextBoxHorizontal(-1) 103.440,141.990,260.689,153.660 '•  Age 21-80 at time of screening \\n'>,\n",
       " '_index': 19,\n",
       " '_PDFElement__page_number': 1,\n",
       " '_PDFElement__font_size_precision': 1,\n",
       " 'tags': set(),\n",
       " 'bounding_box': <BoundingBox x0=103.44, x1=260.68944, y0=141.99023999999997, y1=153.65952>}"
      ]
     },
     "metadata": {},
     "output_type": "display_data"
    },
    {
     "data": {
      "text/plain": [
       "{'document': <py_pdf_parser.components.PDFDocument at 0x7f2777626bf0>,\n",
       " 'original_element': <LTTextBoxHorizontal(-1) 103.440,121.110,315.066,132.780 '•  Patient has lower back pain for >6 months  \\n'>,\n",
       " '_index': 20,\n",
       " '_PDFElement__page_number': 1,\n",
       " '_PDFElement__font_size_precision': 1,\n",
       " 'tags': set(),\n",
       " 'bounding_box': <BoundingBox x0=103.44, x1=315.06624000000005, y0=121.11023999999999, y1=132.77952>}"
      ]
     },
     "metadata": {},
     "output_type": "display_data"
    },
    {
     "data": {
      "text/plain": [
       "{'document': <py_pdf_parser.components.PDFDocument at 0x7f2777626bf0>,\n",
       " 'original_element': <LTTextBoxHorizontal(-1) 103.440,100.470,396.809,112.140 '•  Baseline Oswestry Disability Index (ODI) score of at least 30% \\n'>,\n",
       " '_index': 21,\n",
       " '_PDFElement__page_number': 1,\n",
       " '_PDFElement__font_size_precision': 1,\n",
       " 'tags': set(),\n",
       " 'bounding_box': <BoundingBox x0=103.44, x1=396.80904, y0=100.47024, y1=112.13952>}"
      ]
     },
     "metadata": {},
     "output_type": "display_data"
    },
    {
     "data": {
      "text/plain": [
       "{'document': <py_pdf_parser.components.PDFDocument at 0x7f2777626bf0>,\n",
       " 'original_element': <LTTextBoxHorizontal(-1) 534.425,68.070,542.495,79.110 '1 \\n'>,\n",
       " '_index': 22,\n",
       " '_PDFElement__page_number': 1,\n",
       " '_PDFElement__font_size_precision': 1,\n",
       " 'tags': set(),\n",
       " 'bounding_box': <BoundingBox x0=534.4248, x1=542.49504, y0=68.07023999999997, y1=79.11023999999996>}"
      ]
     },
     "metadata": {},
     "output_type": "display_data"
    },
    {
     "data": {
      "text/plain": [
       "{'document': <py_pdf_parser.components.PDFDocument at 0x7f2777626bf0>,\n",
       " 'original_element': <LTTextBoxHorizontal(-1) 76.500,703.084,203.463,717.529 '4.2  Exclusion Criteria \\n'>,\n",
       " '_index': 23,\n",
       " '_PDFElement__page_number': 2,\n",
       " '_PDFElement__font_size_precision': 1,\n",
       " 'tags': set(),\n",
       " 'bounding_box': <BoundingBox x0=76.5, x1=203.46331199999997, y0=703.0842288599999, y1=717.52896>}"
      ]
     },
     "metadata": {},
     "output_type": "display_data"
    },
    {
     "data": {
      "text/plain": [
       "{'document': <py_pdf_parser.components.PDFDocument at 0x7f2777626bf0>,\n",
       " 'original_element': <LTTextBoxHorizontal(-1) 90.000,687.990,276.612,699.660 '•  Severe back pain due to other causes \\n'>,\n",
       " '_index': 24,\n",
       " '_PDFElement__page_number': 2,\n",
       " '_PDFElement__font_size_precision': 1,\n",
       " 'tags': set(),\n",
       " 'bounding_box': <BoundingBox x0=90.0, x1=276.61224, y0=687.99024, y1=699.6595199999999>}"
      ]
     },
     "metadata": {},
     "output_type": "display_data"
    },
    {
     "data": {
      "text/plain": [
       "{'document': <py_pdf_parser.components.PDFDocument at 0x7f2777626bf0>,\n",
       " 'original_element': <LTTextBoxHorizontal(-1) 90.000,667.350,262.868,679.020 '•  Other known sacroiliac pathology  \\n'>,\n",
       " '_index': 25,\n",
       " '_PDFElement__page_number': 2,\n",
       " '_PDFElement__font_size_precision': 1,\n",
       " 'tags': set(),\n",
       " 'bounding_box': <BoundingBox x0=90.0, x1=262.86768, y0=667.35024, y1=679.0195199999999>}"
      ]
     },
     "metadata": {},
     "output_type": "display_data"
    },
    {
     "data": {
      "text/plain": [
       "{'document': <py_pdf_parser.components.PDFDocument at 0x7f2777626bf0>,\n",
       " 'original_element': <LTTextBoxHorizontal(-1) 90.000,646.710,331.709,658.380 '•  History of recent (<1 year) major trauma to pelvis \\n'>,\n",
       " '_index': 26,\n",
       " '_PDFElement__page_number': 2,\n",
       " '_PDFElement__font_size_precision': 1,\n",
       " 'tags': set(),\n",
       " 'bounding_box': <BoundingBox x0=90.0, x1=331.7088, y0=646.71024, y1=658.37952>}"
      ]
     },
     "metadata": {},
     "output_type": "display_data"
    },
    {
     "data": {
      "text/plain": [
       "{'document': <py_pdf_parser.components.PDFDocument at 0x7f2777626bf0>,\n",
       " 'original_element': <LTTextBoxHorizontal(-1) 90.000,625.830,343.660,637.500 '•  Previously diagnosed and uncorrected osteoporosis  \\n'>,\n",
       " '_index': 27,\n",
       " '_PDFElement__page_number': 2,\n",
       " '_PDFElement__font_size_precision': 1,\n",
       " 'tags': set(),\n",
       " 'bounding_box': <BoundingBox x0=90.0, x1=343.6596, y0=625.83024, y1=637.49952>}"
      ]
     },
     "metadata": {},
     "output_type": "display_data"
    },
    {
     "data": {
      "text/plain": [
       "{'document': <py_pdf_parser.components.PDFDocument at 0x7f2777626bf0>,\n",
       " 'original_element': <LTTextBoxHorizontal(-1) 72.000,581.670,542.493,610.729 '4.3  Strategies for Recruitment and Retention \\nRecruitment will be competitive, and to minimize selection bias, consecutive patients meeting pre-defined \\n'>,\n",
       " '_index': 28,\n",
       " '_PDFElement__page_number': 2,\n",
       " '_PDFElement__font_size_precision': 1,\n",
       " 'tags': set(),\n",
       " 'bounding_box': <BoundingBox x0=72.0, x1=542.49288, y0=581.67024, y1=610.72896>}"
      ]
     },
     "metadata": {},
     "output_type": "display_data"
    },
    {
     "data": {
      "text/plain": [
       "{'document': <py_pdf_parser.components.PDFDocument at 0x7f2777626bf0>,\n",
       " 'original_element': <LTTextBoxHorizontal(-1) 72.000,561.510,542.455,572.550 'eligibility  criteria  will  be  enrolled.  The  study  team  and  study  coordinator  will  be  informed  about  all \\n'>,\n",
       " '_index': 29,\n",
       " '_PDFElement__page_number': 2,\n",
       " '_PDFElement__font_size_precision': 1,\n",
       " 'tags': set(),\n",
       " 'bounding_box': <BoundingBox x0=72.0, x1=542.454672, y0=561.5102400000001, y1=572.55024>}"
      ]
     },
     "metadata": {},
     "output_type": "display_data"
    },
    {
     "data": {
      "text/plain": [
       "{'document': <py_pdf_parser.components.PDFDocument at 0x7f2777626bf0>,\n",
       " 'original_element': <LTTextBoxHorizontal(-1) 72.000,541.350,542.403,552.390 'patients who present a diagnosis of degenerative sacroiliitis or sacroiliac joint disruption; these patients \\n'>,\n",
       " '_index': 30,\n",
       " '_PDFElement__page_number': 2,\n",
       " '_PDFElement__font_size_precision': 1,\n",
       " 'tags': set(),\n",
       " 'bounding_box': <BoundingBox x0=72.0, x1=542.4033599999996, y0=541.35024, y1=552.39024>}"
      ]
     },
     "metadata": {},
     "output_type": "display_data"
    },
    {
     "data": {
      "text/plain": [
       "{'document': <py_pdf_parser.components.PDFDocument at 0x7f2777626bf0>,\n",
       " 'original_element': <LTTextBoxHorizontal(-1) 72.000,521.190,542.359,532.230 'will  be  reviewed  by  appropriate  members  of  the  study  staff  immediately  to  determine  eligibility  for \\n'>,\n",
       " '_index': 31,\n",
       " '_PDFElement__page_number': 2,\n",
       " '_PDFElement__font_size_precision': 1,\n",
       " 'tags': set(),\n",
       " 'bounding_box': <BoundingBox x0=72.0, x1=542.3588639999994, y0=521.19024, y1=532.23024>}"
      ]
     },
     "metadata": {},
     "output_type": "display_data"
    },
    {
     "data": {
      "text/plain": [
       "{'document': <py_pdf_parser.components.PDFDocument at 0x7f2777626bf0>,\n",
       " 'original_element': <LTTextBoxHorizontal(-1) 72.000,501.030,192.090,512.070 'participation in the study.  \\n'>,\n",
       " '_index': 32,\n",
       " '_PDFElement__page_number': 2,\n",
       " '_PDFElement__font_size_precision': 1,\n",
       " 'tags': set(),\n",
       " 'bounding_box': <BoundingBox x0=72.0, x1=192.08975999999998, y0=501.03023999999994, y1=512.0702399999999>}"
      ]
     },
     "metadata": {},
     "output_type": "display_data"
    },
    {
     "data": {
      "text/plain": [
       "{'document': <py_pdf_parser.components.PDFDocument at 0x7f2777626bf0>,\n",
       " 'original_element': <LTTextBoxHorizontal(-1) 67.500,461.644,231.335,476.089 '5.0  STUDY INTERVENTION \\n'>,\n",
       " '_index': 33,\n",
       " '_PDFElement__page_number': 2,\n",
       " '_PDFElement__font_size_precision': 1,\n",
       " 'tags': set(),\n",
       " 'bounding_box': <BoundingBox x0=67.5, x1=231.334896, y0=461.64422885999994, y1=476.08895999999993>}"
      ]
     },
     "metadata": {},
     "output_type": "display_data"
    },
    {
     "data": {
      "text/plain": [
       "{'document': <py_pdf_parser.components.PDFDocument at 0x7f2777626bf0>,\n",
       " 'original_element': <LTTextBoxHorizontal(-1) 72.000,423.030,542.610,451.531 '5.1 Study Intervention Description \\nThe  Genesys  Spine  Sacroiliac  Joint  Fusion  System  is  intended  for  sacroiliac  joint  fusion  for  conditions \\n'>,\n",
       " '_index': 34,\n",
       " '_PDFElement__page_number': 2,\n",
       " '_PDFElement__font_size_precision': 1,\n",
       " 'tags': set(),\n",
       " 'bounding_box': <BoundingBox x0=72.0, x1=542.6102639999997, y0=423.03024, y1=451.53128885999996>}"
      ]
     },
     "metadata": {},
     "output_type": "display_data"
    },
    {
     "data": {
      "text/plain": [
       "{'document': <py_pdf_parser.components.PDFDocument at 0x7f2777626bf0>,\n",
       " 'original_element': <LTTextBoxHorizontal(-1) 72.000,402.870,542.591,413.910 'including degenerative sacroiliitis and sacroiliac joint disruptions.  It is FDA cleared under a 510(k) number \\n'>,\n",
       " '_index': 35,\n",
       " '_PDFElement__page_number': 2,\n",
       " '_PDFElement__font_size_precision': 1,\n",
       " 'tags': set(),\n",
       " 'bounding_box': <BoundingBox x0=72.0, x1=542.5910399999988, y0=402.87023999999997, y1=413.91024>}"
      ]
     },
     "metadata": {},
     "output_type": "display_data"
    },
    {
     "data": {
      "text/plain": [
       "{'document': <py_pdf_parser.components.PDFDocument at 0x7f2777626bf0>,\n",
       " 'original_element': <LTTextBoxHorizontal(-1) 72.000,382.710,116.438,393.750 'K191748. \\n'>,\n",
       " '_index': 36,\n",
       " '_PDFElement__page_number': 2,\n",
       " '_PDFElement__font_size_precision': 1,\n",
       " 'tags': set(),\n",
       " 'bounding_box': <BoundingBox x0=72.0, x1=116.43792, y0=382.71023999999994, y1=393.75023999999996>}"
      ]
     },
     "metadata": {},
     "output_type": "display_data"
    },
    {
     "data": {
      "text/plain": [
       "{'document': <py_pdf_parser.components.PDFDocument at 0x7f2777626bf0>,\n",
       " 'original_element': <LTTextBoxHorizontal(-1) 67.500,343.324,337.521,357.769 '6.0  STUDY ASSESSMENTS AND PROCEDURES \\n'>,\n",
       " '_index': 37,\n",
       " '_PDFElement__page_number': 2,\n",
       " '_PDFElement__font_size_precision': 1,\n",
       " 'tags': set(),\n",
       " 'bounding_box': <BoundingBox x0=67.5, x1=337.52088, y0=343.32422885999995, y1=357.76895999999994>}"
      ]
     },
     "metadata": {},
     "output_type": "display_data"
    },
    {
     "data": {
      "text/plain": [
       "{'document': <py_pdf_parser.components.PDFDocument at 0x7f2777626bf0>,\n",
       " 'original_element': <LTTextBoxHorizontal(-1) 72.000,304.710,439.472,333.211 '6.1 Safety  \\nAEs, SAEs, and SUSARs will be assessed for severity, relationship, and seriousness. \\n'>,\n",
       " '_index': 38,\n",
       " '_PDFElement__page_number': 2,\n",
       " '_PDFElement__font_size_precision': 1,\n",
       " 'tags': set(),\n",
       " 'bounding_box': <BoundingBox x0=72.0, x1=439.47168000000005, y0=304.71023999999994, y1=333.21136086>}"
      ]
     },
     "metadata": {},
     "output_type": "display_data"
    },
    {
     "data": {
      "text/plain": [
       "{'document': <py_pdf_parser.components.PDFDocument at 0x7f2777626bf0>,\n",
       " 'original_element': <LTTextBoxHorizontal(-1) 67.500,248.790,542.540,279.769 '7.0  STATISTICAL CONSIDERATIONS  \\nNumbers  and  percentages  and  where  applicable  mean,  median,  minimum  and  maximum  as  well  as \\n'>,\n",
       " '_index': 39,\n",
       " '_PDFElement__page_number': 2,\n",
       " '_PDFElement__font_size_precision': 1,\n",
       " 'tags': set(),\n",
       " 'bounding_box': <BoundingBox x0=67.5, x1=542.540064, y0=248.79023999999998, y1=279.76895999999994>}"
      ]
     },
     "metadata": {},
     "output_type": "display_data"
    },
    {
     "data": {
      "text/plain": [
       "{'document': <py_pdf_parser.components.PDFDocument at 0x7f2777626bf0>,\n",
       " 'original_element': <LTTextBoxHorizontal(-1) 72.000,228.630,544.117,239.670 'standard deviation and interquartile range will be described. 95% confidence intervals will be calculated.  \\n'>,\n",
       " '_index': 40,\n",
       " '_PDFElement__page_number': 2,\n",
       " '_PDFElement__font_size_precision': 1,\n",
       " 'tags': set(),\n",
       " 'bounding_box': <BoundingBox x0=72.0, x1=544.11672, y0=228.63023999999996, y1=239.67023999999998>}"
      ]
     },
     "metadata": {},
     "output_type": "display_data"
    },
    {
     "data": {
      "text/plain": [
       "{'document': <py_pdf_parser.components.PDFDocument at 0x7f2777626bf0>,\n",
       " 'original_element': <LTTextBoxHorizontal(-1) 67.500,189.004,487.035,203.449 '8.0  REGULATORY, ETHICAL, AND STUDY OVERSIGHT CONSIDERATIONS \\n'>,\n",
       " '_index': 41,\n",
       " '_PDFElement__page_number': 2,\n",
       " '_PDFElement__font_size_precision': 1,\n",
       " 'tags': set(),\n",
       " 'bounding_box': <BoundingBox x0=67.5, x1=487.03488, y0=189.00430086, y1=203.44895999999997>}"
      ]
     },
     "metadata": {},
     "output_type": "display_data"
    },
    {
     "data": {
      "text/plain": [
       "{'document': <py_pdf_parser.components.PDFDocument at 0x7f2777626bf0>,\n",
       " 'original_element': <LTTextBoxHorizontal(-1) 72.000,150.390,542.369,178.891 '8.1   Consent \\nConsent forms describing in detail the study intervention, study procedures, and risks are given to the \\n'>,\n",
       " '_index': 42,\n",
       " '_PDFElement__page_number': 2,\n",
       " '_PDFElement__font_size_precision': 1,\n",
       " 'tags': set(),\n",
       " 'bounding_box': <BoundingBox x0=72.0, x1=542.369136, y0=150.39023999999995, y1=178.89136086000002>}"
      ]
     },
     "metadata": {},
     "output_type": "display_data"
    },
    {
     "data": {
      "text/plain": [
       "{'document': <py_pdf_parser.components.PDFDocument at 0x7f2777626bf0>,\n",
       " 'original_element': <LTTextBoxHorizontal(-1) 72.000,130.470,288.715,141.510 'participant  and  written  documentation  of \\n'>,\n",
       " '_index': 43,\n",
       " '_PDFElement__page_number': 2,\n",
       " '_PDFElement__font_size_precision': 1,\n",
       " 'tags': set(),\n",
       " 'bounding_box': <BoundingBox x0=72.0, x1=288.71520000000004, y0=130.47024, y1=141.51024>}"
      ]
     },
     "metadata": {},
     "output_type": "display_data"
    },
    {
     "data": {
      "text/plain": [
       "{'document': <py_pdf_parser.components.PDFDocument at 0x7f2777626bf0>,\n",
       " 'original_element': <LTTextBoxHorizontal(-1) 295.676,130.470,384.426,141.510 'informed  consent \\n'>,\n",
       " '_index': 44,\n",
       " '_PDFElement__page_number': 2,\n",
       " '_PDFElement__font_size_precision': 1,\n",
       " 'tags': set(),\n",
       " 'bounding_box': <BoundingBox x0=295.67592, x1=384.42648, y0=130.47024, y1=141.51024>}"
      ]
     },
     "metadata": {},
     "output_type": "display_data"
    },
    {
     "data": {
      "text/plain": [
       "{'document': <py_pdf_parser.components.PDFDocument at 0x7f2777626bf0>,\n",
       " 'original_element': <LTTextBoxHorizontal(-1) 391.387,130.470,542.508,141.510 'is  required  prior  to  starting \\n'>,\n",
       " '_index': 45,\n",
       " '_PDFElement__page_number': 2,\n",
       " '_PDFElement__font_size_precision': 1,\n",
       " 'tags': set(),\n",
       " 'bounding_box': <BoundingBox x0=391.3872, x1=542.5082399999995, y0=130.47024, y1=141.51024>}"
      ]
     },
     "metadata": {},
     "output_type": "display_data"
    },
    {
     "data": {
      "text/plain": [
       "{'document': <py_pdf_parser.components.PDFDocument at 0x7f2777626bf0>,\n",
       " 'original_element': <LTTextBoxHorizontal(-1) 72.000,110.310,285.558,121.350 'intervention/administering study intervention.  \\n'>,\n",
       " '_index': 46,\n",
       " '_PDFElement__page_number': 2,\n",
       " '_PDFElement__font_size_precision': 1,\n",
       " 'tags': set(),\n",
       " 'bounding_box': <BoundingBox x0=72.0, x1=285.55752, y0=110.31023999999998, y1=121.35023999999997>}"
      ]
     },
     "metadata": {},
     "output_type": "display_data"
    },
    {
     "data": {
      "text/plain": [
       "{'document': <py_pdf_parser.components.PDFDocument at 0x7f2777626bf0>,\n",
       " 'original_element': <LTTextBoxHorizontal(-1) 534.425,68.070,542.495,79.110 '2 \\n'>,\n",
       " '_index': 47,\n",
       " '_PDFElement__page_number': 2,\n",
       " '_PDFElement__font_size_precision': 1,\n",
       " 'tags': set(),\n",
       " 'bounding_box': <BoundingBox x0=534.4248, x1=542.49504, y0=68.07023999999997, y1=79.11023999999996>}"
      ]
     },
     "metadata": {},
     "output_type": "display_data"
    },
    {
     "data": {
      "text/plain": [
       "{'document': <py_pdf_parser.components.PDFDocument at 0x7f2777626bf0>,\n",
       " 'original_element': <LTTextBoxHorizontal(-1) 72.000,688.470,542.512,716.731 '8.2   Confidentiality and Privacy  \\nParticipant confidentiality and privacy is strictly held in trust by the participating investigators, their staff, \\n'>,\n",
       " '_index': 48,\n",
       " '_PDFElement__page_number': 3,\n",
       " '_PDFElement__font_size_precision': 1,\n",
       " 'tags': set(),\n",
       " 'bounding_box': <BoundingBox x0=72.0, x1=542.511551999999, y0=688.47024, y1=716.73128886>}"
      ]
     },
     "metadata": {},
     "output_type": "display_data"
    },
    {
     "data": {
      "text/plain": [
       "{'document': <py_pdf_parser.components.PDFDocument at 0x7f2777626bf0>,\n",
       " 'original_element': <LTTextBoxHorizontal(-1) 72.000,668.310,542.338,679.350 'and the sponsor(s) and their interventions. This confidentiality is extended to cover testing of biological \\n'>,\n",
       " '_index': 49,\n",
       " '_PDFElement__page_number': 3,\n",
       " '_PDFElement__font_size_precision': 1,\n",
       " 'tags': set(),\n",
       " 'bounding_box': <BoundingBox x0=72.0, x1=542.3382239999999, y0=668.31024, y1=679.35024>}"
      ]
     },
     "metadata": {},
     "output_type": "display_data"
    },
    {
     "data": {
      "text/plain": [
       "{'document': <py_pdf_parser.components.PDFDocument at 0x7f2777626bf0>,\n",
       " 'original_element': <LTTextBoxHorizontal(-1) 72.000,648.150,467.369,659.190 'samples and genetic tests in addition to the clinical information relating to participants.  \\n'>,\n",
       " '_index': 50,\n",
       " '_PDFElement__page_number': 3,\n",
       " '_PDFElement__font_size_precision': 1,\n",
       " 'tags': set(),\n",
       " 'bounding_box': <BoundingBox x0=72.0, x1=467.36904, y0=648.15024, y1=659.19024>}"
      ]
     },
     "metadata": {},
     "output_type": "display_data"
    },
    {
     "data": {
      "text/plain": [
       "{'document': <py_pdf_parser.components.PDFDocument at 0x7f2777626bf0>,\n",
       " 'original_element': <LTTextBoxHorizontal(-1) 72.000,602.070,542.492,630.331 '8.3  Data Handling and Record Keeping  \\nStudy documents should be retained for a minimum of 2 years. These documents should be retained for \\n'>,\n",
       " '_index': 51,\n",
       " '_PDFElement__page_number': 3,\n",
       " '_PDFElement__font_size_precision': 1,\n",
       " 'tags': set(),\n",
       " 'bounding_box': <BoundingBox x0=72.0, x1=542.49168, y0=602.07024, y1=630.33128886>}"
      ]
     },
     "metadata": {},
     "output_type": "display_data"
    },
    {
     "data": {
      "text/plain": [
       "{'document': <py_pdf_parser.components.PDFDocument at 0x7f2777626bf0>,\n",
       " 'original_element': <LTTextBoxHorizontal(-1) 72.000,581.910,542.349,592.950 'a longer period, however, if required by local regulations. No records will be destroyed without the written \\n'>,\n",
       " '_index': 52,\n",
       " '_PDFElement__page_number': 3,\n",
       " '_PDFElement__font_size_precision': 1,\n",
       " 'tags': set(),\n",
       " 'bounding_box': <BoundingBox x0=72.0, x1=542.349312, y0=581.91024, y1=592.95024>}"
      ]
     },
     "metadata": {},
     "output_type": "display_data"
    },
    {
     "data": {
      "text/plain": [
       "{'document': <py_pdf_parser.components.PDFDocument at 0x7f2777626bf0>,\n",
       " 'original_element': <LTTextBoxHorizontal(-1) 72.000,561.990,164.971,573.030 'consent of the FDA.  \\n'>,\n",
       " '_index': 53,\n",
       " '_PDFElement__page_number': 3,\n",
       " '_PDFElement__font_size_precision': 1,\n",
       " 'tags': set(),\n",
       " 'bounding_box': <BoundingBox x0=72.0, x1=164.971104, y0=561.99024, y1=573.0302399999999>}"
      ]
     },
     "metadata": {},
     "output_type": "display_data"
    },
    {
     "data": {
      "text/plain": [
       "{'document': <py_pdf_parser.components.PDFDocument at 0x7f2777626bf0>,\n",
       " 'original_element': <LTTextBoxHorizontal(-1) 72.000,515.670,542.471,543.931 '8.4 Protocol Deviations  \\nA protocol deviation is any noncompliance with the clinical trial protocol, International Conference on \\n'>,\n",
       " '_index': 54,\n",
       " '_PDFElement__page_number': 3,\n",
       " '_PDFElement__font_size_precision': 1,\n",
       " 'tags': set(),\n",
       " 'bounding_box': <BoundingBox x0=72.0, x1=542.470656, y0=515.67024, y1=543.93128886>}"
      ]
     },
     "metadata": {},
     "output_type": "display_data"
    },
    {
     "data": {
      "text/plain": [
       "{'document': <py_pdf_parser.components.PDFDocument at 0x7f2777626bf0>,\n",
       " 'original_element': <LTTextBoxHorizontal(-1) 72.000,495.750,542.590,506.790 'Harmonization  Good  Clinical  Practice  (ICH  GCP),  requirements.  The  noncompliance  may  be  either  the \\n'>,\n",
       " '_index': 55,\n",
       " '_PDFElement__page_number': 3,\n",
       " '_PDFElement__font_size_precision': 1,\n",
       " 'tags': set(),\n",
       " 'bounding_box': <BoundingBox x0=72.0, x1=542.5896720000001, y0=495.75023999999996, y1=506.79024>}"
      ]
     },
     "metadata": {},
     "output_type": "display_data"
    },
    {
     "data": {
      "text/plain": [
       "{'document': <py_pdf_parser.components.PDFDocument at 0x7f2777626bf0>,\n",
       " 'original_element': <LTTextBoxHorizontal(-1) 72.000,475.590,542.508,486.630 'participant, the investigator, or the study site staff. As a result of deviations, corrective actions are to be \\n'>,\n",
       " '_index': 56,\n",
       " '_PDFElement__page_number': 3,\n",
       " '_PDFElement__font_size_precision': 1,\n",
       " 'tags': set(),\n",
       " 'bounding_box': <BoundingBox x0=72.0, x1=542.5082399999994, y0=475.59023999999994, y1=486.63023999999996>}"
      ]
     },
     "metadata": {},
     "output_type": "display_data"
    },
    {
     "data": {
      "text/plain": [
       "{'document': <py_pdf_parser.components.PDFDocument at 0x7f2777626bf0>,\n",
       " 'original_element': <LTTextBoxHorizontal(-1) 72.000,455.430,301.472,466.470 'developed by the site and implemented promptly.  \\n'>,\n",
       " '_index': 57,\n",
       " '_PDFElement__page_number': 3,\n",
       " '_PDFElement__font_size_precision': 1,\n",
       " 'tags': set(),\n",
       " 'bounding_box': <BoundingBox x0=72.0, x1=301.47216000000003, y0=455.43023999999997, y1=466.47024>}"
      ]
     },
     "metadata": {},
     "output_type": "display_data"
    },
    {
     "data": {
      "text/plain": [
       "{'document': <py_pdf_parser.components.PDFDocument at 0x7f2777626bf0>,\n",
       " 'original_element': <LTTextBoxHorizontal(-1) 67.500,371.190,542.338,430.249 '9.0  REFERENCES  \\n1. Comprehensive review of epidemiology, scope, and impact of spinal pain. Manchikanti L, Singh V, Datta \\nS,  Cohen  SP,  Hirsch \\nJA. https://pubmed.ncbi.nlm.nih.gov/19668291/ Pain  Physician. 2009;12:35–\\n70. [PubMed] [Google Scholar] \\n'>,\n",
       " '_index': 58,\n",
       " '_PDFElement__page_number': 3,\n",
       " '_PDFElement__font_size_precision': 1,\n",
       " 'tags': set(),\n",
       " 'bounding_box': <BoundingBox x0=67.5, x1=542.338032, y0=371.19023999999996, y1=430.24895999999995>}"
      ]
     },
     "metadata": {},
     "output_type": "display_data"
    },
    {
     "data": {
      "text/plain": [
       "{'document': <py_pdf_parser.components.PDFDocument at 0x7f2777626bf0>,\n",
       " 'original_element': <LTTextBoxHorizontal(-1) 72.000,334.950,542.501,359.910 '2. The  sacroiliac  joint  in  chronic  low  back  pain.  Schwarzer  AC,  Aprill  CN,  Bogduk  N. Spine  (Phila  Pa \\n1976) 1995;20:31–37. [PubMed] [Google Scholar] \\n'>,\n",
       " '_index': 59,\n",
       " '_PDFElement__page_number': 3,\n",
       " '_PDFElement__font_size_precision': 1,\n",
       " 'tags': set(),\n",
       " 'bounding_box': <BoundingBox x0=72.0, x1=542.50056, y0=334.95023999999995, y1=359.91024>}"
      ]
     },
     "metadata": {},
     "output_type": "display_data"
    },
    {
     "data": {
      "text/plain": [
       "{'document': <py_pdf_parser.components.PDFDocument at 0x7f2777626bf0>,\n",
       " 'original_element': <LTTextBoxHorizontal(-1) 72.000,298.710,542.497,323.910 '3. How  often  is  low  back  pain  not  coming  from  the  back?  Sembrano  JN,  Polly  DW  Jr. Spine  (Phila  Pa \\n1976) 2009;34:27–32. [PubMed] [Google Scholar] \\n'>,\n",
       " '_index': 60,\n",
       " '_PDFElement__page_number': 3,\n",
       " '_PDFElement__font_size_precision': 1,\n",
       " 'tags': set(),\n",
       " 'bounding_box': <BoundingBox x0=72.0, x1=542.4972, y0=298.71023999999994, y1=323.91024>}"
      ]
     },
     "metadata": {},
     "output_type": "display_data"
    },
    {
     "data": {
      "text/plain": [
       "{'document': <py_pdf_parser.components.PDFDocument at 0x7f2777626bf0>,\n",
       " 'original_element': <LTTextBoxHorizontal(-1) 72.000,248.310,542.482,287.670 '4. The sacro-iliac joint: a potentially painful enigma. Update on the diagnosis and treatment of pain from \\nmicro-trauma. Le Huec JC, Tsoupras A, Leglise A, Heraudet P, Celarier G, Sturresson B. Orthop Traumatol \\nSurg Res. 2019;105:31–42. [PubMed] [Google Scholar] \\n'>,\n",
       " '_index': 61,\n",
       " '_PDFElement__page_number': 3,\n",
       " '_PDFElement__font_size_precision': 1,\n",
       " 'tags': set(),\n",
       " 'bounding_box': <BoundingBox x0=72.0, x1=542.4816959999999, y0=248.31023999999996, y1=287.67024>}"
      ]
     },
     "metadata": {},
     "output_type": "display_data"
    },
    {
     "data": {
      "text/plain": [
       "{'document': <py_pdf_parser.components.PDFDocument at 0x7f2777626bf0>,\n",
       " 'original_element': <LTTextBoxHorizontal(-1) 72.000,198.150,542.556,237.270 '5. Sacroiliac joint pain: is the medical world aware enough of its existence? Why not considering sacroiliac \\njoint  fusion  in  the  recalcitrant  cases?  Vanaclocha-Vanaclocha  V,  Sáiz-Sapena  N,  Vanaclocha  L. J  Spine \\nSurg. 2019;5:384–386. [PMC free article] [PubMed] [Google Scholar] \\n'>,\n",
       " '_index': 62,\n",
       " '_PDFElement__page_number': 3,\n",
       " '_PDFElement__font_size_precision': 1,\n",
       " 'tags': set(),\n",
       " 'bounding_box': <BoundingBox x0=72.0, x1=542.55552, y0=198.15023999999994, y1=237.27024>}"
      ]
     },
     "metadata": {},
     "output_type": "display_data"
    },
    {
     "data": {
      "text/plain": [
       "{'document': <py_pdf_parser.components.PDFDocument at 0x7f2777626bf0>,\n",
       " 'original_element': <LTTextBoxHorizontal(-1) 72.000,161.910,542.609,187.110 '6. Minimally invasive sacroiliac joint fusion: the current evidence. Martin CT, Haase L, Lender PA, Polly \\nDW. Int J Spine Surg. 2020;14:20–29. [PMC free article] [PubMed] [Google Scholar] \\n'>,\n",
       " '_index': 63,\n",
       " '_PDFElement__page_number': 3,\n",
       " '_PDFElement__font_size_precision': 1,\n",
       " 'tags': set(),\n",
       " 'bounding_box': <BoundingBox x0=72.0, x1=542.6085119999991, y0=161.91024, y1=187.11023999999998>}"
      ]
     },
     "metadata": {},
     "output_type": "display_data"
    },
    {
     "data": {
      "text/plain": [
       "{'document': <py_pdf_parser.components.PDFDocument at 0x7f2777626bf0>,\n",
       " 'original_element': <LTTextBoxHorizontal(-1) 72.000,111.510,542.544,150.870 '7. Randomized trial of sacroiliac joint arthrodesis compared with conservative management for chronic \\nlow back pain attributed to the sacroiliac joint. Dengler J, Kools D, Pflugmacher R, et al.  J Bone Joint Surg \\nAm. 2019;101:400–411. [PMC free article] [PubMed] [Google Scholar] \\n'>,\n",
       " '_index': 64,\n",
       " '_PDFElement__page_number': 3,\n",
       " '_PDFElement__font_size_precision': 1,\n",
       " 'tags': set(),\n",
       " 'bounding_box': <BoundingBox x0=72.0, x1=542.5444799999995, y0=111.51023999999997, y1=150.87023999999997>}"
      ]
     },
     "metadata": {},
     "output_type": "display_data"
    },
    {
     "data": {
      "text/plain": [
       "{'document': <py_pdf_parser.components.PDFDocument at 0x7f2777626bf0>,\n",
       " 'original_element': <LTTextBoxHorizontal(-1) 534.425,68.070,542.495,79.110 '3 \\n'>,\n",
       " '_index': 65,\n",
       " '_PDFElement__page_number': 3,\n",
       " '_PDFElement__font_size_precision': 1,\n",
       " 'tags': set(),\n",
       " 'bounding_box': <BoundingBox x0=534.4248, x1=542.49504, y0=68.07023999999997, y1=79.11023999999996>}"
      ]
     },
     "metadata": {},
     "output_type": "display_data"
    },
    {
     "data": {
      "text/plain": [
       "{'document': <py_pdf_parser.components.PDFDocument at 0x7f2777626bf0>,\n",
       " 'original_element': <LTTextBoxHorizontal(-1) 117.367,692.310,165.538,703.350 'treatment \\n'>,\n",
       " '_index': 66,\n",
       " '_PDFElement__page_number': 4,\n",
       " '_PDFElement__font_size_precision': 1,\n",
       " 'tags': set(),\n",
       " 'bounding_box': <BoundingBox x0=117.366672, x1=165.53750400000004, y0=692.31024, y1=703.35024>}"
      ]
     },
     "metadata": {},
     "output_type": "display_data"
    },
    {
     "data": {
      "text/plain": [
       "{'document': <py_pdf_parser.components.PDFDocument at 0x7f2777626bf0>,\n",
       " 'original_element': <LTTextBoxHorizontal(-1) 174.333,692.310,189.823,703.350 'for \\n'>,\n",
       " '_index': 67,\n",
       " '_PDFElement__page_number': 4,\n",
       " '_PDFElement__font_size_precision': 1,\n",
       " 'tags': set(),\n",
       " 'bounding_box': <BoundingBox x0=174.33307200000004, x1=189.823296, y0=692.31024, y1=703.35024>}"
      ]
     },
     "metadata": {},
     "output_type": "display_data"
    },
    {
     "data": {
      "text/plain": [
       "{'document': <py_pdf_parser.components.PDFDocument at 0x7f2777626bf0>,\n",
       " 'original_element': <LTTextBoxHorizontal(-1) 198.619,692.310,242.492,703.350 'sacroiliac \\n'>,\n",
       " '_index': 68,\n",
       " '_PDFElement__page_number': 4,\n",
       " '_PDFElement__font_size_precision': 1,\n",
       " 'tags': set(),\n",
       " 'bounding_box': <BoundingBox x0=198.61886400000003, x1=242.4918239999999, y0=692.31024, y1=703.35024>}"
      ]
     },
     "metadata": {},
     "output_type": "display_data"
    },
    {
     "data": {
      "text/plain": [
       "{'document': <py_pdf_parser.components.PDFDocument at 0x7f2777626bf0>,\n",
       " 'original_element': <LTTextBoxHorizontal(-1) 72.000,664.230,542.578,717.510 '8. 1-year  results  of  a  randomized  controlled  trial  of  conservative  management  vs.  minimally  invasive \\nsurgical \\nJD,  Kools  D,  Pflugmacher  R,  et \\njoint  pain.  Dengler \\nal.  https://www.painphysicianjournal.com/current/pdf?article=NDYwOQ%3D%3D&journal=107. Pain \\nPhysician. 2017;20:537–550. [PubMed] [Google Scholar] \\n'>,\n",
       " '_index': 69,\n",
       " '_PDFElement__page_number': 4,\n",
       " '_PDFElement__font_size_precision': 1,\n",
       " 'tags': set(),\n",
       " 'bounding_box': <BoundingBox x0=72.0, x1=542.5780559999996, y0=664.23024, y1=717.51024>}"
      ]
     },
     "metadata": {},
     "output_type": "display_data"
    },
    {
     "data": {
      "text/plain": [
       "{'document': <py_pdf_parser.components.PDFDocument at 0x7f2777626bf0>,\n",
       " 'original_element': <LTTextBoxHorizontal(-1) 72.000,627.990,542.616,653.190 '9. Minimally invasive sacroiliac joint fusion vs. conservative management for chronic sacroiliac joint pain. \\nPolly DW Jr. J Spine Surg. 2019;5:381–383. [PMC free article][PubMed] [Google Scholar] \\n'>,\n",
       " '_index': 70,\n",
       " '_PDFElement__page_number': 4,\n",
       " '_PDFElement__font_size_precision': 1,\n",
       " 'tags': set(),\n",
       " 'bounding_box': <BoundingBox x0=72.0, x1=542.616239999999, y0=627.99024, y1=653.19024>}"
      ]
     },
     "metadata": {},
     "output_type": "display_data"
    },
    {
     "data": {
      "text/plain": [
       "{'document': <py_pdf_parser.components.PDFDocument at 0x7f2777626bf0>,\n",
       " 'original_element': <LTTextBoxHorizontal(-1) 72.000,577.590,542.497,616.950 '10. Two-year outcomes from a randomized controlled trial of minimally invasive sacroiliac joint fusion vs. \\nnon-surgical management for sacroiliac joint dysfunction. Polly DW, Swofford J, Whang PG, et al.  Int J \\nSpine Surg. 2016;10:28. [PMC free article] [PubMed] [Google Scholar] \\n'>,\n",
       " '_index': 71,\n",
       " '_PDFElement__page_number': 4,\n",
       " '_PDFElement__font_size_precision': 1,\n",
       " 'tags': set(),\n",
       " 'bounding_box': <BoundingBox x0=72.0, x1=542.4969600000001, y0=577.59024, y1=616.95024>}"
      ]
     },
     "metadata": {},
     "output_type": "display_data"
    },
    {
     "data": {
      "text/plain": [
       "{'document': <py_pdf_parser.components.PDFDocument at 0x7f2777626bf0>,\n",
       " 'original_element': <LTTextBoxHorizontal(-1) 72.000,527.430,542.564,566.550 '11. Six-month  outcomes  from  a  randomized  controlled  trial  of  minimally  invasive  SI  joint  fusion  with \\ntriangular  titanium  implants vs  conservative  management.  Sturesson  B,  Kools  D,  Pflugmacher  R, \\nGasbarrini A, Prestamburgo D, Dengler J. Eur Spine J. 2017;26:708–719.[PubMed] [Google Scholar] \\n'>,\n",
       " '_index': 72,\n",
       " '_PDFElement__page_number': 4,\n",
       " '_PDFElement__font_size_precision': 1,\n",
       " 'tags': set(),\n",
       " 'bounding_box': <BoundingBox x0=72.0, x1=542.5638000000001, y0=527.43024, y1=566.55024>}"
      ]
     },
     "metadata": {},
     "output_type": "display_data"
    },
    {
     "data": {
      "text/plain": [
       "{'document': <py_pdf_parser.components.PDFDocument at 0x7f2777626bf0>,\n",
       " 'original_element': <LTTextBoxHorizontal(-1) 72.000,477.030,542.592,516.390 '12. Minimally invasive sacroiliac joint fusion, radiofrequency denervation, and conservative management \\nfor sacroiliac joint pain: 6-year comparative case series. Vanaclocha V, Herrera JM, Sáiz-Sapena N, Rivera-\\nPaz M, Verdú-López F. Neurosurgery. 2018;82:48–55. [PubMed] [Google Scholar] \\n'>,\n",
       " '_index': 73,\n",
       " '_PDFElement__page_number': 4,\n",
       " '_PDFElement__font_size_precision': 1,\n",
       " 'tags': set(),\n",
       " 'bounding_box': <BoundingBox x0=72.0, x1=542.591616, y0=477.03023999999994, y1=516.39024>}"
      ]
     },
     "metadata": {},
     "output_type": "display_data"
    },
    {
     "data": {
      "text/plain": [
       "{'document': <py_pdf_parser.components.PDFDocument at 0x7f2777626bf0>,\n",
       " 'original_element': <LTTextBoxHorizontal(-1) 534.425,68.070,542.495,79.110 '4 \\n'>,\n",
       " '_index': 74,\n",
       " '_PDFElement__page_number': 4,\n",
       " '_PDFElement__font_size_precision': 1,\n",
       " 'tags': set(),\n",
       " 'bounding_box': <BoundingBox x0=534.4248, x1=542.49504, y0=68.07023999999997, y1=79.11023999999996>}"
      ]
     },
     "metadata": {},
     "output_type": "display_data"
    }
   ],
   "source": [
    "from py_pdf_parser.loaders import load_file\n",
    "\n",
    "filepath = \"NCT00000000_Genesys.pdf\"\n",
    "document = load_file(filepath)\n",
    "\n",
    "for elem in document.elements:\n",
    "    # print(elem.text(), elem.tags)\n",
    "    display(vars(elem))"
   ]
  },
  {
   "cell_type": "code",
   "execution_count": null,
   "metadata": {},
   "outputs": [],
   "source": []
  }
 ],
 "metadata": {
  "kernelspec": {
   "display_name": "py310",
   "language": "python",
   "name": "python3"
  },
  "language_info": {
   "codemirror_mode": {
    "name": "ipython",
    "version": 3
   },
   "file_extension": ".py",
   "mimetype": "text/x-python",
   "name": "python",
   "nbconvert_exporter": "python",
   "pygments_lexer": "ipython3",
   "version": "3.10.10"
  },
  "orig_nbformat": 4
 },
 "nbformat": 4,
 "nbformat_minor": 2
}
